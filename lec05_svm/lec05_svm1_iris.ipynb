{
 "cells": [
  {
   "cell_type": "markdown",
   "metadata": {},
   "source": [
    "# Support Vector Machines\n",
    "\n",
    "초평면은 n 차원 공간에서 n-1 서브공간이다.\n",
    "\n",
    "SVM은 학습데이터에서 클래스들 사이의 마진(margin)을 최대화 하는 초평면을 구하고,\n",
    "\n",
    "데이터를 분류한다"
   ]
  },
  {
   "cell_type": "markdown",
   "metadata": {},
   "source": [
    "## 실습01.  마진과 서프트 벡터 이해하기"
   ]
  },
  {
   "cell_type": "code",
   "execution_count": 1,
   "metadata": {},
   "outputs": [],
   "source": [
    "import numpy as np \n",
    "import pandas as pd \n",
    "import matplotlib.pyplot as plt\n",
    "import seaborn as sns"
   ]
  },
  {
   "cell_type": "code",
   "execution_count": 2,
   "metadata": {},
   "outputs": [],
   "source": [
    "from sklearn import datasets\n",
    "from sklearn import svm   \n",
    "from sklearn.metrics import accuracy_score\n",
    "from sklearn.preprocessing import PolynomialFeatures, StandardScaler\n",
    "from sklearn.svm import LinearSVC\n",
    "from sklearn.svm import SVC\n",
    "from sklearn.model_selection import train_test_split"
   ]
  },
  {
   "cell_type": "code",
   "execution_count": null,
   "metadata": {},
   "outputs": [],
   "source": [
    "iris = datasets.load_iris()\n",
    "X = iris['data'][:,(2,3)] "
   ]
  },
  {
   "cell_type": "code",
   "execution_count": null,
   "metadata": {},
   "outputs": [],
   "source": [
    "scaler = StandardScaler()\n",
    "Xstan = scaler.fit_transform(X)\n",
    "\n",
    "data = pd.DataFrame(data=Xstan, \n",
    "       columns=['petal length','petal width'])\n",
    "data['target'] = iris['target']\n",
    "data = data[data['target']!=2]  \n",
    "# 0, 1에 관삼 Iris-setosa and Iris-Versicolor\n",
    "data.head()"
   ]
  },
  {
   "cell_type": "code",
   "execution_count": null,
   "metadata": {},
   "outputs": [],
   "source": [
    "sns.lmplot(x='petal length',y='petal width',\n",
    "           hue='target',data=data, fit_reg=False, legend=False)\n",
    "\n",
    "plt.legend(['Iris-Setosa','Iris-Versicolor'], fontsize = 14)\n",
    "plt.xlabel('petal length (scaled)', fontsize = 18)\n",
    "plt.ylabel('petal width (scaled)', fontsize = 18)\n",
    "plt.show()"
   ]
  },
  {
   "cell_type": "code",
   "execution_count": null,
   "metadata": {},
   "outputs": [],
   "source": [
    "svc = LinearSVC(C=1,loss=\"hinge\")\n",
    "\n",
    "svc.fit(data[['petal length','petal width']].values,data['target'].values)"
   ]
  },
  {
   "cell_type": "code",
   "execution_count": null,
   "metadata": {},
   "outputs": [],
   "source": [
    "# 그림을 그리기 위한 파라미터 설정 \n",
    "w0,w1 = svc.coef_[0]\n",
    "b = svc.intercept_[0]\n",
    "x0 = np.linspace(-1.7, 0.7, num=100) \n",
    "x1_decision = -b/w1 - w0/w1*x0 # 결정경계\n",
    "x1_plus = x1_decision + 1/w1   # +1 마진\n",
    "x1_minus = x1_decision - 1/w1  # -1 마진 "
   ]
  },
  {
   "cell_type": "code",
   "execution_count": null,
   "metadata": {},
   "outputs": [],
   "source": [
    "sns.lmplot(x='petal length',y='petal width',\n",
    "           hue='target',data=data, fit_reg=False, legend=False)\n",
    "plt.plot(x0,x1_decision, color='grey')\n",
    "plt.plot(x0,x1_plus,x0,x1_minus,color='grey', linestyle='--')\n",
    "plt.legend(['decision boundary','margin','margin','Setosa','Versicolor'], \n",
    "           fontsize = 14, loc='center left', bbox_to_anchor=(1.05,0.5))\n",
    "plt.xlabel('petal length (scaled)', fontsize = 18)\n",
    "plt.ylabel('petal width (scaled)', fontsize = 18)\n",
    "plt.title('[C = 1]', fontsize = 16)\n",
    "plt.ylim(-1.6,1)\n",
    "plt.xlim(-1.7,0.8)\n",
    "plt.show()"
   ]
  },
  {
   "cell_type": "code",
   "execution_count": null,
   "metadata": {},
   "outputs": [],
   "source": [
    "svc = LinearSVC(C=1000,loss=\"hinge\") # C=10000\n",
    "svc.fit(data[['petal length','petal width']].values,data['target'].values)\n",
    "\n",
    "w0,w1 = svc.coef_[0]\n",
    "b = svc.intercept_[0]\n",
    "\n",
    "x0 = np.linspace(-1.7, 0.7, num=100)\n",
    "x1_decision = -b/w1 - w0/w1*x0\n",
    "x1_plus = x1_decision + 1/w1\n",
    "x1_minus = x1_decision - 1/w1"
   ]
  },
  {
   "cell_type": "code",
   "execution_count": null,
   "metadata": {},
   "outputs": [],
   "source": [
    "sns.lmplot(x='petal length',y='petal width',\n",
    "           hue='target',data=data, fit_reg=False, legend=False)\n",
    "plt.plot(x0,x1_decision, color='grey')\n",
    "plt.plot(x0,x1_plus,x0,x1_minus,color='grey', linestyle='--')\n",
    "plt.legend(['decision boundary','margin','margin','Iris-Setosa','Iris-Versicolor'], \n",
    "           fontsize = 14, loc='center left', bbox_to_anchor=(1.05,0.5))\n",
    "plt.xlabel('petal length (scaled)', fontsize = 18)\n",
    "plt.ylabel('petal width (scaled)', fontsize = 18)\n",
    "plt.title('[C = 1000]', fontsize = 20)\n",
    "plt.ylim(-1.6,1)\n",
    "plt.xlim(-1.7,0.8)\n",
    "plt.show()"
   ]
  },
  {
   "cell_type": "code",
   "execution_count": null,
   "metadata": {},
   "outputs": [],
   "source": []
  },
  {
   "cell_type": "markdown",
   "metadata": {},
   "source": [
    "## 실습02.  SVM IRIS 데이터에 적용"
   ]
  },
  {
   "cell_type": "code",
   "execution_count": null,
   "metadata": {},
   "outputs": [],
   "source": [
    "iris_dataset = datasets.load_iris()"
   ]
  },
  {
   "cell_type": "markdown",
   "metadata": {},
   "source": [
    "## Visualizing the relationship between sepal and target classes"
   ]
  },
  {
   "cell_type": "code",
   "execution_count": null,
   "metadata": {
    "scrolled": true
   },
   "outputs": [],
   "source": [
    "def visuvalize_sepal_data():\n",
    "    iris = datasets.load_iris()\n",
    "    X = iris.data[:, :2]  # 꽃받침 길이, 너비 \n",
    "    y = iris.target\n",
    "   \n",
    "    plt.scatter(X[:, 0], X[:, 1], c=y, cmap=plt.cm.coolwarm)\n",
    "    plt.xlabel('Sepal length')\n",
    "    plt.ylabel('Sepal width')\n",
    "    plt.title('Sepal Width & Length')\n",
    "    plt.show()\n",
    " \n",
    "visuvalize_sepal_data()"
   ]
  },
  {
   "cell_type": "markdown",
   "metadata": {},
   "source": [
    "## Visualizing the relationship between Petal and target classes"
   ]
  },
  {
   "cell_type": "code",
   "execution_count": null,
   "metadata": {},
   "outputs": [],
   "source": [
    "def visuvalize_petal_data():\n",
    "    iris = datasets.load_iris()\n",
    "    X = iris.data[:, 2:]  # 꽃잎(petal)\n",
    "    y = iris.target\n",
    "    plt.figure(figsize=(8,6))\n",
    "    plt.scatter(X[:, 0], X[:, 1], c=y, cmap=plt.cm.coolwarm)\n",
    "    plt.xlabel('Petal length')\n",
    "    plt.ylabel('Petal width')\n",
    "    plt.title('Petal Width & Length')\n",
    "    plt.show()\n",
    " \n",
    "visuvalize_petal_data()"
   ]
  },
  {
   "cell_type": "markdown",
   "metadata": {},
   "source": [
    "## SVM의 커널 사용 \n",
    "#Modeling Different Kernel Svm classifier using Iris Sepal features"
   ]
  },
  {
   "cell_type": "code",
   "execution_count": null,
   "metadata": {},
   "outputs": [],
   "source": [
    "iris = datasets.load_iris()\n",
    "X = iris.data[:, :2]  # 꽃받침\n",
    "y = iris.target\n",
    "C = 1.0  "
   ]
  },
  {
   "cell_type": "code",
   "execution_count": null,
   "metadata": {},
   "outputs": [],
   "source": [
    "svc = svm.SVC(kernel='linear', C=C)\n",
    "svc.fit(X, y)"
   ]
  },
  {
   "cell_type": "code",
   "execution_count": null,
   "metadata": {},
   "outputs": [],
   "source": [
    "lin_svc = svm.LinearSVC(C=C)\n",
    "lin_svc.fit(X, y)"
   ]
  },
  {
   "cell_type": "code",
   "execution_count": null,
   "metadata": {},
   "outputs": [],
   "source": [
    "rbf_svc = svm.SVC(kernel='rbf', gamma=0.7, C=C)\n",
    "rbf_svc.fit(X, y)"
   ]
  },
  {
   "cell_type": "code",
   "execution_count": null,
   "metadata": {},
   "outputs": [],
   "source": [
    "poly_svc = svm.SVC(kernel='poly', degree=3, C=C)\n",
    "poly_svc.fit(X, y)"
   ]
  },
  {
   "cell_type": "markdown",
   "metadata": {},
   "source": [
    "## Visualizing the modeled svm classifiers with Iris Sepal features"
   ]
  },
  {
   "cell_type": "code",
   "execution_count": null,
   "metadata": {
    "scrolled": true
   },
   "outputs": [],
   "source": [
    "h = .02  # step size in the mesh \n",
    "\n",
    "x_min, x_max = X[:, 0].min() - 1, X[:, 0].max() + 1\n",
    "y_min, y_max = X[:, 1].min() - 1, X[:, 1].max() + 1\n",
    "xx, yy = np.meshgrid(np.arange(x_min, x_max, h),np.arange(y_min, y_max, h))\n",
    "titles = ['SVC with linear kernel','LinearSVC (linear kernel)',\n",
    "        'SVC with RBF kernel','SVC with polynomial (degree 3) kernel'] \n",
    "plt.figure(figsize=(16,16))        \n",
    "\n",
    "for i, clf in enumerate((svc, lin_svc, rbf_svc, poly_svc)):\n",
    "     # Plot the decision boundary. For that, we will assign a color to each\n",
    "     # point in the mesh [x_min, x_max]x[y_min, y_max].\n",
    "     plt.subplot(2, 2, i + 1)\n",
    "     plt.subplots_adjust(wspace=0.4, hspace=0.4) \n",
    "     Z = clf.predict(np.c_[xx.ravel(), yy.ravel()])\n",
    "     Z = Z.reshape(xx.shape)\n",
    "     plt.contourf(xx, yy, Z, cmap=plt.cm.coolwarm, alpha=0.2)\n",
    "     plt.scatter(X[:, 0], X[:, 1], c=y, cmap=plt.cm.coolwarm)\n",
    "     plt.xlabel('Sepal length',fontsize = 20)\n",
    "     plt.ylabel('Sepal width',fontsize = 20)\n",
    "     plt.xlim(xx.min(), xx.max())\n",
    "     plt.ylim(yy.min(), yy.max())\n",
    "     plt.xticks(())\n",
    "     plt.yticks(())\n",
    "     plt.title(titles[i],fontsize = 26)\n",
    "        \n",
    "plt.show()"
   ]
  },
  {
   "cell_type": "code",
   "execution_count": null,
   "metadata": {},
   "outputs": [],
   "source": [
    "predictions = lin_svc.predict(iris.data[:, :2])\n",
    "accuracy_score(predictions, iris.target)"
   ]
  },
  {
   "cell_type": "markdown",
   "metadata": {},
   "source": [
    "## Modeling Different Kernel Svm classifier using Iris Petal features"
   ]
  },
  {
   "cell_type": "code",
   "execution_count": null,
   "metadata": {},
   "outputs": [],
   "source": [
    "iris = datasets.load_iris()\n",
    "X = iris.data[:, 2:]  # we only take the last two features.\n",
    "y = iris.target\n",
    "C = 1.0  # SVM regularization parameter\n",
    " \n",
    "# SVC with linear kernel\n",
    "svc = svm.SVC(kernel='linear', C=C).fit(X, y)\n",
    "# LinearSVC (linear kernel)\n",
    "lin_svc = svm.LinearSVC(C=C).fit(X, y)\n",
    "# SVC with RBF kernel\n",
    "rbf_svc = svm.SVC(kernel='rbf', gamma=0.7, C=C).fit(X, y)\n",
    "# SVC with polynomial (degree 3) kernel\n",
    "poly_svc = svm.SVC(kernel='poly', degree=3, C=C).fit(X, y)"
   ]
  },
  {
   "cell_type": "markdown",
   "metadata": {},
   "source": [
    "## Visualizing the modeled svm classifiers with Iris Petal features\n"
   ]
  },
  {
   "cell_type": "code",
   "execution_count": null,
   "metadata": {},
   "outputs": [],
   "source": [
    "h = .02  # step size in the mesh\n",
    "# create a mesh to plot in\n",
    "x_min, x_max = X[:, 0].min() - 1, X[:, 0].max() + 1\n",
    "y_min, y_max = X[:, 1].min() - 1, X[:, 1].max() + 1\n",
    "xx, yy = np.meshgrid(np.arange(x_min, x_max, h),np.arange(y_min, y_max, h))\n",
    "# title for the plots\n",
    "titles = ['SVC with linear kernel',\n",
    "      'LinearSVC (linear kernel)',\n",
    "      'SVC with RBF kernel',\n",
    "      'SVC with polynomial (degree 3) kernel']\n",
    " \n",
    "plt.figure(figsize=(14,12))\n",
    "for i, clf in enumerate((svc, lin_svc, rbf_svc, poly_svc)):\n",
    "    # Plot the decision boundary. For that, we will assign a color to each\n",
    "    # point in the mesh [x_min, x_max]x[y_min, y_max].\n",
    "    plt.subplot(2, 2, i + 1)\n",
    "    plt.subplots_adjust(wspace=0.4, hspace=0.4)\n",
    " \n",
    "    Z = clf.predict(np.c_[xx.ravel(), yy.ravel()])\n",
    " \n",
    "    # Put the result into a color plot\n",
    "    Z = Z.reshape(xx.shape)\n",
    "    plt.contourf(xx, yy, Z, cmap=plt.cm.coolwarm, alpha=0.15)\n",
    " \n",
    "    # Plot also the training points\n",
    "    plt.scatter(X[:, 0], X[:, 1], c=y, cmap=plt.cm.coolwarm)\n",
    "    plt.xlabel('Petal length',fontsize = 18)\n",
    "    plt.ylabel('Petal width',fontsize = 18)\n",
    "    plt.xlim(xx.min(), xx.max())\n",
    "    plt.ylim(yy.min(), yy.max())\n",
    "    plt.xticks(())\n",
    "    plt.yticks(())\n",
    "    plt.title(titles[i],fontsize = 18)\n",
    " \n",
    "plt.show()"
   ]
  },
  {
   "cell_type": "code",
   "execution_count": null,
   "metadata": {},
   "outputs": [],
   "source": [
    "predictions = lin_svc.predict(iris.data[:, 2:])"
   ]
  },
  {
   "cell_type": "code",
   "execution_count": null,
   "metadata": {},
   "outputs": [],
   "source": [
    "accuracy_score(predictions, iris.target)"
   ]
  },
  {
   "cell_type": "code",
   "execution_count": null,
   "metadata": {
    "scrolled": true
   },
   "outputs": [],
   "source": [
    "from sklearn.model_selection import cross_val_score\n",
    "\n",
    "scores = cross_val_score(lin_svc, iris.data, iris.target, cv=5)\n",
    "print(\"Accuracy: %0.2f (+/- %0.2f)\" % (scores.mean(), scores.std() * 2))"
   ]
  },
  {
   "cell_type": "markdown",
   "metadata": {},
   "source": [
    "## 실습 03. 비선형구분 SVM 예제"
   ]
  },
  {
   "cell_type": "code",
   "execution_count": 3,
   "metadata": {},
   "outputs": [
    {
     "data": {
      "text/html": [
       "<div>\n",
       "<style scoped>\n",
       "    .dataframe tbody tr th:only-of-type {\n",
       "        vertical-align: middle;\n",
       "    }\n",
       "\n",
       "    .dataframe tbody tr th {\n",
       "        vertical-align: top;\n",
       "    }\n",
       "\n",
       "    .dataframe thead th {\n",
       "        text-align: right;\n",
       "    }\n",
       "</style>\n",
       "<table border=\"1\" class=\"dataframe\">\n",
       "  <thead>\n",
       "    <tr style=\"text-align: right;\">\n",
       "      <th></th>\n",
       "      <th>x1</th>\n",
       "      <th>x2</th>\n",
       "      <th>y</th>\n",
       "    </tr>\n",
       "  </thead>\n",
       "  <tbody>\n",
       "    <tr>\n",
       "      <th>0</th>\n",
       "      <td>1.327241</td>\n",
       "      <td>-0.222425</td>\n",
       "      <td>1</td>\n",
       "    </tr>\n",
       "    <tr>\n",
       "      <th>1</th>\n",
       "      <td>-0.429116</td>\n",
       "      <td>1.071136</td>\n",
       "      <td>0</td>\n",
       "    </tr>\n",
       "    <tr>\n",
       "      <th>2</th>\n",
       "      <td>0.014901</td>\n",
       "      <td>0.003679</td>\n",
       "      <td>1</td>\n",
       "    </tr>\n",
       "    <tr>\n",
       "      <th>3</th>\n",
       "      <td>0.000352</td>\n",
       "      <td>1.087226</td>\n",
       "      <td>0</td>\n",
       "    </tr>\n",
       "    <tr>\n",
       "      <th>4</th>\n",
       "      <td>0.676553</td>\n",
       "      <td>0.857039</td>\n",
       "      <td>0</td>\n",
       "    </tr>\n",
       "  </tbody>\n",
       "</table>\n",
       "</div>"
      ],
      "text/plain": [
       "         x1        x2  y\n",
       "0  1.327241 -0.222425  1\n",
       "1 -0.429116  1.071136  0\n",
       "2  0.014901  0.003679  1\n",
       "3  0.000352  1.087226  0\n",
       "4  0.676553  0.857039  0"
      ]
     },
     "execution_count": 3,
     "metadata": {},
     "output_type": "execute_result"
    }
   ],
   "source": [
    "from sklearn.datasets import make_moons\n",
    "\n",
    "X,y=make_moons(noise=0.1, random_state=2) \n",
    "\n",
    "data = pd.DataFrame(data = X, columns=['x1','x2'])\n",
    "data['y']=y\n",
    "data.head()"
   ]
  },
  {
   "cell_type": "code",
   "execution_count": 4,
   "metadata": {},
   "outputs": [
    {
     "name": "stderr",
     "output_type": "stream",
     "text": [
      "C:\\Users\\user\\Anaconda3\\envs\\tf-cpu\\lib\\site-packages\\seaborn\\regression.py:546: UserWarning: The `size` paramter has been renamed to `height`; please update your code.\n",
      "  warnings.warn(msg, UserWarning)\n"
     ]
    },
    {
     "data": {
      "image/png": "[encoded data removed]",
      "text/plain": [
       "<Figure size 426.375x288 with 1 Axes>"
      ]
     },
     "metadata": {
      "needs_background": "light"
     },
     "output_type": "display_data"
    }
   ],
   "source": [
    "sns.lmplot(x='x1',y='x2',hue='y',data=data, \n",
    "           fit_reg=False, legend=True, size=4, aspect=4/3)\n",
    "plt.xlabel('x1', fontsize = 18)\n",
    "plt.ylabel('x2', fontsize = 18)\n",
    "plt.show()"
   ]
  },
  {
   "cell_type": "code",
   "execution_count": 5,
   "metadata": {},
   "outputs": [
    {
     "name": "stdout",
     "output_type": "stream",
     "text": [
      "Shape of X before tranformation: (100, 2)\n",
      "Shape of X aftere tranformation: (100, 9)\n"
     ]
    }
   ],
   "source": [
    "# tranform the features, here we use a 3rd degree polynomials\n",
    "print('Shape of X before tranformation:', X.shape)\n",
    "poly = PolynomialFeatures(degree = 3, include_bias=False)\n",
    "Xpoly = poly.fit_transform(X)\n",
    "print('Shape of X aftere tranformation:', Xpoly.shape)"
   ]
  },
  {
   "cell_type": "code",
   "execution_count": 6,
   "metadata": {},
   "outputs": [
    {
     "name": "stdout",
     "output_type": "stream",
     "text": [
      "[0.14736736] [[-1.48196342 -0.38934263 -3.63175128 -0.24403671  0.84162638  6.2076445\n",
      "  -0.98199026  0.70829665 -1.94867363]]\n"
     ]
    }
   ],
   "source": [
    "scaler = StandardScaler()\n",
    "Xpolystan = scaler.fit_transform(Xpoly)\n",
    "\n",
    "svm_clf = LinearSVC(C=10,loss='hinge',max_iter=10000)\n",
    "svm_clf.fit(Xpolystan,y)\n",
    "print(svm_clf.intercept_, svm_clf.coef_)"
   ]
  },
  {
   "cell_type": "code",
   "execution_count": 7,
   "metadata": {},
   "outputs": [],
   "source": [
    "# preparing to plot decision boundary of the classifier\n",
    "def make_meshgrid(x, y, h=.02):\n",
    "    x_min, x_max = x.min() - 1, x.max() + 1\n",
    "    y_min, y_max = y.min() - 1, y.max() + 1\n",
    "    xx, yy = np.meshgrid(np.arange(x_min, x_max, h), \n",
    "                         np.arange(y_min, y_max, h))\n",
    "    return xx, yy"
   ]
  },
  {
   "cell_type": "code",
   "execution_count": 8,
   "metadata": {},
   "outputs": [],
   "source": [
    "X0, X1 = X[:, 0], X[:, 1]\n",
    "xx0, xx1 = make_meshgrid(X0, X1)\n",
    "# polynomial transformation and standardization on the grids\n",
    "xgrid = np.c_[xx0.ravel(), xx1.ravel()]\n",
    "xgridpoly = poly.transform(xgrid)\n",
    "xgridpolystan = scaler.transform(xgridpoly)\n",
    "# prediction\n",
    "Z = xgridpolystan.dot(svm_clf.coef_[0].reshape(-1,1)) + svm_clf.intercept_[0] # wx + b\n",
    "#Z = svm_clf.predict(xgridpolystan)\n",
    "Z = Z.reshape(xx0.shape)"
   ]
  },
  {
   "cell_type": "code",
   "execution_count": 9,
   "metadata": {},
   "outputs": [
    {
     "name": "stderr",
     "output_type": "stream",
     "text": [
      "C:\\Users\\user\\Anaconda3\\envs\\tf-cpu\\lib\\site-packages\\seaborn\\regression.py:546: UserWarning: The `size` paramter has been renamed to `height`; please update your code.\n",
      "  warnings.warn(msg, UserWarning)\n"
     ]
    },
    {
     "data": {
      "image/png": "[encoded data removed]",
      "text/plain": [
       "<Figure size 426.375x288 with 1 Axes>"
      ]
     },
     "metadata": {
      "needs_background": "light"
     },
     "output_type": "display_data"
    }
   ],
   "source": [
    "# plotting prediction contours - decision boundary (Z=0), and two margins (Z = 1 or -1)\n",
    "sns.lmplot(x='x1',y='x2',hue='y',data=data, \n",
    "           fit_reg=False, legend=True, size=4, aspect=4/3)\n",
    "\n",
    "CS=plt.contour(xx0, xx1, Z, alpha=0.5, levels=[-1,0,1])\n",
    "\n",
    "#plt.clabel(CS, inline=1,levels=[-1.0,0,1.0], fmt='%1.1f', \n",
    "plt.clabel(CS, inline=1,fmt='%1.1f', \n",
    "           fontsize=12, manual=[(1.5,0.3),(0.5,0.0),(-0.5,-0.2)])\n",
    "\n",
    "#\n",
    "plt.xlim(-1.2,2.2)\n",
    "plt.ylim(-1,1.5)\n",
    "plt.title('C=10', fontsize = 20)\n",
    "plt.xlabel('x1', fontsize = 18)\n",
    "plt.ylabel('x2', fontsize = 18)\n",
    "plt.show()"
   ]
  },
  {
   "cell_type": "code",
   "execution_count": 10,
   "metadata": {},
   "outputs": [
    {
     "name": "stderr",
     "output_type": "stream",
     "text": [
      "C:\\Users\\user\\Anaconda3\\envs\\tf-cpu\\lib\\site-packages\\seaborn\\regression.py:546: UserWarning: The `size` paramter has been renamed to `height`; please update your code.\n",
      "  warnings.warn(msg, UserWarning)\n"
     ]
    },
    {
     "data": {
      "image/png": "[encoded data removed]",
      "text/plain": [
       "<Figure size 426.375x288 with 1 Axes>"
      ]
     },
     "metadata": {
      "needs_background": "light"
     },
     "output_type": "display_data"
    }
   ],
   "source": [
    "svm_clf = LinearSVC(C=1000,loss='hinge',max_iter=10000)\n",
    "svm_clf.fit(Xpolystan,y)\n",
    "\n",
    "# prediction\n",
    "Z = xgridpolystan.dot(svm_clf.coef_[0].reshape(-1,1)) + svm_clf.intercept_[0] # wx + b\n",
    "#Z = svm_clf.predict(xgridpolystan)\n",
    "Z = Z.reshape(xx0.shape)\n",
    "\n",
    "# plotting prediction contours - decision boundary (Z=0), and two margins (Z = 1 or -1)\n",
    "sns.lmplot(x='x1',y='x2',hue='y',data=data, fit_reg=False, legend=True, size=4, aspect=4/3)\n",
    "CS=plt.contour(xx0, xx1, Z, alpha=0.5, levels=[-1,0,1])\n",
    "\n",
    "plt.clabel(CS, inline=1,\n",
    "           #levels=[-1.0,0,1.0], \n",
    "           fmt='%1.1f', fontsize=12, manual=[(1.5,0.1),(0.5,0.0),(-0.5,0.0)])\n",
    "plt.xlim(-1.2,2.2)\n",
    "plt.ylim(-1,1.5)\n",
    "plt.title('C=1000', fontsize = 20)\n",
    "plt.xlabel('x1', fontsize = 18)\n",
    "plt.ylabel('x2', fontsize = 18)\n",
    "plt.show()"
   ]
  },
  {
   "cell_type": "code",
   "execution_count": 11,
   "metadata": {},
   "outputs": [
    {
     "name": "stderr",
     "output_type": "stream",
     "text": [
      "C:\\Users\\user\\Anaconda3\\envs\\tf-cpu\\lib\\site-packages\\seaborn\\regression.py:546: UserWarning: The `size` paramter has been renamed to `height`; please update your code.\n",
      "  warnings.warn(msg, UserWarning)\n"
     ]
    },
    {
     "data": {
      "image/png": "[encoded data removed]",
      "text/plain": [
       "<Figure size 426.375x288 with 1 Axes>"
      ]
     },
     "metadata": {
      "needs_background": "light"
     },
     "output_type": "display_data"
    }
   ],
   "source": [
    "scaler = StandardScaler()\n",
    "Xstan = scaler.fit_transform(X)\n",
    "svm_clf = SVC(kernel='poly', degree=3, C=10, coef0=1)\n",
    "svm_clf.fit(Xstan,y)\n",
    "\n",
    "# create grids\n",
    "X0, X1 = X[:, 0], X[:, 1]\n",
    "xx0, xx1 = make_meshgrid(X0, X1)\n",
    "# standardization on the grids\n",
    "xgrid = np.c_[xx0.ravel(), xx1.ravel()]\n",
    "xgridstan = scaler.transform(xgrid)\n",
    "\n",
    "# prediction\n",
    "Z = svm_clf.predict(xgridstan)\n",
    "Z = Z.reshape(xx0.shape)\n",
    "\n",
    "# plotting prediction contours - decision boundary (Z=0), and two margins (Z = 1 or -1)\n",
    "sns.lmplot(x='x1',y='x2',hue='y',data=data, fit_reg=False, legend=True, size=4, aspect=4/3)\n",
    "plt.contourf(xx0, xx1, Z, alpha=0.5)\n",
    "plt.xlim(-1.2,2.2)\n",
    "plt.ylim(-1,1.5)\n",
    "plt.title('C=10', fontsize = 20)\n",
    "plt.xlabel('x1', fontsize = 18)\n",
    "plt.ylabel('x2', fontsize = 18)\n",
    "plt.show()"
   ]
  },
  {
   "cell_type": "code",
   "execution_count": null,
   "metadata": {},
   "outputs": [],
   "source": []
  }
 ],
 "metadata": {
  "kernelspec": {
   "display_name": "Python 3",
   "language": "python",
   "name": "python3"
  },
  "language_info": {
   "codemirror_mode": {
    "name": "ipython",
    "version": 3
   },
   "file_extension": ".py",
   "mimetype": "text/x-python",
   "name": "python",
   "nbconvert_exporter": "python",
   "pygments_lexer": "ipython3",
   "version": "3.7.3"
  }
 },
 "nbformat": 4,
 "nbformat_minor": 2
}
