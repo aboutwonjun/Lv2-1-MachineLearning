{
 "cells": [
  {
   "cell_type": "markdown",
   "metadata": {
    "id": "ZbIvihxRm80P"
   },
   "source": [
    "# Advanced MLP\n",
    "- Advanced techniques for training neural networks\n",
    "    - Weight Initialization\n",
    "    - Nonlinearity (Activation function)\n",
    "    - Optimizers\n",
    "    - Batch Normalization\n",
    "    - Dropout (Regularization)\n",
    "    - Model Ensemble"
   ]
  },
  {
   "cell_type": "markdown",
   "metadata": {},
   "source": [
    "<table class=\"tfo-notebook-buttons\" align=\"left\">\n",
    "   <td>\n",
    "    <a target=\"_blank\" href=\"https://colab.research.google.com/github/tensorflow/text/blob/master/docs/tutorials/text_classification_rnn.ipynb\"><img src=\"https://www.tensorflow.org/images/colab_logo_32px.png\" />Run in Google Colab</a>\n",
    "  </td>\n",
    "</table>"
   ]
  },
  {
   "cell_type": "code",
   "execution_count": 1,
   "metadata": {
    "id": "W12bh526m80Q"
   },
   "outputs": [],
   "source": [
    "import numpy as np\n",
    "import pandas as pd\n",
    "import matplotlib.pyplot as plt\n",
    "import tensorflow as tf\n",
    "\n",
    "from tensorflow import keras\n",
    "\n",
    "from tensorflow.keras import Sequential\n",
    "\n",
    "from sklearn.model_selection import train_test_split\n",
    "from tensorflow.keras.datasets import mnist, fashion_mnist\n",
    "from tensorflow.keras.models import Sequential\n",
    "from tensorflow.keras.utils import to_categorical\n",
    "\n",
    "import time"
   ]
  },
  {
   "cell_type": "code",
   "execution_count": 2,
   "metadata": {},
   "outputs": [],
   "source": [
    "%matplotlib inline"
   ]
  },
  {
   "cell_type": "markdown",
   "metadata": {
    "id": "1m-pC5sOm80U"
   },
   "source": [
    "## Load Dataset\n",
    "- MNIST dataset\n",
    "- source: http://yann.lecun.com/exdb/mnist/"
   ]
  },
  {
   "cell_type": "code",
   "execution_count": 3,
   "metadata": {
    "id": "fH78vu3rm80V"
   },
   "outputs": [],
   "source": [
    "(X_train, y_train), (X_test, y_test) = fashion_mnist.load_data()"
   ]
  },
  {
   "cell_type": "code",
   "execution_count": 4,
   "metadata": {
    "colab": {
     "base_uri": "https://localhost:8080/",
     "height": 282
    },
    "executionInfo": {
     "elapsed": 1426,
     "status": "ok",
     "timestamp": 1604684633389,
     "user": {
      "displayName": "Buomsoo Kim",
      "photoUrl": "",
      "userId": "18268696804115368229"
     },
     "user_tz": 420
    },
    "id": "RroxZgNjm80Y",
    "outputId": "2f1f1c0b-1218-41c7-cfb3-69b15968d66b"
   },
   "outputs": [
    {
     "data": {
      "image/png": "[encoded data removed]",
      "text/plain": [
       "<Figure size 432x288 with 1 Axes>"
      ]
     },
     "metadata": {
      "needs_background": "light"
     },
     "output_type": "display_data"
    },
    {
     "name": "stdout",
     "output_type": "stream",
     "text": [
      "Label:  9\n"
     ]
    }
   ],
   "source": [
    "plt.imshow(X_train[0])    # show first number in the dataset\n",
    "plt.show()\n",
    "print('Label: ', y_train[0])"
   ]
  },
  {
   "cell_type": "code",
   "execution_count": 5,
   "metadata": {
    "colab": {
     "base_uri": "https://localhost:8080/",
     "height": 282
    },
    "executionInfo": {
     "elapsed": 1420,
     "status": "ok",
     "timestamp": 1604684633391,
     "user": {
      "displayName": "Buomsoo Kim",
      "photoUrl": "",
      "userId": "18268696804115368229"
     },
     "user_tz": 420
    },
    "id": "bGgToRjIm80c",
    "outputId": "c0e35f90-7ffb-4a1c-97a1-4a04ff47ab59"
   },
   "outputs": [
    {
     "data": {
      "image/png": "[encoded data removed]",
      "text/plain": [
       "<Figure size 432x288 with 1 Axes>"
      ]
     },
     "metadata": {
      "needs_background": "light"
     },
     "output_type": "display_data"
    },
    {
     "name": "stdout",
     "output_type": "stream",
     "text": [
      "Label:  9\n"
     ]
    }
   ],
   "source": [
    "plt.imshow(X_test[0])    # show first number in the dataset\n",
    "plt.show()\n",
    "print('Label: ', y_test[0])"
   ]
  },
  {
   "cell_type": "code",
   "execution_count": 6,
   "metadata": {
    "id": "cKDggu2Gm80f"
   },
   "outputs": [],
   "source": [
    "# reshaping X data: (n, 28, 28) => (n, 784)\n",
    "X_train = X_train.reshape((X_train.shape[0], -1))\n",
    "X_test = X_test.reshape((X_test.shape[0], -1))"
   ]
  },
  {
   "cell_type": "code",
   "execution_count": 7,
   "metadata": {
    "id": "MUFEC2K_m80k"
   },
   "outputs": [],
   "source": [
    "# converting y data into categorical (one-hot encoding)\n",
    "y_train = to_categorical(y_train)\n",
    "y_test = to_categorical(y_test)"
   ]
  },
  {
   "cell_type": "code",
   "execution_count": 8,
   "metadata": {
    "colab": {
     "base_uri": "https://localhost:8080/"
    },
    "executionInfo": {
     "elapsed": 1561,
     "status": "ok",
     "timestamp": 1604684633546,
     "user": {
      "displayName": "Buomsoo Kim",
      "photoUrl": "",
      "userId": "18268696804115368229"
     },
     "user_tz": 420
    },
    "id": "Y1D9nxJ_m80m",
    "outputId": "cd5049e9-e452-4751-faa9-7d723eca60ee"
   },
   "outputs": [
    {
     "name": "stdout",
     "output_type": "stream",
     "text": [
      "(60000, 784) (10000, 784) (60000, 10) (10000, 10)\n"
     ]
    }
   ],
   "source": [
    "print(X_train.shape, X_test.shape, y_train.shape, y_test.shape)"
   ]
  },
  {
   "cell_type": "markdown",
   "metadata": {
    "id": "X7X7pN-Sm80p"
   },
   "source": [
    "## 1. Basic MLP model\n",
    "- Naive MLP model without any alterations"
   ]
  },
  {
   "cell_type": "code",
   "execution_count": 9,
   "metadata": {
    "id": "OPUXkSYmm80p"
   },
   "outputs": [],
   "source": [
    "from tensorflow.keras.models import Sequential\n",
    "from tensorflow.keras.layers import Activation, Dense\n",
    "from tensorflow.keras import optimizers"
   ]
  },
  {
   "cell_type": "code",
   "execution_count": 10,
   "metadata": {},
   "outputs": [
    {
     "name": "stderr",
     "output_type": "stream",
     "text": [
      "C:\\Users\\admin\\anaconda3\\envs\\tf2-cpu\\lib\\site-packages\\tensorflow\\python\\keras\\optimizer_v2\\optimizer_v2.py:374: UserWarning: The `lr` argument is deprecated, use `learning_rate` instead.\n",
      "  warnings.warn(\n"
     ]
    }
   ],
   "source": [
    "model = Sequential()\n",
    "model.add(Dense(50, activation = 'sigmoid', input_shape=[784]))\n",
    "model.add(Dense(50, activation = 'sigmoid'))\n",
    "model.add(Dense(50, activation = 'sigmoid'))\n",
    "model.add(Dense(10, activation = 'softmax'))\n",
    "\n",
    "sgd = optimizers.SGD(lr = 0.001)\n",
    "model.compile(optimizer = sgd, loss = 'categorical_crossentropy', metrics = ['accuracy'])   "
   ]
  },
  {
   "cell_type": "code",
   "execution_count": 11,
   "metadata": {
    "colab": {
     "base_uri": "https://localhost:8080/"
    },
    "executionInfo": {
     "elapsed": 79023,
     "status": "ok",
     "timestamp": 1604684711031,
     "user": {
      "displayName": "Buomsoo Kim",
      "photoUrl": "",
      "userId": "18268696804115368229"
     },
     "user_tz": 420
    },
    "id": "Lj23wJ2lm800",
    "outputId": "ac601aeb-351d-4689-ae21-fb2bfbe6a27b"
   },
   "outputs": [
    {
     "name": "stdout",
     "output_type": "stream",
     "text": [
      "Epoch 1/100\n",
      "329/329 - 1s - loss: 2.4657 - accuracy: 0.0995 - val_loss: 2.3698 - val_accuracy: 0.1012\n",
      "Epoch 2/100\n",
      "329/329 - 0s - loss: 2.3393 - accuracy: 0.0995 - val_loss: 2.3136 - val_accuracy: 0.1012\n",
      "Epoch 3/100\n",
      "329/329 - 0s - loss: 2.3035 - accuracy: 0.0995 - val_loss: 2.2931 - val_accuracy: 0.1012\n",
      "Epoch 4/100\n",
      "329/329 - 0s - loss: 2.2886 - accuracy: 0.1065 - val_loss: 2.2832 - val_accuracy: 0.1289\n",
      "Epoch 5/100\n",
      "329/329 - 0s - loss: 2.2807 - accuracy: 0.1518 - val_loss: 2.2775 - val_accuracy: 0.1657\n",
      "Epoch 6/100\n",
      "329/329 - 0s - loss: 2.2755 - accuracy: 0.1848 - val_loss: 2.2731 - val_accuracy: 0.2133\n",
      "Epoch 7/100\n",
      "329/329 - 0s - loss: 2.2714 - accuracy: 0.2444 - val_loss: 2.2694 - val_accuracy: 0.2663\n",
      "Epoch 8/100\n",
      "329/329 - 0s - loss: 2.2678 - accuracy: 0.2908 - val_loss: 2.2659 - val_accuracy: 0.3291\n",
      "Epoch 9/100\n",
      "329/329 - 0s - loss: 2.2644 - accuracy: 0.3550 - val_loss: 2.2625 - val_accuracy: 0.3716\n",
      "Epoch 10/100\n",
      "329/329 - 0s - loss: 2.2610 - accuracy: 0.3825 - val_loss: 2.2592 - val_accuracy: 0.4047\n",
      "Epoch 11/100\n",
      "329/329 - 0s - loss: 2.2578 - accuracy: 0.4127 - val_loss: 2.2561 - val_accuracy: 0.4217\n",
      "Epoch 12/100\n",
      "329/329 - 0s - loss: 2.2546 - accuracy: 0.4272 - val_loss: 2.2530 - val_accuracy: 0.4417\n",
      "Epoch 13/100\n",
      "329/329 - 0s - loss: 2.2515 - accuracy: 0.4426 - val_loss: 2.2498 - val_accuracy: 0.4614\n",
      "Epoch 14/100\n",
      "329/329 - 0s - loss: 2.2484 - accuracy: 0.4573 - val_loss: 2.2468 - val_accuracy: 0.4691\n",
      "Epoch 15/100\n",
      "329/329 - 0s - loss: 2.2453 - accuracy: 0.4709 - val_loss: 2.2437 - val_accuracy: 0.4694\n",
      "Epoch 16/100\n",
      "329/329 - 0s - loss: 2.2423 - accuracy: 0.4744 - val_loss: 2.2406 - val_accuracy: 0.4779\n",
      "Epoch 17/100\n",
      "329/329 - 0s - loss: 2.2391 - accuracy: 0.4891 - val_loss: 2.2373 - val_accuracy: 0.4796\n",
      "Epoch 18/100\n",
      "329/329 - 0s - loss: 2.2358 - accuracy: 0.4844 - val_loss: 2.2339 - val_accuracy: 0.4831\n",
      "Epoch 19/100\n",
      "329/329 - 0s - loss: 2.2326 - accuracy: 0.4847 - val_loss: 2.2306 - val_accuracy: 0.4880\n",
      "Epoch 20/100\n",
      "329/329 - 0s - loss: 2.2292 - accuracy: 0.4877 - val_loss: 2.2272 - val_accuracy: 0.4956\n",
      "Epoch 21/100\n",
      "329/329 - 0s - loss: 2.2257 - accuracy: 0.5012 - val_loss: 2.2236 - val_accuracy: 0.5004\n",
      "Epoch 22/100\n",
      "329/329 - 0s - loss: 2.2219 - accuracy: 0.5100 - val_loss: 2.2197 - val_accuracy: 0.4988\n",
      "Epoch 23/100\n",
      "329/329 - 0s - loss: 2.2181 - accuracy: 0.5003 - val_loss: 2.2160 - val_accuracy: 0.5059\n",
      "Epoch 24/100\n",
      "329/329 - 0s - loss: 2.2145 - accuracy: 0.5083 - val_loss: 2.2123 - val_accuracy: 0.5047\n",
      "Epoch 25/100\n",
      "329/329 - 0s - loss: 2.2107 - accuracy: 0.5044 - val_loss: 2.2086 - val_accuracy: 0.5092\n",
      "Epoch 26/100\n",
      "329/329 - 0s - loss: 2.2069 - accuracy: 0.5075 - val_loss: 2.2047 - val_accuracy: 0.5079\n",
      "Epoch 27/100\n",
      "329/329 - 0s - loss: 2.2030 - accuracy: 0.5123 - val_loss: 2.2008 - val_accuracy: 0.5133\n",
      "Epoch 28/100\n",
      "329/329 - 0s - loss: 2.1989 - accuracy: 0.5072 - val_loss: 2.1967 - val_accuracy: 0.5127\n",
      "Epoch 29/100\n",
      "329/329 - 0s - loss: 2.1947 - accuracy: 0.5084 - val_loss: 2.1925 - val_accuracy: 0.5156\n",
      "Epoch 30/100\n",
      "329/329 - 0s - loss: 2.1904 - accuracy: 0.5112 - val_loss: 2.1881 - val_accuracy: 0.5146\n",
      "Epoch 31/100\n",
      "329/329 - 0s - loss: 2.1859 - accuracy: 0.5155 - val_loss: 2.1835 - val_accuracy: 0.5111\n",
      "Epoch 32/100\n",
      "329/329 - 0s - loss: 2.1813 - accuracy: 0.5178 - val_loss: 2.1788 - val_accuracy: 0.5104\n",
      "Epoch 33/100\n",
      "329/329 - 0s - loss: 2.1765 - accuracy: 0.5127 - val_loss: 2.1739 - val_accuracy: 0.5103\n",
      "Epoch 34/100\n",
      "329/329 - 0s - loss: 2.1715 - accuracy: 0.5085 - val_loss: 2.1687 - val_accuracy: 0.5202\n",
      "Epoch 35/100\n",
      "329/329 - 0s - loss: 2.1663 - accuracy: 0.5222 - val_loss: 2.1634 - val_accuracy: 0.5207\n",
      "Epoch 36/100\n",
      "329/329 - 0s - loss: 2.1609 - accuracy: 0.5209 - val_loss: 2.1580 - val_accuracy: 0.5254\n",
      "Epoch 37/100\n",
      "329/329 - 0s - loss: 2.1555 - accuracy: 0.5268 - val_loss: 2.1526 - val_accuracy: 0.5263\n",
      "Epoch 38/100\n",
      "329/329 - 0s - loss: 2.1501 - accuracy: 0.5232 - val_loss: 2.1470 - val_accuracy: 0.5314\n",
      "Epoch 39/100\n",
      "329/329 - 0s - loss: 2.1444 - accuracy: 0.5253 - val_loss: 2.1412 - val_accuracy: 0.5313\n",
      "Epoch 40/100\n",
      "329/329 - 0s - loss: 2.1385 - accuracy: 0.5314 - val_loss: 2.1353 - val_accuracy: 0.5282\n",
      "Epoch 41/100\n",
      "329/329 - 0s - loss: 2.1325 - accuracy: 0.5302 - val_loss: 2.1291 - val_accuracy: 0.5304\n",
      "Epoch 42/100\n",
      "329/329 - 0s - loss: 2.1263 - accuracy: 0.5280 - val_loss: 2.1227 - val_accuracy: 0.5326\n",
      "Epoch 43/100\n",
      "329/329 - 0s - loss: 2.1198 - accuracy: 0.5303 - val_loss: 2.1161 - val_accuracy: 0.5321\n",
      "Epoch 44/100\n",
      "329/329 - 0s - loss: 2.1132 - accuracy: 0.5321 - val_loss: 2.1094 - val_accuracy: 0.5338\n",
      "Epoch 45/100\n",
      "329/329 - 0s - loss: 2.1064 - accuracy: 0.5367 - val_loss: 2.1025 - val_accuracy: 0.5316\n",
      "Epoch 46/100\n",
      "329/329 - 0s - loss: 2.0993 - accuracy: 0.5357 - val_loss: 2.0953 - val_accuracy: 0.5323\n",
      "Epoch 47/100\n",
      "329/329 - 0s - loss: 2.0920 - accuracy: 0.5329 - val_loss: 2.0879 - val_accuracy: 0.5321\n",
      "Epoch 48/100\n",
      "329/329 - 0s - loss: 2.0845 - accuracy: 0.5286 - val_loss: 2.0801 - val_accuracy: 0.5374\n",
      "Epoch 49/100\n",
      "329/329 - 0s - loss: 2.0766 - accuracy: 0.5375 - val_loss: 2.0722 - val_accuracy: 0.5364\n",
      "Epoch 50/100\n",
      "329/329 - 0s - loss: 2.0686 - accuracy: 0.5362 - val_loss: 2.0639 - val_accuracy: 0.5351\n",
      "Epoch 51/100\n",
      "329/329 - 0s - loss: 2.0602 - accuracy: 0.5336 - val_loss: 2.0552 - val_accuracy: 0.5325\n",
      "Epoch 52/100\n",
      "329/329 - 0s - loss: 2.0511 - accuracy: 0.5356 - val_loss: 2.0460 - val_accuracy: 0.5368\n",
      "Epoch 53/100\n",
      "329/329 - 0s - loss: 2.0420 - accuracy: 0.5375 - val_loss: 2.0368 - val_accuracy: 0.5363\n",
      "Epoch 54/100\n",
      "329/329 - 0s - loss: 2.0329 - accuracy: 0.5337 - val_loss: 2.0276 - val_accuracy: 0.5402\n",
      "Epoch 55/100\n",
      "329/329 - 0s - loss: 2.0236 - accuracy: 0.5350 - val_loss: 2.0181 - val_accuracy: 0.5355\n",
      "Epoch 56/100\n",
      "329/329 - 0s - loss: 2.0140 - accuracy: 0.5359 - val_loss: 2.0083 - val_accuracy: 0.5402\n",
      "Epoch 57/100\n",
      "329/329 - 0s - loss: 2.0041 - accuracy: 0.5379 - val_loss: 1.9984 - val_accuracy: 0.5358\n",
      "Epoch 58/100\n",
      "329/329 - 0s - loss: 1.9939 - accuracy: 0.5350 - val_loss: 1.9881 - val_accuracy: 0.5360\n",
      "Epoch 59/100\n",
      "329/329 - 0s - loss: 1.9835 - accuracy: 0.5339 - val_loss: 1.9775 - val_accuracy: 0.5374\n",
      "Epoch 60/100\n",
      "329/329 - 0s - loss: 1.9728 - accuracy: 0.5358 - val_loss: 1.9668 - val_accuracy: 0.5330\n",
      "Epoch 61/100\n",
      "329/329 - 0s - loss: 1.9619 - accuracy: 0.5300 - val_loss: 1.9558 - val_accuracy: 0.5320\n",
      "Epoch 62/100\n",
      "329/329 - 0s - loss: 1.9508 - accuracy: 0.5330 - val_loss: 1.9445 - val_accuracy: 0.5317\n",
      "Epoch 63/100\n",
      "329/329 - 0s - loss: 1.9394 - accuracy: 0.5312 - val_loss: 1.9331 - val_accuracy: 0.5339\n",
      "Epoch 64/100\n",
      "329/329 - 0s - loss: 1.9278 - accuracy: 0.5309 - val_loss: 1.9215 - val_accuracy: 0.5340\n",
      "Epoch 65/100\n",
      "329/329 - 0s - loss: 1.9159 - accuracy: 0.5325 - val_loss: 1.9095 - val_accuracy: 0.5346\n",
      "Epoch 66/100\n",
      "329/329 - 0s - loss: 1.9039 - accuracy: 0.5317 - val_loss: 1.8974 - val_accuracy: 0.5329\n",
      "Epoch 67/100\n",
      "329/329 - 0s - loss: 1.8915 - accuracy: 0.5333 - val_loss: 1.8850 - val_accuracy: 0.5317\n",
      "Epoch 68/100\n",
      "329/329 - 0s - loss: 1.8791 - accuracy: 0.5310 - val_loss: 1.8725 - val_accuracy: 0.5314\n",
      "Epoch 69/100\n",
      "329/329 - 0s - loss: 1.8665 - accuracy: 0.5305 - val_loss: 1.8598 - val_accuracy: 0.5327\n",
      "Epoch 70/100\n",
      "329/329 - 0s - loss: 1.8537 - accuracy: 0.5285 - val_loss: 1.8470 - val_accuracy: 0.5295\n",
      "Epoch 71/100\n",
      "329/329 - 0s - loss: 1.8408 - accuracy: 0.5275 - val_loss: 1.8340 - val_accuracy: 0.5296\n",
      "Epoch 72/100\n",
      "329/329 - 0s - loss: 1.8276 - accuracy: 0.5319 - val_loss: 1.8206 - val_accuracy: 0.5316\n",
      "Epoch 73/100\n",
      "329/329 - 0s - loss: 1.8142 - accuracy: 0.5307 - val_loss: 1.8070 - val_accuracy: 0.5367\n",
      "Epoch 74/100\n",
      "329/329 - 0s - loss: 1.8005 - accuracy: 0.5353 - val_loss: 1.7935 - val_accuracy: 0.5368\n",
      "Epoch 75/100\n",
      "329/329 - 0s - loss: 1.7870 - accuracy: 0.5338 - val_loss: 1.7800 - val_accuracy: 0.5387\n",
      "Epoch 76/100\n",
      "329/329 - 0s - loss: 1.7737 - accuracy: 0.5400 - val_loss: 1.7668 - val_accuracy: 0.5337\n",
      "Epoch 77/100\n",
      "329/329 - 0s - loss: 1.7605 - accuracy: 0.5371 - val_loss: 1.7537 - val_accuracy: 0.5361\n",
      "Epoch 78/100\n",
      "329/329 - 0s - loss: 1.7474 - accuracy: 0.5390 - val_loss: 1.7406 - val_accuracy: 0.5375\n",
      "Epoch 79/100\n",
      "329/329 - 0s - loss: 1.7344 - accuracy: 0.5375 - val_loss: 1.7277 - val_accuracy: 0.5403\n",
      "Epoch 80/100\n",
      "329/329 - 0s - loss: 1.7215 - accuracy: 0.5398 - val_loss: 1.7149 - val_accuracy: 0.5429\n",
      "Epoch 81/100\n",
      "329/329 - 0s - loss: 1.7086 - accuracy: 0.5430 - val_loss: 1.7021 - val_accuracy: 0.5437\n"
     ]
    },
    {
     "name": "stdout",
     "output_type": "stream",
     "text": [
      "Epoch 82/100\n",
      "329/329 - 0s - loss: 1.6959 - accuracy: 0.5444 - val_loss: 1.6894 - val_accuracy: 0.5453\n",
      "Epoch 83/100\n",
      "329/329 - 0s - loss: 1.6833 - accuracy: 0.5473 - val_loss: 1.6768 - val_accuracy: 0.5451\n",
      "Epoch 84/100\n",
      "329/329 - 0s - loss: 1.6708 - accuracy: 0.5462 - val_loss: 1.6644 - val_accuracy: 0.5466\n",
      "Epoch 85/100\n",
      "329/329 - 0s - loss: 1.6584 - accuracy: 0.5493 - val_loss: 1.6519 - val_accuracy: 0.5498\n",
      "Epoch 86/100\n",
      "329/329 - 0s - loss: 1.6462 - accuracy: 0.5498 - val_loss: 1.6399 - val_accuracy: 0.5525\n",
      "Epoch 87/100\n",
      "329/329 - 0s - loss: 1.6341 - accuracy: 0.5521 - val_loss: 1.6279 - val_accuracy: 0.5551\n",
      "Epoch 88/100\n",
      "329/329 - 0s - loss: 1.6221 - accuracy: 0.5542 - val_loss: 1.6162 - val_accuracy: 0.5549\n",
      "Epoch 89/100\n",
      "329/329 - 0s - loss: 1.6103 - accuracy: 0.5571 - val_loss: 1.6045 - val_accuracy: 0.5567\n",
      "Epoch 90/100\n",
      "329/329 - 0s - loss: 1.5988 - accuracy: 0.5563 - val_loss: 1.5930 - val_accuracy: 0.5579\n",
      "Epoch 91/100\n",
      "329/329 - 0s - loss: 1.5874 - accuracy: 0.5587 - val_loss: 1.5818 - val_accuracy: 0.5599\n",
      "Epoch 92/100\n",
      "329/329 - 0s - loss: 1.5762 - accuracy: 0.5587 - val_loss: 1.5708 - val_accuracy: 0.5624\n",
      "Epoch 93/100\n",
      "329/329 - 0s - loss: 1.5651 - accuracy: 0.5604 - val_loss: 1.5600 - val_accuracy: 0.5656\n",
      "Epoch 94/100\n",
      "329/329 - 0s - loss: 1.5543 - accuracy: 0.5649 - val_loss: 1.5494 - val_accuracy: 0.5652\n",
      "Epoch 95/100\n",
      "329/329 - 0s - loss: 1.5436 - accuracy: 0.5657 - val_loss: 1.5389 - val_accuracy: 0.5667\n",
      "Epoch 96/100\n",
      "329/329 - 0s - loss: 1.5331 - accuracy: 0.5655 - val_loss: 1.5285 - val_accuracy: 0.5715\n",
      "Epoch 97/100\n",
      "329/329 - 0s - loss: 1.5229 - accuracy: 0.5712 - val_loss: 1.5184 - val_accuracy: 0.5732\n",
      "Epoch 98/100\n",
      "329/329 - 0s - loss: 1.5128 - accuracy: 0.5700 - val_loss: 1.5085 - val_accuracy: 0.5729\n",
      "Epoch 99/100\n",
      "329/329 - 0s - loss: 1.5029 - accuracy: 0.5716 - val_loss: 1.4988 - val_accuracy: 0.5749\n",
      "Epoch 100/100\n",
      "329/329 - 0s - loss: 1.4932 - accuracy: 0.5732 - val_loss: 1.4893 - val_accuracy: 0.5744\n"
     ]
    }
   ],
   "source": [
    "history = model.fit(X_train, y_train, validation_split = 0.3, batch_size=128, epochs = 100, verbose = 2)"
   ]
  },
  {
   "cell_type": "markdown",
   "metadata": {
    "id": "8g6__3Onm805"
   },
   "source": [
    "Training and validation accuracy seems to improve after around 60 epochs"
   ]
  },
  {
   "cell_type": "code",
   "execution_count": 12,
   "metadata": {
    "colab": {
     "base_uri": "https://localhost:8080/"
    },
    "executionInfo": {
     "elapsed": 79615,
     "status": "ok",
     "timestamp": 1604684711638,
     "user": {
      "displayName": "Buomsoo Kim",
      "photoUrl": "",
      "userId": "18268696804115368229"
     },
     "user_tz": 420
    },
    "id": "TwlF_-OSm805",
    "outputId": "9386ef36-2632-4ab1-d50d-70896eed329e"
   },
   "outputs": [
    {
     "name": "stdout",
     "output_type": "stream",
     "text": [
      "313/313 [==============================] - 0s 721us/step - loss: 1.4961 - accuracy: 0.5664\n",
      "Test accuracy:  0.5663999915122986\n"
     ]
    }
   ],
   "source": [
    "results = model.evaluate(X_test, y_test)\n",
    "print('Test accuracy: ', results[1])"
   ]
  },
  {
   "cell_type": "code",
   "execution_count": 13,
   "metadata": {},
   "outputs": [],
   "source": [
    "\n",
    "def plot_history(history):\n",
    "    loss_list = [s for s in history.history.keys() if 'loss' in s and 'val' not in s]\n",
    "    val_loss_list = [s for s in history.history.keys() if 'loss' in s and 'val' in s]\n",
    "    acc_list = [s for s in history.history.keys() if 'acc' in s and 'val' not in s]\n",
    "    val_acc_list = [s for s in history.history.keys() if 'acc' in s and 'val' in s]\n",
    "    \n",
    "    if len(loss_list) == 0:\n",
    "        print('Loss is missing in history')\n",
    "        return \n",
    "    \n",
    "    ## As loss always exists\n",
    "    epochs = range(1,len(history.history[loss_list[0]]) + 1)\n",
    "    \n",
    "    ## Loss\n",
    "    plt.figure(1)\n",
    "    for l in loss_list:\n",
    "        plt.plot(epochs, history.history[l], 'r', label='Training loss (' + str(str(format(history.history[l][-1],'.5f'))+')'))\n",
    "    for l in val_loss_list:\n",
    "        plt.plot(epochs, history.history[l], 'b', label='Validation loss (' + str(str(format(history.history[l][-1],'.5f'))+')'))\n",
    "    \n",
    "    plt.title('Loss')\n",
    "    plt.xlabel('Epochs')\n",
    "    plt.ylabel('Loss')\n",
    "    plt.legend()\n",
    "    \n",
    "    ## Accuracy\n",
    "    plt.figure(2)\n",
    "    for l in acc_list:\n",
    "        plt.plot(epochs, history.history[l], 'r', label='Training accuracy (' + str(format(history.history[l][-1],'.5f'))+')')\n",
    "    for l in val_acc_list:    \n",
    "        plt.plot(epochs, history.history[l], 'b', label='Validation accuracy (' + str(format(history.history[l][-1],'.5f'))+')')\n",
    "\n",
    "    plt.title('Accuracy')\n",
    "    plt.xlabel('Epochs')\n",
    "    plt.ylabel('Accuracy')\n",
    "    plt.legend()\n",
    "    plt.show()\n",
    "    "
   ]
  },
  {
   "cell_type": "code",
   "execution_count": 14,
   "metadata": {
    "scrolled": true
   },
   "outputs": [
    {
     "data": {
      "image/png": "[encoded data removed]",
      "text/plain": [
       "<Figure size 432x288 with 1 Axes>"
      ]
     },
     "metadata": {
      "needs_background": "light"
     },
     "output_type": "display_data"
    },
    {
     "data": {
      "image/png": "[encoded data removed]",
      "text/plain": [
       "<Figure size 432x288 with 1 Axes>"
      ]
     },
     "metadata": {
      "needs_background": "light"
     },
     "output_type": "display_data"
    }
   ],
   "source": [
    "plot_history(history)"
   ]
  },
  {
   "cell_type": "code",
   "execution_count": 15,
   "metadata": {},
   "outputs": [
    {
     "name": "stdout",
     "output_type": "stream",
     "text": [
      "The accuracy of Basics MLP Model: 0.5732380747795105\n"
     ]
    }
   ],
   "source": [
    "a1 = history.history['accuracy'][np.argmin(history.history['loss'])]\n",
    "print('The accuracy of Basics MLP Model:', a1)"
   ]
  },
  {
   "cell_type": "markdown",
   "metadata": {
    "id": "aQLGUyPsm80-"
   },
   "source": [
    "## 2. Weight Initialization\n",
    "- Changing weight initialization scheme can sometimes improve training of the model by preventing vanishing gradient problem up to some degree\n",
    "- He normal or Xavier normal initialization schemes are SOTA at the moment\n",
    "- Doc: https://keras.io/initializers/"
   ]
  },
  {
   "cell_type": "code",
   "execution_count": 16,
   "metadata": {},
   "outputs": [],
   "source": [
    "model = Sequential()\n",
    "  \n",
    "model.add(Dense(50, activation = 'sigmoid', input_shape=[784], kernel_initializer='he_normal'))\n",
    "model.add(Dense(50, activation = 'sigmoid', kernel_initializer='he_normal'))\n",
    "model.add(Dense(50, activation = 'sigmoid', kernel_initializer='he_normal'))\n",
    "model.add(Dense(10, activation = 'softmax', kernel_initializer='he_normal'))\n",
    "\n",
    "sgd = optimizers.SGD(lr = 0.001)\n",
    "model.compile(optimizer = sgd, loss = 'categorical_crossentropy', metrics = ['accuracy'])   "
   ]
  },
  {
   "cell_type": "code",
   "execution_count": 17,
   "metadata": {
    "colab": {
     "base_uri": "https://localhost:8080/"
    },
    "executionInfo": {
     "elapsed": 315938,
     "status": "ok",
     "timestamp": 1604684947977,
     "user": {
      "displayName": "Buomsoo Kim",
      "photoUrl": "",
      "userId": "18268696804115368229"
     },
     "user_tz": 420
    },
    "id": "T_4QYzNGm81A",
    "outputId": "e05cac1e-6c6e-431e-b9a1-86090ed6eb74",
    "scrolled": true
   },
   "outputs": [
    {
     "name": "stdout",
     "output_type": "stream",
     "text": [
      "Epoch 1/100\n",
      "329/329 - 1s - loss: 2.5008 - accuracy: 0.0996 - val_loss: 2.3987 - val_accuracy: 0.1008\n",
      "Epoch 2/100\n",
      "329/329 - 0s - loss: 2.3517 - accuracy: 0.1014 - val_loss: 2.3134 - val_accuracy: 0.1126\n",
      "Epoch 3/100\n",
      "329/329 - 0s - loss: 2.2930 - accuracy: 0.1274 - val_loss: 2.2746 - val_accuracy: 0.1500\n",
      "Epoch 4/100\n",
      "329/329 - 0s - loss: 2.2642 - accuracy: 0.1666 - val_loss: 2.2543 - val_accuracy: 0.1962\n",
      "Epoch 5/100\n",
      "329/329 - 0s - loss: 2.2479 - accuracy: 0.2304 - val_loss: 2.2416 - val_accuracy: 0.2836\n",
      "Epoch 6/100\n",
      "329/329 - 0s - loss: 2.2368 - accuracy: 0.3295 - val_loss: 2.2323 - val_accuracy: 0.3658\n",
      "Epoch 7/100\n",
      "329/329 - 0s - loss: 2.2281 - accuracy: 0.3827 - val_loss: 2.2242 - val_accuracy: 0.3962\n",
      "Epoch 8/100\n",
      "329/329 - 0s - loss: 2.2204 - accuracy: 0.3963 - val_loss: 2.2168 - val_accuracy: 0.4066\n",
      "Epoch 9/100\n",
      "329/329 - 0s - loss: 2.2133 - accuracy: 0.4125 - val_loss: 2.2098 - val_accuracy: 0.4188\n",
      "Epoch 10/100\n",
      "329/329 - 0s - loss: 2.2066 - accuracy: 0.4140 - val_loss: 2.2030 - val_accuracy: 0.4338\n",
      "Epoch 11/100\n",
      "329/329 - 0s - loss: 2.1998 - accuracy: 0.4294 - val_loss: 2.1960 - val_accuracy: 0.4283\n",
      "Epoch 12/100\n",
      "329/329 - 0s - loss: 2.1927 - accuracy: 0.4214 - val_loss: 2.1889 - val_accuracy: 0.4363\n",
      "Epoch 13/100\n",
      "329/329 - 0s - loss: 2.1855 - accuracy: 0.4342 - val_loss: 2.1814 - val_accuracy: 0.4387\n",
      "Epoch 14/100\n",
      "329/329 - 0s - loss: 2.1782 - accuracy: 0.4332 - val_loss: 2.1741 - val_accuracy: 0.4445\n",
      "Epoch 15/100\n",
      "329/329 - 0s - loss: 2.1708 - accuracy: 0.4376 - val_loss: 2.1668 - val_accuracy: 0.4468\n",
      "Epoch 16/100\n",
      "329/329 - 0s - loss: 2.1634 - accuracy: 0.4431 - val_loss: 2.1594 - val_accuracy: 0.4470\n",
      "Epoch 17/100\n",
      "329/329 - 0s - loss: 2.1557 - accuracy: 0.4453 - val_loss: 2.1516 - val_accuracy: 0.4533\n",
      "Epoch 18/100\n",
      "329/329 - 0s - loss: 2.1479 - accuracy: 0.4580 - val_loss: 2.1437 - val_accuracy: 0.4596\n",
      "Epoch 19/100\n",
      "329/329 - 0s - loss: 2.1397 - accuracy: 0.4646 - val_loss: 2.1357 - val_accuracy: 0.4618\n",
      "Epoch 20/100\n",
      "329/329 - 0s - loss: 2.1315 - accuracy: 0.4596 - val_loss: 2.1273 - val_accuracy: 0.4683\n",
      "Epoch 21/100\n",
      "329/329 - 0s - loss: 2.1230 - accuracy: 0.4702 - val_loss: 2.1188 - val_accuracy: 0.4757\n",
      "Epoch 22/100\n",
      "329/329 - 0s - loss: 2.1143 - accuracy: 0.4742 - val_loss: 2.1099 - val_accuracy: 0.4748\n",
      "Epoch 23/100\n",
      "329/329 - 0s - loss: 2.1052 - accuracy: 0.4765 - val_loss: 2.1006 - val_accuracy: 0.4779\n",
      "Epoch 24/100\n",
      "329/329 - 0s - loss: 2.0960 - accuracy: 0.4806 - val_loss: 2.0915 - val_accuracy: 0.4939\n",
      "Epoch 25/100\n",
      "329/329 - 0s - loss: 2.0867 - accuracy: 0.4876 - val_loss: 2.0820 - val_accuracy: 0.4976\n",
      "Epoch 26/100\n",
      "329/329 - 0s - loss: 2.0772 - accuracy: 0.4913 - val_loss: 2.0725 - val_accuracy: 0.5027\n",
      "Epoch 27/100\n",
      "329/329 - 0s - loss: 2.0674 - accuracy: 0.5000 - val_loss: 2.0625 - val_accuracy: 0.5011\n",
      "Epoch 28/100\n",
      "329/329 - 0s - loss: 2.0574 - accuracy: 0.4960 - val_loss: 2.0524 - val_accuracy: 0.5073\n",
      "Epoch 29/100\n",
      "329/329 - 0s - loss: 2.0471 - accuracy: 0.5071 - val_loss: 2.0420 - val_accuracy: 0.5038\n",
      "Epoch 30/100\n",
      "329/329 - 0s - loss: 2.0367 - accuracy: 0.5043 - val_loss: 2.0315 - val_accuracy: 0.5047\n",
      "Epoch 31/100\n",
      "329/329 - 0s - loss: 2.0260 - accuracy: 0.5025 - val_loss: 2.0207 - val_accuracy: 0.5073\n",
      "Epoch 32/100\n",
      "329/329 - 0s - loss: 2.0151 - accuracy: 0.5036 - val_loss: 2.0098 - val_accuracy: 0.5076\n",
      "Epoch 33/100\n",
      "329/329 - 0s - loss: 2.0040 - accuracy: 0.5047 - val_loss: 1.9985 - val_accuracy: 0.5117\n",
      "Epoch 34/100\n",
      "329/329 - 0s - loss: 1.9927 - accuracy: 0.5013 - val_loss: 1.9870 - val_accuracy: 0.5150\n",
      "Epoch 35/100\n",
      "329/329 - 0s - loss: 1.9811 - accuracy: 0.5070 - val_loss: 1.9753 - val_accuracy: 0.5151\n",
      "Epoch 36/100\n",
      "329/329 - 0s - loss: 1.9693 - accuracy: 0.5178 - val_loss: 1.9636 - val_accuracy: 0.5240\n",
      "Epoch 37/100\n",
      "329/329 - 0s - loss: 1.9574 - accuracy: 0.5198 - val_loss: 1.9514 - val_accuracy: 0.5247\n",
      "Epoch 38/100\n",
      "329/329 - 0s - loss: 1.9453 - accuracy: 0.5211 - val_loss: 1.9391 - val_accuracy: 0.5292\n",
      "Epoch 39/100\n",
      "329/329 - 0s - loss: 1.9329 - accuracy: 0.5253 - val_loss: 1.9266 - val_accuracy: 0.5267\n",
      "Epoch 40/100\n",
      "329/329 - 0s - loss: 1.9203 - accuracy: 0.5273 - val_loss: 1.9139 - val_accuracy: 0.5286\n",
      "Epoch 41/100\n",
      "329/329 - 0s - loss: 1.9076 - accuracy: 0.5287 - val_loss: 1.9011 - val_accuracy: 0.5279\n",
      "Epoch 42/100\n",
      "329/329 - 0s - loss: 1.8947 - accuracy: 0.5252 - val_loss: 1.8882 - val_accuracy: 0.5302\n",
      "Epoch 43/100\n",
      "329/329 - 0s - loss: 1.8817 - accuracy: 0.5279 - val_loss: 1.8752 - val_accuracy: 0.5242\n",
      "Epoch 44/100\n",
      "329/329 - 0s - loss: 1.8685 - accuracy: 0.5242 - val_loss: 1.8620 - val_accuracy: 0.5318\n",
      "Epoch 45/100\n",
      "329/329 - 0s - loss: 1.8554 - accuracy: 0.5300 - val_loss: 1.8487 - val_accuracy: 0.5369\n",
      "Epoch 46/100\n",
      "329/329 - 0s - loss: 1.8421 - accuracy: 0.5369 - val_loss: 1.8355 - val_accuracy: 0.5364\n",
      "Epoch 47/100\n",
      "329/329 - 0s - loss: 1.8287 - accuracy: 0.5361 - val_loss: 1.8221 - val_accuracy: 0.5405\n",
      "Epoch 48/100\n",
      "329/329 - 0s - loss: 1.8153 - accuracy: 0.5416 - val_loss: 1.8086 - val_accuracy: 0.5422\n",
      "Epoch 49/100\n",
      "329/329 - 0s - loss: 1.8019 - accuracy: 0.5385 - val_loss: 1.7951 - val_accuracy: 0.5418\n",
      "Epoch 50/100\n",
      "329/329 - 0s - loss: 1.7884 - accuracy: 0.5396 - val_loss: 1.7815 - val_accuracy: 0.5469\n",
      "Epoch 51/100\n",
      "329/329 - 0s - loss: 1.7750 - accuracy: 0.5490 - val_loss: 1.7683 - val_accuracy: 0.5512\n",
      "Epoch 52/100\n",
      "329/329 - 0s - loss: 1.7615 - accuracy: 0.5531 - val_loss: 1.7547 - val_accuracy: 0.5549\n",
      "Epoch 53/100\n",
      "329/329 - 0s - loss: 1.7481 - accuracy: 0.5519 - val_loss: 1.7412 - val_accuracy: 0.5561\n",
      "Epoch 54/100\n",
      "329/329 - 0s - loss: 1.7344 - accuracy: 0.5579 - val_loss: 1.7269 - val_accuracy: 0.5561\n",
      "Epoch 55/100\n",
      "329/329 - 0s - loss: 1.7179 - accuracy: 0.5478 - val_loss: 1.7097 - val_accuracy: 0.5526\n",
      "Epoch 56/100\n",
      "329/329 - 0s - loss: 1.7033 - accuracy: 0.5511 - val_loss: 1.6961 - val_accuracy: 0.5582\n",
      "Epoch 57/100\n",
      "329/329 - 0s - loss: 1.6899 - accuracy: 0.5555 - val_loss: 1.6829 - val_accuracy: 0.5599\n",
      "Epoch 58/100\n",
      "329/329 - 0s - loss: 1.6767 - accuracy: 0.5591 - val_loss: 1.6698 - val_accuracy: 0.5652\n",
      "Epoch 59/100\n",
      "329/329 - 0s - loss: 1.6638 - accuracy: 0.5645 - val_loss: 1.6568 - val_accuracy: 0.5632\n",
      "Epoch 60/100\n",
      "329/329 - 0s - loss: 1.6509 - accuracy: 0.5650 - val_loss: 1.6440 - val_accuracy: 0.5691\n",
      "Epoch 61/100\n",
      "329/329 - 0s - loss: 1.6381 - accuracy: 0.5700 - val_loss: 1.6315 - val_accuracy: 0.5704\n",
      "Epoch 62/100\n",
      "329/329 - 0s - loss: 1.6256 - accuracy: 0.5737 - val_loss: 1.6189 - val_accuracy: 0.5792\n",
      "Epoch 63/100\n",
      "329/329 - 0s - loss: 1.6131 - accuracy: 0.5784 - val_loss: 1.6063 - val_accuracy: 0.5832\n",
      "Epoch 64/100\n",
      "329/329 - 0s - loss: 1.6008 - accuracy: 0.5845 - val_loss: 1.5943 - val_accuracy: 0.5854\n",
      "Epoch 65/100\n",
      "329/329 - 0s - loss: 1.5887 - accuracy: 0.5858 - val_loss: 1.5822 - val_accuracy: 0.5894\n",
      "Epoch 66/100\n",
      "329/329 - 0s - loss: 1.5767 - accuracy: 0.5890 - val_loss: 1.5702 - val_accuracy: 0.5939\n",
      "Epoch 67/100\n",
      "329/329 - 0s - loss: 1.5650 - accuracy: 0.5928 - val_loss: 1.5587 - val_accuracy: 0.5939\n",
      "Epoch 68/100\n",
      "329/329 - 0s - loss: 1.5534 - accuracy: 0.5946 - val_loss: 1.5471 - val_accuracy: 0.5996\n",
      "Epoch 69/100\n",
      "329/329 - 0s - loss: 1.5421 - accuracy: 0.5955 - val_loss: 1.5358 - val_accuracy: 0.6014\n",
      "Epoch 70/100\n",
      "329/329 - 0s - loss: 1.5308 - accuracy: 0.6000 - val_loss: 1.5248 - val_accuracy: 0.6057\n",
      "Epoch 71/100\n",
      "329/329 - 0s - loss: 1.5199 - accuracy: 0.6066 - val_loss: 1.5138 - val_accuracy: 0.6059\n",
      "Epoch 72/100\n",
      "329/329 - 0s - loss: 1.5090 - accuracy: 0.6068 - val_loss: 1.5031 - val_accuracy: 0.6078\n",
      "Epoch 73/100\n",
      "329/329 - 0s - loss: 1.4983 - accuracy: 0.6068 - val_loss: 1.4925 - val_accuracy: 0.6107\n",
      "Epoch 74/100\n",
      "329/329 - 0s - loss: 1.4879 - accuracy: 0.6059 - val_loss: 1.4821 - val_accuracy: 0.6133\n",
      "Epoch 75/100\n",
      "329/329 - 0s - loss: 1.4776 - accuracy: 0.6108 - val_loss: 1.4719 - val_accuracy: 0.6217\n",
      "Epoch 76/100\n",
      "329/329 - 0s - loss: 1.4674 - accuracy: 0.6223 - val_loss: 1.4619 - val_accuracy: 0.6152\n",
      "Epoch 77/100\n",
      "329/329 - 0s - loss: 1.4575 - accuracy: 0.6179 - val_loss: 1.4521 - val_accuracy: 0.6261\n",
      "Epoch 78/100\n",
      "329/329 - 0s - loss: 1.4478 - accuracy: 0.6252 - val_loss: 1.4426 - val_accuracy: 0.6285\n",
      "Epoch 79/100\n",
      "329/329 - 0s - loss: 1.4382 - accuracy: 0.6260 - val_loss: 1.4331 - val_accuracy: 0.6214\n",
      "Epoch 80/100\n",
      "329/329 - 0s - loss: 1.4286 - accuracy: 0.6207 - val_loss: 1.4238 - val_accuracy: 0.6329\n",
      "Epoch 81/100\n",
      "329/329 - 0s - loss: 1.4195 - accuracy: 0.6310 - val_loss: 1.4145 - val_accuracy: 0.6357\n"
     ]
    },
    {
     "name": "stdout",
     "output_type": "stream",
     "text": [
      "Epoch 82/100\n",
      "329/329 - 0s - loss: 1.4104 - accuracy: 0.6286 - val_loss: 1.4054 - val_accuracy: 0.6359\n",
      "Epoch 83/100\n",
      "329/329 - 0s - loss: 1.4011 - accuracy: 0.6350 - val_loss: 1.3968 - val_accuracy: 0.6375\n",
      "Epoch 84/100\n",
      "329/329 - 0s - loss: 1.3923 - accuracy: 0.6361 - val_loss: 1.3880 - val_accuracy: 0.6393\n",
      "Epoch 85/100\n",
      "329/329 - 0s - loss: 1.3836 - accuracy: 0.6366 - val_loss: 1.3795 - val_accuracy: 0.6414\n",
      "Epoch 86/100\n",
      "329/329 - 0s - loss: 1.3748 - accuracy: 0.6398 - val_loss: 1.3711 - val_accuracy: 0.6413\n",
      "Epoch 87/100\n",
      "329/329 - 0s - loss: 1.3664 - accuracy: 0.6397 - val_loss: 1.3624 - val_accuracy: 0.6443\n",
      "Epoch 88/100\n",
      "329/329 - 0s - loss: 1.3582 - accuracy: 0.6414 - val_loss: 1.3543 - val_accuracy: 0.6468\n",
      "Epoch 89/100\n",
      "329/329 - 0s - loss: 1.3501 - accuracy: 0.6433 - val_loss: 1.3464 - val_accuracy: 0.6504\n",
      "Epoch 90/100\n",
      "329/329 - 0s - loss: 1.3423 - accuracy: 0.6441 - val_loss: 1.3384 - val_accuracy: 0.6503\n",
      "Epoch 91/100\n",
      "329/329 - 0s - loss: 1.3343 - accuracy: 0.6480 - val_loss: 1.3306 - val_accuracy: 0.6518\n",
      "Epoch 92/100\n",
      "329/329 - 0s - loss: 1.3263 - accuracy: 0.6494 - val_loss: 1.3234 - val_accuracy: 0.6539\n",
      "Epoch 93/100\n",
      "329/329 - 0s - loss: 1.3189 - accuracy: 0.6513 - val_loss: 1.3159 - val_accuracy: 0.6564\n",
      "Epoch 94/100\n",
      "329/329 - 0s - loss: 1.3113 - accuracy: 0.6536 - val_loss: 1.3079 - val_accuracy: 0.6549\n",
      "Epoch 95/100\n",
      "329/329 - 0s - loss: 1.3036 - accuracy: 0.6539 - val_loss: 1.3007 - val_accuracy: 0.6567\n",
      "Epoch 96/100\n",
      "329/329 - 0s - loss: 1.2962 - accuracy: 0.6539 - val_loss: 1.2926 - val_accuracy: 0.6613\n",
      "Epoch 97/100\n",
      "329/329 - 0s - loss: 1.2885 - accuracy: 0.6561 - val_loss: 1.2856 - val_accuracy: 0.6589\n",
      "Epoch 98/100\n",
      "329/329 - 0s - loss: 1.2812 - accuracy: 0.6567 - val_loss: 1.2781 - val_accuracy: 0.6617\n",
      "Epoch 99/100\n",
      "329/329 - 0s - loss: 1.2739 - accuracy: 0.6579 - val_loss: 1.2714 - val_accuracy: 0.6634\n",
      "Epoch 100/100\n",
      "329/329 - 0s - loss: 1.2669 - accuracy: 0.6606 - val_loss: 1.2647 - val_accuracy: 0.6636\n"
     ]
    }
   ],
   "source": [
    "history = model.fit(X_train, y_train, validation_split = 0.3, batch_size=128, epochs =  100, verbose = 2)"
   ]
  },
  {
   "cell_type": "code",
   "execution_count": 18,
   "metadata": {},
   "outputs": [
    {
     "data": {
      "image/png": "[encoded data removed]",
      "text/plain": [
       "<Figure size 432x288 with 1 Axes>"
      ]
     },
     "metadata": {
      "needs_background": "light"
     },
     "output_type": "display_data"
    },
    {
     "data": {
      "image/png": "[encoded data removed]",
      "text/plain": [
       "<Figure size 432x288 with 1 Axes>"
      ]
     },
     "metadata": {
      "needs_background": "light"
     },
     "output_type": "display_data"
    }
   ],
   "source": [
    "plot_history(history)"
   ]
  },
  {
   "cell_type": "markdown",
   "metadata": {
    "id": "2hwzerhum81E"
   },
   "source": [
    "Training and validation accuracy seems to improve after around 60 epochs"
   ]
  },
  {
   "cell_type": "code",
   "execution_count": 19,
   "metadata": {
    "colab": {
     "base_uri": "https://localhost:8080/"
    },
    "executionInfo": {
     "elapsed": 316223,
     "status": "ok",
     "timestamp": 1604684948276,
     "user": {
      "displayName": "Buomsoo Kim",
      "photoUrl": "",
      "userId": "18268696804115368229"
     },
     "user_tz": 420
    },
    "id": "mzo9TrI5m81E",
    "outputId": "fb2d1917-506d-417d-ee2d-3e98540bf119"
   },
   "outputs": [
    {
     "name": "stdout",
     "output_type": "stream",
     "text": [
      "313/313 [==============================] - 0s 734us/step - loss: 1.2739 - accuracy: 0.6500\n",
      "Test accuracy:  0.6499999761581421\n"
     ]
    }
   ],
   "source": [
    "results = model.evaluate(X_test, y_test)\n",
    "print('Test accuracy: ', results[1])"
   ]
  },
  {
   "cell_type": "code",
   "execution_count": 20,
   "metadata": {},
   "outputs": [
    {
     "name": "stdout",
     "output_type": "stream",
     "text": [
      "The accuracy of Weight initialization: 0.6605714559555054\n"
     ]
    }
   ],
   "source": [
    "a2 = history.history['accuracy'][np.argmin(history.history['loss'])]\n",
    "print('The accuracy of Weight initialization:', a2)"
   ]
  },
  {
   "cell_type": "markdown",
   "metadata": {
    "id": "OMfsNCzcm81I"
   },
   "source": [
    "## 3. Nonlinearity (Activation function)\n",
    "- Sigmoid functions suffer from gradient vanishing problem, making training slower\n",
    "- There are many choices apart from sigmoid and tanh; try many of them!\n",
    "    - **'relu'** (rectified linear unit) is one of the most popular ones\n",
    "    - **'selu'** (scaled exponential linear unit) is one of the most recent ones\n",
    "- Doc: https://keras.io/activations/"
   ]
  },
  {
   "cell_type": "markdown",
   "metadata": {
    "id": "fO6HhMaLm81I"
   },
   "source": [
    "<img src=\"http://cs231n.github.io/assets/nn1/sigmoid.jpeg\" style=\"width: 400px\"/>\n",
    "<center> **Sigmoid Activation Function** </center>\n",
    "<img src=\"http://cs231n.github.io/assets/nn1/relu.jpeg\" style=\"width: 400px\"/>\n",
    "<center> **Relu Activation Function** </center>"
   ]
  },
  {
   "cell_type": "code",
   "execution_count": 21,
   "metadata": {},
   "outputs": [],
   "source": [
    "model = Sequential()\n",
    "model.add(Dense(50, activation = 'relu', input_shape=[784], kernel_initializer='he_normal'))\n",
    "model.add(Dense(50, activation = 'relu', kernel_initializer='he_normal'))\n",
    "model.add(Dense(50, activation = 'relu', kernel_initializer='he_normal'))\n",
    "model.add(Dense(10, activation = 'softmax', kernel_initializer='he_normal'))\n",
    "\n",
    "sgd = optimizers.SGD(lr = 0.001)\n",
    "model.compile(optimizer = sgd, loss = 'categorical_crossentropy', metrics = ['accuracy'])   "
   ]
  },
  {
   "cell_type": "code",
   "execution_count": 22,
   "metadata": {
    "colab": {
     "base_uri": "https://localhost:8080/"
    },
    "executionInfo": {
     "elapsed": 552058,
     "status": "ok",
     "timestamp": 1604685184126,
     "user": {
      "displayName": "Buomsoo Kim",
      "photoUrl": "",
      "userId": "18268696804115368229"
     },
     "user_tz": 420
    },
    "id": "yeEYkRCwm81L",
    "outputId": "37cbe657-7e64-42d7-be4e-7422a71f5ab0"
   },
   "outputs": [
    {
     "name": "stdout",
     "output_type": "stream",
     "text": [
      "Epoch 1/100\n",
      "329/329 - 1s - loss: 6.9268 - accuracy: 0.2201 - val_loss: 1.9964 - val_accuracy: 0.2799\n",
      "Epoch 2/100\n",
      "329/329 - 0s - loss: 1.8568 - accuracy: 0.2987 - val_loss: 2.1181 - val_accuracy: 0.2053\n",
      "Epoch 3/100\n",
      "329/329 - 0s - loss: 1.6539 - accuracy: 0.3849 - val_loss: 1.7991 - val_accuracy: 0.3323\n",
      "Epoch 4/100\n",
      "329/329 - 0s - loss: 1.5654 - accuracy: 0.4121 - val_loss: 1.6559 - val_accuracy: 0.4128\n",
      "Epoch 5/100\n",
      "329/329 - 0s - loss: 1.5264 - accuracy: 0.4239 - val_loss: 1.5370 - val_accuracy: 0.4268\n",
      "Epoch 6/100\n",
      "329/329 - 0s - loss: 1.4891 - accuracy: 0.4372 - val_loss: 1.6834 - val_accuracy: 0.3798\n",
      "Epoch 7/100\n",
      "329/329 - 0s - loss: 1.4632 - accuracy: 0.4466 - val_loss: 2.1542 - val_accuracy: 0.3092\n",
      "Epoch 8/100\n",
      "329/329 - 0s - loss: 1.4361 - accuracy: 0.4555 - val_loss: 1.4519 - val_accuracy: 0.4463\n",
      "Epoch 9/100\n",
      "329/329 - 0s - loss: 1.4060 - accuracy: 0.4614 - val_loss: 1.4117 - val_accuracy: 0.4716\n",
      "Epoch 10/100\n",
      "329/329 - 0s - loss: 1.3848 - accuracy: 0.4678 - val_loss: 1.4200 - val_accuracy: 0.4523\n",
      "Epoch 11/100\n",
      "329/329 - 0s - loss: 1.3658 - accuracy: 0.4703 - val_loss: 1.3761 - val_accuracy: 0.4626\n",
      "Epoch 12/100\n",
      "329/329 - 0s - loss: 1.3468 - accuracy: 0.4764 - val_loss: 1.4169 - val_accuracy: 0.4568\n",
      "Epoch 13/100\n",
      "329/329 - 0s - loss: 1.3224 - accuracy: 0.4836 - val_loss: 1.3524 - val_accuracy: 0.4672\n",
      "Epoch 14/100\n",
      "329/329 - 0s - loss: 1.3117 - accuracy: 0.4845 - val_loss: 1.3822 - val_accuracy: 0.4626\n",
      "Epoch 15/100\n",
      "329/329 - 0s - loss: 1.2922 - accuracy: 0.4900 - val_loss: 1.3424 - val_accuracy: 0.4676\n",
      "Epoch 16/100\n",
      "329/329 - 0s - loss: 1.2762 - accuracy: 0.4940 - val_loss: 1.3025 - val_accuracy: 0.4874\n",
      "Epoch 17/100\n",
      "329/329 - 0s - loss: 1.2637 - accuracy: 0.5004 - val_loss: 1.3333 - val_accuracy: 0.4758\n",
      "Epoch 18/100\n",
      "329/329 - 0s - loss: 1.2440 - accuracy: 0.5110 - val_loss: 1.4339 - val_accuracy: 0.4707\n",
      "Epoch 19/100\n",
      "329/329 - 0s - loss: 1.1584 - accuracy: 0.5611 - val_loss: 1.4023 - val_accuracy: 0.5725\n",
      "Epoch 20/100\n",
      "329/329 - 0s - loss: 1.1160 - accuracy: 0.5713 - val_loss: 1.2423 - val_accuracy: 0.4972\n",
      "Epoch 21/100\n",
      "329/329 - 0s - loss: 1.0823 - accuracy: 0.5818 - val_loss: 1.1604 - val_accuracy: 0.5492\n",
      "Epoch 22/100\n",
      "329/329 - 0s - loss: 1.0712 - accuracy: 0.5806 - val_loss: 1.3647 - val_accuracy: 0.5129\n",
      "Epoch 23/100\n",
      "329/329 - 0s - loss: 1.0466 - accuracy: 0.5880 - val_loss: 1.2909 - val_accuracy: 0.4955\n",
      "Epoch 24/100\n",
      "329/329 - 0s - loss: 1.0260 - accuracy: 0.5998 - val_loss: 1.0699 - val_accuracy: 0.6104\n",
      "Epoch 25/100\n",
      "329/329 - 0s - loss: 0.9906 - accuracy: 0.6199 - val_loss: 1.4096 - val_accuracy: 0.6007\n",
      "Epoch 26/100\n",
      "329/329 - 0s - loss: 0.9604 - accuracy: 0.6303 - val_loss: 1.0666 - val_accuracy: 0.6346\n",
      "Epoch 27/100\n",
      "329/329 - 0s - loss: 0.9317 - accuracy: 0.6432 - val_loss: 1.0117 - val_accuracy: 0.6144\n",
      "Epoch 28/100\n",
      "329/329 - 0s - loss: 0.9126 - accuracy: 0.6515 - val_loss: 0.9889 - val_accuracy: 0.6559\n",
      "Epoch 29/100\n",
      "329/329 - 0s - loss: 0.8935 - accuracy: 0.6598 - val_loss: 1.3701 - val_accuracy: 0.5847\n",
      "Epoch 30/100\n",
      "329/329 - 0s - loss: 0.8603 - accuracy: 0.6846 - val_loss: 1.4389 - val_accuracy: 0.5673\n",
      "Epoch 31/100\n",
      "329/329 - 0s - loss: 0.8303 - accuracy: 0.6971 - val_loss: 0.9380 - val_accuracy: 0.6699\n",
      "Epoch 32/100\n",
      "329/329 - 0s - loss: 0.8046 - accuracy: 0.7049 - val_loss: 0.9067 - val_accuracy: 0.7041\n",
      "Epoch 33/100\n",
      "329/329 - 0s - loss: 0.7893 - accuracy: 0.7089 - val_loss: 1.2172 - val_accuracy: 0.6408\n",
      "Epoch 34/100\n",
      "329/329 - 0s - loss: 0.7653 - accuracy: 0.7156 - val_loss: 1.2176 - val_accuracy: 0.5976\n",
      "Epoch 35/100\n",
      "329/329 - 0s - loss: 0.7536 - accuracy: 0.7157 - val_loss: 0.8307 - val_accuracy: 0.7070\n",
      "Epoch 36/100\n",
      "329/329 - 0s - loss: 0.7308 - accuracy: 0.7233 - val_loss: 0.8114 - val_accuracy: 0.7109\n",
      "Epoch 37/100\n",
      "329/329 - 0s - loss: 0.7145 - accuracy: 0.7297 - val_loss: 0.7813 - val_accuracy: 0.7161\n",
      "Epoch 38/100\n",
      "329/329 - 0s - loss: 0.7005 - accuracy: 0.7348 - val_loss: 0.7496 - val_accuracy: 0.7266\n",
      "Epoch 39/100\n",
      "329/329 - 0s - loss: 0.6919 - accuracy: 0.7355 - val_loss: 0.7607 - val_accuracy: 0.7119\n",
      "Epoch 40/100\n",
      "329/329 - 0s - loss: 0.6825 - accuracy: 0.7398 - val_loss: 0.8115 - val_accuracy: 0.7162\n",
      "Epoch 41/100\n",
      "329/329 - 0s - loss: 0.6748 - accuracy: 0.7406 - val_loss: 0.7659 - val_accuracy: 0.7236\n",
      "Epoch 42/100\n",
      "329/329 - 0s - loss: 0.6703 - accuracy: 0.7420 - val_loss: 0.7395 - val_accuracy: 0.6900\n",
      "Epoch 43/100\n",
      "329/329 - 0s - loss: 0.6611 - accuracy: 0.7439 - val_loss: 0.8049 - val_accuracy: 0.6765\n",
      "Epoch 44/100\n",
      "329/329 - 0s - loss: 0.6564 - accuracy: 0.7460 - val_loss: 0.6893 - val_accuracy: 0.7638\n",
      "Epoch 45/100\n",
      "329/329 - 0s - loss: 0.6504 - accuracy: 0.7477 - val_loss: 0.8242 - val_accuracy: 0.6795\n",
      "Epoch 46/100\n",
      "329/329 - 0s - loss: 0.6482 - accuracy: 0.7496 - val_loss: 0.6994 - val_accuracy: 0.7445\n",
      "Epoch 47/100\n",
      "329/329 - 0s - loss: 0.6390 - accuracy: 0.7521 - val_loss: 0.7523 - val_accuracy: 0.7109\n",
      "Epoch 48/100\n",
      "329/329 - 0s - loss: 0.6371 - accuracy: 0.7540 - val_loss: 1.0120 - val_accuracy: 0.6489\n",
      "Epoch 49/100\n",
      "329/329 - 0s - loss: 0.6358 - accuracy: 0.7545 - val_loss: 0.6844 - val_accuracy: 0.7376\n",
      "Epoch 50/100\n",
      "329/329 - 0s - loss: 0.6262 - accuracy: 0.7593 - val_loss: 0.7401 - val_accuracy: 0.7106\n",
      "Epoch 51/100\n",
      "329/329 - 0s - loss: 0.6251 - accuracy: 0.7592 - val_loss: 0.7436 - val_accuracy: 0.6937\n",
      "Epoch 52/100\n",
      "329/329 - 0s - loss: 0.6174 - accuracy: 0.7683 - val_loss: 0.6651 - val_accuracy: 0.7632\n",
      "Epoch 53/100\n",
      "329/329 - 0s - loss: 0.6130 - accuracy: 0.7776 - val_loss: 0.7824 - val_accuracy: 0.7151\n",
      "Epoch 54/100\n",
      "329/329 - 0s - loss: 0.5995 - accuracy: 0.7838 - val_loss: 0.7139 - val_accuracy: 0.7596\n",
      "Epoch 55/100\n",
      "329/329 - 0s - loss: 0.5937 - accuracy: 0.7876 - val_loss: 0.7390 - val_accuracy: 0.7499\n",
      "Epoch 56/100\n",
      "329/329 - 0s - loss: 0.5857 - accuracy: 0.7896 - val_loss: 0.6631 - val_accuracy: 0.7824\n",
      "Epoch 57/100\n",
      "329/329 - 0s - loss: 0.5795 - accuracy: 0.7948 - val_loss: 0.6626 - val_accuracy: 0.7712\n",
      "Epoch 58/100\n",
      "329/329 - 0s - loss: 0.5718 - accuracy: 0.7973 - val_loss: 1.1624 - val_accuracy: 0.7079\n",
      "Epoch 59/100\n",
      "329/329 - 0s - loss: 0.5720 - accuracy: 0.7973 - val_loss: 0.9151 - val_accuracy: 0.7023\n",
      "Epoch 60/100\n",
      "329/329 - 0s - loss: 0.5671 - accuracy: 0.8000 - val_loss: 0.6339 - val_accuracy: 0.7831\n",
      "Epoch 61/100\n",
      "329/329 - 0s - loss: 0.5629 - accuracy: 0.8025 - val_loss: 0.8658 - val_accuracy: 0.7160\n",
      "Epoch 62/100\n",
      "329/329 - 0s - loss: 0.5601 - accuracy: 0.8031 - val_loss: 0.6308 - val_accuracy: 0.7823\n",
      "Epoch 63/100\n",
      "329/329 - 0s - loss: 0.5553 - accuracy: 0.8046 - val_loss: 0.6136 - val_accuracy: 0.7989\n",
      "Epoch 64/100\n",
      "329/329 - 0s - loss: 0.5490 - accuracy: 0.8076 - val_loss: 0.6203 - val_accuracy: 0.7952\n",
      "Epoch 65/100\n",
      "329/329 - 0s - loss: 0.5491 - accuracy: 0.8075 - val_loss: 0.6130 - val_accuracy: 0.7871\n",
      "Epoch 66/100\n",
      "329/329 - 0s - loss: 0.5452 - accuracy: 0.8092 - val_loss: 0.6655 - val_accuracy: 0.7653\n",
      "Epoch 67/100\n",
      "329/329 - 0s - loss: 0.5407 - accuracy: 0.8105 - val_loss: 0.6783 - val_accuracy: 0.7711\n",
      "Epoch 68/100\n",
      "329/329 - 0s - loss: 0.5416 - accuracy: 0.8100 - val_loss: 0.7049 - val_accuracy: 0.7753\n",
      "Epoch 69/100\n",
      "329/329 - 0s - loss: 0.5376 - accuracy: 0.8126 - val_loss: 0.6326 - val_accuracy: 0.7802\n",
      "Epoch 70/100\n",
      "329/329 - 0s - loss: 0.5358 - accuracy: 0.8130 - val_loss: 0.8664 - val_accuracy: 0.7056\n",
      "Epoch 71/100\n",
      "329/329 - 0s - loss: 0.5348 - accuracy: 0.8138 - val_loss: 0.7781 - val_accuracy: 0.7481\n",
      "Epoch 72/100\n",
      "329/329 - 0s - loss: 0.5323 - accuracy: 0.8121 - val_loss: 0.5988 - val_accuracy: 0.8035\n",
      "Epoch 73/100\n",
      "329/329 - 0s - loss: 0.5281 - accuracy: 0.8140 - val_loss: 0.6394 - val_accuracy: 0.7891\n",
      "Epoch 74/100\n",
      "329/329 - 0s - loss: 0.5275 - accuracy: 0.8144 - val_loss: 0.6185 - val_accuracy: 0.7940\n",
      "Epoch 75/100\n",
      "329/329 - 0s - loss: 0.5218 - accuracy: 0.8176 - val_loss: 0.6780 - val_accuracy: 0.7659\n",
      "Epoch 76/100\n",
      "329/329 - 0s - loss: 0.5238 - accuracy: 0.8157 - val_loss: 0.9492 - val_accuracy: 0.6801\n",
      "Epoch 77/100\n",
      "329/329 - 0s - loss: 0.5219 - accuracy: 0.8162 - val_loss: 0.6987 - val_accuracy: 0.7557\n",
      "Epoch 78/100\n",
      "329/329 - 0s - loss: 0.5195 - accuracy: 0.8180 - val_loss: 0.6892 - val_accuracy: 0.7846\n",
      "Epoch 79/100\n",
      "329/329 - 0s - loss: 0.5177 - accuracy: 0.8177 - val_loss: 0.6021 - val_accuracy: 0.8011\n",
      "Epoch 80/100\n",
      "329/329 - 0s - loss: 0.5158 - accuracy: 0.8193 - val_loss: 0.6411 - val_accuracy: 0.7867\n",
      "Epoch 81/100\n",
      "329/329 - 0s - loss: 0.5127 - accuracy: 0.8190 - val_loss: 0.5834 - val_accuracy: 0.8054\n"
     ]
    },
    {
     "name": "stdout",
     "output_type": "stream",
     "text": [
      "Epoch 82/100\n",
      "329/329 - 0s - loss: 0.5115 - accuracy: 0.8208 - val_loss: 0.7372 - val_accuracy: 0.7095\n",
      "Epoch 83/100\n",
      "329/329 - 0s - loss: 0.5119 - accuracy: 0.8200 - val_loss: 0.6543 - val_accuracy: 0.7907\n",
      "Epoch 84/100\n",
      "329/329 - 0s - loss: 0.5094 - accuracy: 0.8222 - val_loss: 0.8029 - val_accuracy: 0.7601\n",
      "Epoch 85/100\n",
      "329/329 - 0s - loss: 0.5100 - accuracy: 0.8225 - val_loss: 0.6702 - val_accuracy: 0.7637\n",
      "Epoch 86/100\n",
      "329/329 - 0s - loss: 0.5063 - accuracy: 0.8225 - val_loss: 0.5918 - val_accuracy: 0.8060\n",
      "Epoch 87/100\n",
      "329/329 - 0s - loss: 0.5043 - accuracy: 0.8239 - val_loss: 0.5694 - val_accuracy: 0.8124\n",
      "Epoch 88/100\n",
      "329/329 - 0s - loss: 0.5037 - accuracy: 0.8249 - val_loss: 0.6312 - val_accuracy: 0.7790\n",
      "Epoch 89/100\n",
      "329/329 - 0s - loss: 0.5012 - accuracy: 0.8254 - val_loss: 0.5824 - val_accuracy: 0.8070\n",
      "Epoch 90/100\n",
      "329/329 - 0s - loss: 0.5008 - accuracy: 0.8240 - val_loss: 0.5771 - val_accuracy: 0.8078\n",
      "Epoch 91/100\n",
      "329/329 - 0s - loss: 0.4998 - accuracy: 0.8232 - val_loss: 0.6062 - val_accuracy: 0.7958\n",
      "Epoch 92/100\n",
      "329/329 - 0s - loss: 0.4993 - accuracy: 0.8250 - val_loss: 0.5739 - val_accuracy: 0.8107\n",
      "Epoch 93/100\n",
      "329/329 - 0s - loss: 0.4971 - accuracy: 0.8245 - val_loss: 0.5669 - val_accuracy: 0.8122\n",
      "Epoch 94/100\n",
      "329/329 - 0s - loss: 0.4953 - accuracy: 0.8270 - val_loss: 0.5880 - val_accuracy: 0.8072\n",
      "Epoch 95/100\n",
      "329/329 - 0s - loss: 0.4958 - accuracy: 0.8272 - val_loss: 0.7938 - val_accuracy: 0.7336\n",
      "Epoch 96/100\n",
      "329/329 - 0s - loss: 0.4951 - accuracy: 0.8264 - val_loss: 0.5998 - val_accuracy: 0.8020\n",
      "Epoch 97/100\n",
      "329/329 - 0s - loss: 0.4920 - accuracy: 0.8285 - val_loss: 1.1671 - val_accuracy: 0.7127\n",
      "Epoch 98/100\n",
      "329/329 - 0s - loss: 0.4983 - accuracy: 0.8261 - val_loss: 0.6931 - val_accuracy: 0.7466\n",
      "Epoch 99/100\n",
      "329/329 - 0s - loss: 0.4930 - accuracy: 0.8271 - val_loss: 0.6090 - val_accuracy: 0.8042\n",
      "Epoch 100/100\n",
      "329/329 - 0s - loss: 0.4903 - accuracy: 0.8291 - val_loss: 0.6091 - val_accuracy: 0.7965\n"
     ]
    }
   ],
   "source": [
    "history = model.fit(X_train, y_train, validation_split = 0.3, batch_size=128, epochs =  100, verbose = 2)"
   ]
  },
  {
   "cell_type": "code",
   "execution_count": 23,
   "metadata": {},
   "outputs": [
    {
     "data": {
      "image/png": "[encoded data removed]",
      "text/plain": [
       "<Figure size 432x288 with 1 Axes>"
      ]
     },
     "metadata": {
      "needs_background": "light"
     },
     "output_type": "display_data"
    },
    {
     "data": {
      "image/png": "[encoded data removed]",
      "text/plain": [
       "<Figure size 432x288 with 1 Axes>"
      ]
     },
     "metadata": {
      "needs_background": "light"
     },
     "output_type": "display_data"
    }
   ],
   "source": [
    "plot_history(history)"
   ]
  },
  {
   "cell_type": "markdown",
   "metadata": {
    "id": "TutiUGFIm81Q"
   },
   "source": [
    "Training and validation accuracy improve instantaneously, but reach a plateau after around 30 epochs"
   ]
  },
  {
   "cell_type": "code",
   "execution_count": 24,
   "metadata": {
    "colab": {
     "base_uri": "https://localhost:8080/"
    },
    "executionInfo": {
     "elapsed": 552520,
     "status": "ok",
     "timestamp": 1604685184602,
     "user": {
      "displayName": "Buomsoo Kim",
      "photoUrl": "",
      "userId": "18268696804115368229"
     },
     "user_tz": 420
    },
    "id": "koMrvUyJm81R",
    "outputId": "d28b3257-f557-4ca2-8644-96cb7ec19ed0"
   },
   "outputs": [
    {
     "name": "stdout",
     "output_type": "stream",
     "text": [
      "313/313 [==============================] - 0s 721us/step - loss: 0.6308 - accuracy: 0.7923\n",
      "Test accuracy:  0.7922999858856201\n"
     ]
    }
   ],
   "source": [
    "results = model.evaluate(X_test, y_test)\n",
    "\n",
    "print('Test accuracy: ', results[1])"
   ]
  },
  {
   "cell_type": "code",
   "execution_count": 25,
   "metadata": {},
   "outputs": [
    {
     "name": "stdout",
     "output_type": "stream",
     "text": [
      "The accuracy of the SeLU is: 0.8291190266609192\n"
     ]
    }
   ],
   "source": [
    "a3 = history.history['accuracy'][np.argmin(history.history['loss'])]\n",
    "print('The accuracy of the SeLU is:', a3)"
   ]
  },
  {
   "cell_type": "markdown",
   "metadata": {
    "id": "fcqGvLFsm81V"
   },
   "source": [
    "## 4. Optimizers\n",
    "- Many variants of SGD are proposed and employed nowadays\n",
    "- One of the most popular ones are Adam (Adaptive Moment Estimation)\n",
    "- Doc: https://keras.io/optimizers/"
   ]
  },
  {
   "cell_type": "markdown",
   "metadata": {
    "id": "94XG6lbrm81V"
   },
   "source": [
    "<img src=\"http://cs231n.github.io/assets/nn3/opt2.gif\" style=\"width: 400px\"/>\n",
    "<br><center> **Relative convergence speed of different optimizers** </center></br>"
   ]
  },
  {
   "cell_type": "code",
   "execution_count": 26,
   "metadata": {},
   "outputs": [],
   "source": [
    "model = Sequential()\n",
    "model.add(Dense(50, activation = 'relu', input_shape=[784], kernel_initializer='he_normal'))\n",
    "model.add(Dense(50, activation = 'relu', kernel_initializer='he_normal'))\n",
    "model.add(Dense(50, activation = 'relu', kernel_initializer='he_normal'))\n",
    "model.add(Dense(10, activation = 'softmax', kernel_initializer='he_normal'))\n",
    " \n",
    "sgd = optimizers.Adam(lr = 0.001)\n",
    "model.compile(optimizer = sgd, loss = 'categorical_crossentropy', metrics = ['accuracy'])  "
   ]
  },
  {
   "cell_type": "code",
   "execution_count": 27,
   "metadata": {
    "id": "Fzn5iX2Um81Y"
   },
   "outputs": [
    {
     "name": "stdout",
     "output_type": "stream",
     "text": [
      "Epoch 1/100\n",
      "329/329 - 1s - loss: 5.6413 - accuracy: 0.6408 - val_loss: 1.6877 - val_accuracy: 0.6852\n",
      "Epoch 2/100\n",
      "329/329 - 0s - loss: 1.2134 - accuracy: 0.7315 - val_loss: 1.0174 - val_accuracy: 0.7383\n",
      "Epoch 3/100\n",
      "329/329 - 0s - loss: 0.8249 - accuracy: 0.7647 - val_loss: 0.7996 - val_accuracy: 0.7770\n",
      "Epoch 4/100\n",
      "329/329 - 0s - loss: 0.6641 - accuracy: 0.7918 - val_loss: 0.6733 - val_accuracy: 0.8004\n",
      "Epoch 5/100\n",
      "329/329 - 0s - loss: 0.6079 - accuracy: 0.8022 - val_loss: 0.6353 - val_accuracy: 0.7986\n",
      "Epoch 6/100\n",
      "329/329 - 0s - loss: 0.5440 - accuracy: 0.8170 - val_loss: 0.6250 - val_accuracy: 0.7937\n",
      "Epoch 7/100\n",
      "329/329 - 0s - loss: 0.5093 - accuracy: 0.8233 - val_loss: 0.5556 - val_accuracy: 0.8192\n",
      "Epoch 8/100\n",
      "329/329 - 0s - loss: 0.4931 - accuracy: 0.8278 - val_loss: 0.5669 - val_accuracy: 0.8188\n",
      "Epoch 9/100\n",
      "329/329 - 1s - loss: 0.4656 - accuracy: 0.8347 - val_loss: 0.5619 - val_accuracy: 0.8230\n",
      "Epoch 10/100\n",
      "329/329 - 1s - loss: 0.4559 - accuracy: 0.8375 - val_loss: 0.5896 - val_accuracy: 0.8163\n",
      "Epoch 11/100\n",
      "329/329 - 1s - loss: 0.4420 - accuracy: 0.8432 - val_loss: 0.5283 - val_accuracy: 0.8251\n",
      "Epoch 12/100\n",
      "329/329 - 0s - loss: 0.4304 - accuracy: 0.8457 - val_loss: 0.5294 - val_accuracy: 0.8289\n",
      "Epoch 13/100\n",
      "329/329 - 0s - loss: 0.4308 - accuracy: 0.8466 - val_loss: 0.5264 - val_accuracy: 0.8268\n",
      "Epoch 14/100\n",
      "329/329 - 1s - loss: 0.4284 - accuracy: 0.8444 - val_loss: 0.5010 - val_accuracy: 0.8411\n",
      "Epoch 15/100\n",
      "329/329 - 0s - loss: 0.4267 - accuracy: 0.8470 - val_loss: 0.4882 - val_accuracy: 0.8317\n",
      "Epoch 16/100\n",
      "329/329 - 0s - loss: 0.4223 - accuracy: 0.8509 - val_loss: 0.4843 - val_accuracy: 0.8388\n",
      "Epoch 17/100\n",
      "329/329 - 0s - loss: 0.4153 - accuracy: 0.8505 - val_loss: 0.5634 - val_accuracy: 0.8206\n",
      "Epoch 18/100\n",
      "329/329 - 0s - loss: 0.3969 - accuracy: 0.8570 - val_loss: 0.4462 - val_accuracy: 0.8531\n",
      "Epoch 19/100\n",
      "329/329 - 0s - loss: 0.3829 - accuracy: 0.8624 - val_loss: 0.4962 - val_accuracy: 0.8370\n",
      "Epoch 20/100\n",
      "329/329 - 0s - loss: 0.3880 - accuracy: 0.8604 - val_loss: 0.4872 - val_accuracy: 0.8431\n",
      "Epoch 21/100\n",
      "329/329 - 0s - loss: 0.3857 - accuracy: 0.8599 - val_loss: 0.5189 - val_accuracy: 0.8346\n",
      "Epoch 22/100\n",
      "329/329 - 0s - loss: 0.3698 - accuracy: 0.8657 - val_loss: 0.4540 - val_accuracy: 0.8486\n",
      "Epoch 23/100\n",
      "329/329 - 0s - loss: 0.3851 - accuracy: 0.8605 - val_loss: 0.5701 - val_accuracy: 0.8307\n",
      "Epoch 24/100\n",
      "329/329 - 0s - loss: 0.3651 - accuracy: 0.8676 - val_loss: 0.4644 - val_accuracy: 0.8447\n",
      "Epoch 25/100\n",
      "329/329 - 1s - loss: 0.3588 - accuracy: 0.8707 - val_loss: 0.5012 - val_accuracy: 0.8357\n",
      "Epoch 26/100\n",
      "329/329 - 0s - loss: 0.3680 - accuracy: 0.8665 - val_loss: 0.5741 - val_accuracy: 0.8213\n",
      "Epoch 27/100\n",
      "329/329 - 1s - loss: 0.3546 - accuracy: 0.8713 - val_loss: 0.4267 - val_accuracy: 0.8598\n",
      "Epoch 28/100\n",
      "329/329 - 0s - loss: 0.3460 - accuracy: 0.8732 - val_loss: 0.5086 - val_accuracy: 0.8273\n",
      "Epoch 29/100\n",
      "329/329 - 0s - loss: 0.3440 - accuracy: 0.8735 - val_loss: 0.4303 - val_accuracy: 0.8618\n",
      "Epoch 30/100\n",
      "329/329 - 0s - loss: 0.3465 - accuracy: 0.8738 - val_loss: 0.4398 - val_accuracy: 0.8528\n",
      "Epoch 31/100\n",
      "329/329 - 0s - loss: 0.3382 - accuracy: 0.8768 - val_loss: 0.4573 - val_accuracy: 0.8489\n",
      "Epoch 32/100\n",
      "329/329 - 0s - loss: 0.3311 - accuracy: 0.8782 - val_loss: 0.4610 - val_accuracy: 0.8584\n",
      "Epoch 33/100\n",
      "329/329 - 0s - loss: 0.3352 - accuracy: 0.8771 - val_loss: 0.4147 - val_accuracy: 0.8634\n",
      "Epoch 34/100\n",
      "329/329 - 0s - loss: 0.3267 - accuracy: 0.8799 - val_loss: 0.4387 - val_accuracy: 0.8561\n",
      "Epoch 35/100\n",
      "329/329 - 0s - loss: 0.3240 - accuracy: 0.8810 - val_loss: 0.4349 - val_accuracy: 0.8568\n",
      "Epoch 36/100\n",
      "329/329 - 0s - loss: 0.3233 - accuracy: 0.8820 - val_loss: 0.4183 - val_accuracy: 0.8674\n",
      "Epoch 37/100\n",
      "329/329 - 0s - loss: 0.3150 - accuracy: 0.8841 - val_loss: 0.4319 - val_accuracy: 0.8576\n",
      "Epoch 38/100\n",
      "329/329 - 0s - loss: 0.3124 - accuracy: 0.8840 - val_loss: 0.4333 - val_accuracy: 0.8593\n",
      "Epoch 39/100\n",
      "329/329 - 1s - loss: 0.3108 - accuracy: 0.8861 - val_loss: 0.4507 - val_accuracy: 0.8595\n",
      "Epoch 40/100\n",
      "329/329 - 0s - loss: 0.3067 - accuracy: 0.8857 - val_loss: 0.4878 - val_accuracy: 0.8441\n",
      "Epoch 41/100\n",
      "329/329 - 1s - loss: 0.3072 - accuracy: 0.8888 - val_loss: 0.4184 - val_accuracy: 0.8649\n",
      "Epoch 42/100\n",
      "329/329 - 0s - loss: 0.2993 - accuracy: 0.8889 - val_loss: 0.4056 - val_accuracy: 0.8707\n",
      "Epoch 43/100\n",
      "329/329 - 0s - loss: 0.2948 - accuracy: 0.8914 - val_loss: 0.4583 - val_accuracy: 0.8593\n",
      "Epoch 44/100\n",
      "329/329 - 0s - loss: 0.3182 - accuracy: 0.8863 - val_loss: 0.5015 - val_accuracy: 0.8419\n",
      "Epoch 45/100\n",
      "329/329 - 0s - loss: 0.2944 - accuracy: 0.8901 - val_loss: 0.4167 - val_accuracy: 0.8688\n",
      "Epoch 46/100\n",
      "329/329 - 0s - loss: 0.2853 - accuracy: 0.8952 - val_loss: 0.4830 - val_accuracy: 0.8395\n",
      "Epoch 47/100\n",
      "329/329 - 0s - loss: 0.3010 - accuracy: 0.8886 - val_loss: 0.4587 - val_accuracy: 0.8549\n",
      "Epoch 48/100\n",
      "329/329 - 0s - loss: 0.3039 - accuracy: 0.8869 - val_loss: 0.4310 - val_accuracy: 0.8657\n",
      "Epoch 49/100\n",
      "329/329 - 0s - loss: 0.2840 - accuracy: 0.8941 - val_loss: 0.4672 - val_accuracy: 0.8549\n",
      "Epoch 50/100\n",
      "329/329 - 0s - loss: 0.2908 - accuracy: 0.8927 - val_loss: 0.4267 - val_accuracy: 0.8700\n",
      "Epoch 51/100\n",
      "329/329 - 0s - loss: 0.2786 - accuracy: 0.8976 - val_loss: 0.4105 - val_accuracy: 0.8695\n",
      "Epoch 52/100\n",
      "329/329 - 1s - loss: 0.2771 - accuracy: 0.8979 - val_loss: 0.4345 - val_accuracy: 0.8629\n",
      "Epoch 53/100\n",
      "329/329 - 1s - loss: 0.2764 - accuracy: 0.8975 - val_loss: 0.4382 - val_accuracy: 0.8586\n",
      "Epoch 54/100\n",
      "329/329 - 1s - loss: 0.2832 - accuracy: 0.8931 - val_loss: 0.4568 - val_accuracy: 0.8589\n",
      "Epoch 55/100\n",
      "329/329 - 0s - loss: 0.2784 - accuracy: 0.8952 - val_loss: 0.4288 - val_accuracy: 0.8684\n",
      "Epoch 56/100\n",
      "329/329 - 0s - loss: 0.2698 - accuracy: 0.8991 - val_loss: 0.4518 - val_accuracy: 0.8638\n",
      "Epoch 57/100\n",
      "329/329 - 1s - loss: 0.2700 - accuracy: 0.8988 - val_loss: 0.4298 - val_accuracy: 0.8667\n",
      "Epoch 58/100\n",
      "329/329 - 1s - loss: 0.2678 - accuracy: 0.8991 - val_loss: 0.4741 - val_accuracy: 0.8600\n",
      "Epoch 59/100\n",
      "329/329 - 0s - loss: 0.2643 - accuracy: 0.9017 - val_loss: 0.4928 - val_accuracy: 0.8680\n",
      "Epoch 60/100\n",
      "329/329 - 1s - loss: 0.2761 - accuracy: 0.8960 - val_loss: 0.4186 - val_accuracy: 0.8684\n",
      "Epoch 61/100\n",
      "329/329 - 1s - loss: 0.2694 - accuracy: 0.8974 - val_loss: 0.4535 - val_accuracy: 0.8667\n",
      "Epoch 62/100\n",
      "329/329 - 0s - loss: 0.2643 - accuracy: 0.9009 - val_loss: 0.4336 - val_accuracy: 0.8663\n",
      "Epoch 63/100\n",
      "329/329 - 1s - loss: 0.2672 - accuracy: 0.9007 - val_loss: 0.4364 - val_accuracy: 0.8593\n",
      "Epoch 64/100\n",
      "329/329 - 1s - loss: 0.2567 - accuracy: 0.9018 - val_loss: 0.4345 - val_accuracy: 0.8666\n",
      "Epoch 65/100\n",
      "329/329 - 1s - loss: 0.2570 - accuracy: 0.9029 - val_loss: 0.4541 - val_accuracy: 0.8652\n",
      "Epoch 66/100\n",
      "329/329 - 1s - loss: 0.2638 - accuracy: 0.9007 - val_loss: 0.4465 - val_accuracy: 0.8737\n",
      "Epoch 67/100\n",
      "329/329 - 1s - loss: 0.2784 - accuracy: 0.8976 - val_loss: 0.4644 - val_accuracy: 0.8587\n",
      "Epoch 68/100\n",
      "329/329 - 1s - loss: 0.2627 - accuracy: 0.9017 - val_loss: 0.4389 - val_accuracy: 0.8686\n",
      "Epoch 69/100\n",
      "329/329 - 1s - loss: 0.2550 - accuracy: 0.9036 - val_loss: 0.5176 - val_accuracy: 0.8391\n",
      "Epoch 70/100\n",
      "329/329 - 1s - loss: 0.2515 - accuracy: 0.9042 - val_loss: 0.4277 - val_accuracy: 0.8736\n",
      "Epoch 71/100\n",
      "329/329 - 1s - loss: 0.2533 - accuracy: 0.9033 - val_loss: 0.4809 - val_accuracy: 0.8669\n",
      "Epoch 72/100\n",
      "329/329 - 0s - loss: 0.2474 - accuracy: 0.9071 - val_loss: 0.4276 - val_accuracy: 0.8684\n",
      "Epoch 73/100\n",
      "329/329 - 0s - loss: 0.2466 - accuracy: 0.9067 - val_loss: 0.5116 - val_accuracy: 0.8592\n",
      "Epoch 74/100\n",
      "329/329 - 1s - loss: 0.2503 - accuracy: 0.9068 - val_loss: 0.4731 - val_accuracy: 0.8729\n",
      "Epoch 75/100\n",
      "329/329 - 1s - loss: 0.2486 - accuracy: 0.9060 - val_loss: 0.4504 - val_accuracy: 0.8702\n",
      "Epoch 76/100\n",
      "329/329 - 0s - loss: 0.2508 - accuracy: 0.9049 - val_loss: 0.5027 - val_accuracy: 0.8518\n",
      "Epoch 77/100\n",
      "329/329 - 0s - loss: 0.2530 - accuracy: 0.9065 - val_loss: 0.4637 - val_accuracy: 0.8699\n",
      "Epoch 78/100\n",
      "329/329 - 0s - loss: 0.2445 - accuracy: 0.9077 - val_loss: 0.4411 - val_accuracy: 0.8742\n",
      "Epoch 79/100\n",
      "329/329 - 0s - loss: 0.2427 - accuracy: 0.9085 - val_loss: 0.5258 - val_accuracy: 0.8529\n",
      "Epoch 80/100\n",
      "329/329 - 0s - loss: 0.2492 - accuracy: 0.9059 - val_loss: 0.4769 - val_accuracy: 0.8739\n",
      "Epoch 81/100\n",
      "329/329 - 0s - loss: 0.2438 - accuracy: 0.9094 - val_loss: 0.4927 - val_accuracy: 0.8683\n"
     ]
    },
    {
     "name": "stdout",
     "output_type": "stream",
     "text": [
      "Epoch 82/100\n",
      "329/329 - 0s - loss: 0.2510 - accuracy: 0.9052 - val_loss: 0.4950 - val_accuracy: 0.8556\n",
      "Epoch 83/100\n",
      "329/329 - 0s - loss: 0.2521 - accuracy: 0.9065 - val_loss: 0.4425 - val_accuracy: 0.8716\n",
      "Epoch 84/100\n",
      "329/329 - 0s - loss: 0.2441 - accuracy: 0.9075 - val_loss: 0.4656 - val_accuracy: 0.8669\n",
      "Epoch 85/100\n",
      "329/329 - 0s - loss: 0.2428 - accuracy: 0.9078 - val_loss: 0.4514 - val_accuracy: 0.8724\n",
      "Epoch 86/100\n",
      "329/329 - 0s - loss: 0.2422 - accuracy: 0.9093 - val_loss: 0.5215 - val_accuracy: 0.8580\n",
      "Epoch 87/100\n",
      "329/329 - 0s - loss: 0.2491 - accuracy: 0.9068 - val_loss: 0.4621 - val_accuracy: 0.8693\n",
      "Epoch 88/100\n",
      "329/329 - 1s - loss: 0.2373 - accuracy: 0.9109 - val_loss: 0.5537 - val_accuracy: 0.8499\n",
      "Epoch 89/100\n",
      "329/329 - 0s - loss: 0.2317 - accuracy: 0.9128 - val_loss: 0.4826 - val_accuracy: 0.8723\n",
      "Epoch 90/100\n",
      "329/329 - 0s - loss: 0.2383 - accuracy: 0.9098 - val_loss: 0.4611 - val_accuracy: 0.8734\n",
      "Epoch 91/100\n",
      "329/329 - 0s - loss: 0.2319 - accuracy: 0.9127 - val_loss: 0.4703 - val_accuracy: 0.8724\n",
      "Epoch 92/100\n",
      "329/329 - 0s - loss: 0.2340 - accuracy: 0.9124 - val_loss: 0.4749 - val_accuracy: 0.8717\n",
      "Epoch 93/100\n",
      "329/329 - 0s - loss: 0.2427 - accuracy: 0.9091 - val_loss: 0.4721 - val_accuracy: 0.8732\n",
      "Epoch 94/100\n",
      "329/329 - 0s - loss: 0.2317 - accuracy: 0.9135 - val_loss: 0.4954 - val_accuracy: 0.8731\n",
      "Epoch 95/100\n",
      "329/329 - 0s - loss: 0.2345 - accuracy: 0.9118 - val_loss: 0.5015 - val_accuracy: 0.8717\n",
      "Epoch 96/100\n",
      "329/329 - 0s - loss: 0.2290 - accuracy: 0.9139 - val_loss: 0.4854 - val_accuracy: 0.8669\n",
      "Epoch 97/100\n",
      "329/329 - 0s - loss: 0.2280 - accuracy: 0.9132 - val_loss: 0.4823 - val_accuracy: 0.8722\n",
      "Epoch 98/100\n",
      "329/329 - 0s - loss: 0.2262 - accuracy: 0.9148 - val_loss: 0.4747 - val_accuracy: 0.8707\n",
      "Epoch 99/100\n",
      "329/329 - 0s - loss: 0.2238 - accuracy: 0.9148 - val_loss: 0.5675 - val_accuracy: 0.8649\n",
      "Epoch 100/100\n",
      "329/329 - 0s - loss: 0.2367 - accuracy: 0.9110 - val_loss: 0.4794 - val_accuracy: 0.8694\n"
     ]
    }
   ],
   "source": [
    "history = model.fit(X_train, y_train, validation_split = 0.3, batch_size=128, epochs =  100, verbose = 2)"
   ]
  },
  {
   "cell_type": "markdown",
   "metadata": {
    "id": "xCEHlMxrm81c"
   },
   "source": [
    "Training and validation accuracy improve instantaneously, but reach plateau after around 50 epochs"
   ]
  },
  {
   "cell_type": "code",
   "execution_count": 28,
   "metadata": {},
   "outputs": [
    {
     "data": {
      "image/png": "[encoded data removed]",
      "text/plain": [
       "<Figure size 432x288 with 1 Axes>"
      ]
     },
     "metadata": {
      "needs_background": "light"
     },
     "output_type": "display_data"
    },
    {
     "data": {
      "image/png": "[encoded data removed]",
      "text/plain": [
       "<Figure size 432x288 with 1 Axes>"
      ]
     },
     "metadata": {
      "needs_background": "light"
     },
     "output_type": "display_data"
    }
   ],
   "source": [
    "plot_history(history)"
   ]
  },
  {
   "cell_type": "code",
   "execution_count": 29,
   "metadata": {
    "colab": {
     "base_uri": "https://localhost:8080/"
    },
    "executionInfo": {
     "elapsed": 785370,
     "status": "ok",
     "timestamp": 1604685417478,
     "user": {
      "displayName": "Buomsoo Kim",
      "photoUrl": "",
      "userId": "18268696804115368229"
     },
     "user_tz": 420
    },
    "id": "Zm-4ybkLm81d",
    "outputId": "cc6df5d1-bcfd-4656-8bc0-7588a149ab61"
   },
   "outputs": [
    {
     "name": "stdout",
     "output_type": "stream",
     "text": [
      "313/313 [==============================] - 0s 982us/step - loss: 0.4984 - accuracy: 0.8592\n",
      "Test accuracy:  0.8592000007629395\n"
     ]
    }
   ],
   "source": [
    "results = model.evaluate(X_test, y_test)\n",
    "\n",
    "print('Test accuracy: ', results[1])"
   ]
  },
  {
   "cell_type": "code",
   "execution_count": 30,
   "metadata": {},
   "outputs": [
    {
     "name": "stdout",
     "output_type": "stream",
     "text": [
      "The accuracy of the Adam is: 0.9147857427597046\n"
     ]
    }
   ],
   "source": [
    "a4 = history.history['accuracy'][np.argmin(history.history['loss'])]\n",
    "print('The accuracy of the Adam is:', a4)"
   ]
  },
  {
   "cell_type": "markdown",
   "metadata": {
    "id": "DNuN5ygtm81g"
   },
   "source": [
    "## 5. Batch Normalization\n",
    "- Batch Normalization, one of the methods to prevent the \"internal covariance shift\" problem, has proven to be highly effective\n",
    "- Normalize each mini-batch before nonlinearity\n",
    "- Doc: https://keras.io/optimizers/"
   ]
  },
  {
   "cell_type": "markdown",
   "metadata": {
    "id": "aTk5ndUCm81h"
   },
   "source": [
    "<img src=\"https://raw.githubusercontent.com/torch/torch.github.io/master/blog/_posts/images/resnets_modelvariants.png\" style=\"width: 500px\"/>\n",
    "\n",
    "<br> Batch normalization layer is usually inserted after dense/convolution and before nonlinearity"
   ]
  },
  {
   "cell_type": "code",
   "execution_count": 31,
   "metadata": {
    "id": "wXD9H1wfm81h"
   },
   "outputs": [],
   "source": [
    "from keras.layers import BatchNormalization"
   ]
  },
  {
   "cell_type": "code",
   "execution_count": 32,
   "metadata": {},
   "outputs": [],
   "source": [
    "model = Sequential()\n",
    "\n",
    "model.add(Dense(50, activation = 'relu', input_shape=[784], kernel_initializer='he_normal'))\n",
    "model.add(BatchNormalization())  \n",
    "model.add(Dense(50, activation = 'relu', kernel_initializer='he_normal'))\n",
    "model.add(BatchNormalization())  \n",
    "model.add(Dense(50, activation = 'relu', kernel_initializer='he_normal'))\n",
    "model.add(BatchNormalization())  \n",
    "model.add(Dense(10, activation = 'softmax', kernel_initializer='he_normal'))\n",
    "\n",
    "sgd = optimizers.Adam(lr = 0.001)\n",
    "model.compile(optimizer = sgd, loss = 'categorical_crossentropy', metrics = ['accuracy']) "
   ]
  },
  {
   "cell_type": "code",
   "execution_count": 33,
   "metadata": {},
   "outputs": [
    {
     "name": "stdout",
     "output_type": "stream",
     "text": [
      "Epoch 1/100\n",
      "329/329 - 1s - loss: 0.6167 - accuracy: 0.7925 - val_loss: 0.4545 - val_accuracy: 0.8397\n",
      "Epoch 2/100\n",
      "329/329 - 1s - loss: 0.3974 - accuracy: 0.8584 - val_loss: 0.4479 - val_accuracy: 0.8347\n",
      "Epoch 3/100\n",
      "329/329 - 1s - loss: 0.3583 - accuracy: 0.8687 - val_loss: 0.4085 - val_accuracy: 0.8565\n",
      "Epoch 4/100\n",
      "329/329 - 1s - loss: 0.3325 - accuracy: 0.8794 - val_loss: 0.3943 - val_accuracy: 0.8546\n",
      "Epoch 5/100\n",
      "329/329 - 1s - loss: 0.3104 - accuracy: 0.8870 - val_loss: 0.4079 - val_accuracy: 0.8588\n",
      "Epoch 6/100\n",
      "329/329 - 1s - loss: 0.2999 - accuracy: 0.8886 - val_loss: 0.3864 - val_accuracy: 0.8577\n",
      "Epoch 7/100\n",
      "329/329 - 1s - loss: 0.2873 - accuracy: 0.8940 - val_loss: 0.3783 - val_accuracy: 0.8632\n",
      "Epoch 8/100\n",
      "329/329 - 1s - loss: 0.2807 - accuracy: 0.8967 - val_loss: 0.3684 - val_accuracy: 0.8672\n",
      "Epoch 9/100\n",
      "329/329 - 1s - loss: 0.2699 - accuracy: 0.9006 - val_loss: 0.3498 - val_accuracy: 0.8769\n",
      "Epoch 10/100\n",
      "329/329 - 1s - loss: 0.2571 - accuracy: 0.9053 - val_loss: 0.3785 - val_accuracy: 0.8674\n",
      "Epoch 11/100\n",
      "329/329 - 1s - loss: 0.2478 - accuracy: 0.9084 - val_loss: 0.3497 - val_accuracy: 0.8790\n",
      "Epoch 12/100\n",
      "329/329 - 1s - loss: 0.2439 - accuracy: 0.9083 - val_loss: 0.3889 - val_accuracy: 0.8656\n",
      "Epoch 13/100\n",
      "329/329 - 1s - loss: 0.2323 - accuracy: 0.9140 - val_loss: 0.3557 - val_accuracy: 0.8783\n",
      "Epoch 14/100\n",
      "329/329 - 1s - loss: 0.2291 - accuracy: 0.9139 - val_loss: 0.3806 - val_accuracy: 0.8632\n",
      "Epoch 15/100\n",
      "329/329 - 1s - loss: 0.2247 - accuracy: 0.9156 - val_loss: 0.3703 - val_accuracy: 0.8809\n",
      "Epoch 16/100\n",
      "329/329 - 1s - loss: 0.2181 - accuracy: 0.9180 - val_loss: 0.3872 - val_accuracy: 0.8696\n",
      "Epoch 17/100\n",
      "329/329 - 1s - loss: 0.2130 - accuracy: 0.9202 - val_loss: 0.4001 - val_accuracy: 0.8609\n",
      "Epoch 18/100\n",
      "329/329 - 1s - loss: 0.2077 - accuracy: 0.9229 - val_loss: 0.3650 - val_accuracy: 0.8763\n",
      "Epoch 19/100\n",
      "329/329 - 1s - loss: 0.2037 - accuracy: 0.9233 - val_loss: 0.4095 - val_accuracy: 0.8667\n",
      "Epoch 20/100\n",
      "329/329 - 1s - loss: 0.2004 - accuracy: 0.9240 - val_loss: 0.3926 - val_accuracy: 0.8699\n",
      "Epoch 21/100\n",
      "329/329 - 1s - loss: 0.1966 - accuracy: 0.9267 - val_loss: 0.4176 - val_accuracy: 0.8653\n",
      "Epoch 22/100\n",
      "329/329 - 1s - loss: 0.1912 - accuracy: 0.9285 - val_loss: 0.4456 - val_accuracy: 0.8643\n",
      "Epoch 23/100\n",
      "329/329 - 1s - loss: 0.1843 - accuracy: 0.9307 - val_loss: 0.3886 - val_accuracy: 0.8706\n",
      "Epoch 24/100\n",
      "329/329 - 1s - loss: 0.1883 - accuracy: 0.9285 - val_loss: 0.4083 - val_accuracy: 0.8691\n",
      "Epoch 25/100\n",
      "329/329 - 1s - loss: 0.1788 - accuracy: 0.9333 - val_loss: 0.3727 - val_accuracy: 0.8789\n",
      "Epoch 26/100\n",
      "329/329 - 1s - loss: 0.1739 - accuracy: 0.9346 - val_loss: 0.4230 - val_accuracy: 0.8627\n",
      "Epoch 27/100\n",
      "329/329 - 1s - loss: 0.1733 - accuracy: 0.9345 - val_loss: 0.4676 - val_accuracy: 0.8622\n",
      "Epoch 28/100\n",
      "329/329 - 1s - loss: 0.1675 - accuracy: 0.9369 - val_loss: 0.4164 - val_accuracy: 0.8762\n",
      "Epoch 29/100\n",
      "329/329 - 1s - loss: 0.1619 - accuracy: 0.9397 - val_loss: 0.4301 - val_accuracy: 0.8689\n",
      "Epoch 30/100\n",
      "329/329 - 1s - loss: 0.1619 - accuracy: 0.9395 - val_loss: 0.4326 - val_accuracy: 0.8678\n",
      "Epoch 31/100\n",
      "329/329 - 1s - loss: 0.1675 - accuracy: 0.9377 - val_loss: 0.4274 - val_accuracy: 0.8709\n",
      "Epoch 32/100\n",
      "329/329 - 1s - loss: 0.1538 - accuracy: 0.9436 - val_loss: 0.4403 - val_accuracy: 0.8661\n",
      "Epoch 33/100\n",
      "329/329 - 1s - loss: 0.1649 - accuracy: 0.9377 - val_loss: 0.4305 - val_accuracy: 0.8661\n",
      "Epoch 34/100\n",
      "329/329 - 1s - loss: 0.1567 - accuracy: 0.9417 - val_loss: 0.4038 - val_accuracy: 0.8752\n",
      "Epoch 35/100\n",
      "329/329 - 1s - loss: 0.1481 - accuracy: 0.9451 - val_loss: 0.4317 - val_accuracy: 0.8762\n",
      "Epoch 36/100\n",
      "329/329 - 1s - loss: 0.1529 - accuracy: 0.9424 - val_loss: 0.4727 - val_accuracy: 0.8643\n",
      "Epoch 37/100\n",
      "329/329 - 1s - loss: 0.1470 - accuracy: 0.9452 - val_loss: 0.4175 - val_accuracy: 0.8771\n",
      "Epoch 38/100\n",
      "329/329 - 1s - loss: 0.1444 - accuracy: 0.9466 - val_loss: 0.4597 - val_accuracy: 0.8698\n",
      "Epoch 39/100\n",
      "329/329 - 1s - loss: 0.1464 - accuracy: 0.9441 - val_loss: 0.4618 - val_accuracy: 0.8673\n",
      "Epoch 40/100\n",
      "329/329 - 1s - loss: 0.1410 - accuracy: 0.9471 - val_loss: 0.4317 - val_accuracy: 0.8759\n",
      "Epoch 41/100\n",
      "329/329 - 1s - loss: 0.1418 - accuracy: 0.9470 - val_loss: 0.4493 - val_accuracy: 0.8734\n",
      "Epoch 42/100\n",
      "329/329 - 1s - loss: 0.1393 - accuracy: 0.9491 - val_loss: 0.5351 - val_accuracy: 0.8483\n",
      "Epoch 43/100\n",
      "329/329 - 1s - loss: 0.1354 - accuracy: 0.9495 - val_loss: 0.4693 - val_accuracy: 0.8690\n",
      "Epoch 44/100\n",
      "329/329 - 1s - loss: 0.1304 - accuracy: 0.9522 - val_loss: 0.4851 - val_accuracy: 0.8604\n",
      "Epoch 45/100\n",
      "329/329 - 1s - loss: 0.1301 - accuracy: 0.9505 - val_loss: 0.4654 - val_accuracy: 0.8748\n",
      "Epoch 46/100\n",
      "329/329 - 1s - loss: 0.1280 - accuracy: 0.9519 - val_loss: 0.5007 - val_accuracy: 0.8717\n",
      "Epoch 47/100\n",
      "329/329 - 1s - loss: 0.1278 - accuracy: 0.9520 - val_loss: 0.5279 - val_accuracy: 0.8638\n",
      "Epoch 48/100\n",
      "329/329 - 1s - loss: 0.1268 - accuracy: 0.9529 - val_loss: 0.4533 - val_accuracy: 0.8789\n",
      "Epoch 49/100\n",
      "329/329 - 1s - loss: 0.1218 - accuracy: 0.9544 - val_loss: 0.5113 - val_accuracy: 0.8567\n",
      "Epoch 50/100\n",
      "329/329 - 1s - loss: 0.1183 - accuracy: 0.9552 - val_loss: 0.5104 - val_accuracy: 0.8641\n",
      "Epoch 51/100\n",
      "329/329 - 1s - loss: 0.1220 - accuracy: 0.9548 - val_loss: 0.4491 - val_accuracy: 0.8788\n",
      "Epoch 52/100\n",
      "329/329 - 1s - loss: 0.1300 - accuracy: 0.9508 - val_loss: 0.4862 - val_accuracy: 0.8718\n",
      "Epoch 53/100\n",
      "329/329 - 1s - loss: 0.1186 - accuracy: 0.9560 - val_loss: 0.4731 - val_accuracy: 0.8770\n",
      "Epoch 54/100\n",
      "329/329 - 1s - loss: 0.1155 - accuracy: 0.9566 - val_loss: 0.4907 - val_accuracy: 0.8684\n",
      "Epoch 55/100\n",
      "329/329 - 1s - loss: 0.1144 - accuracy: 0.9568 - val_loss: 0.5269 - val_accuracy: 0.8543\n",
      "Epoch 56/100\n",
      "329/329 - 1s - loss: 0.1115 - accuracy: 0.9592 - val_loss: 0.5034 - val_accuracy: 0.8727\n",
      "Epoch 57/100\n",
      "329/329 - 1s - loss: 0.1116 - accuracy: 0.9584 - val_loss: 0.5135 - val_accuracy: 0.8741\n",
      "Epoch 58/100\n",
      "329/329 - 1s - loss: 0.1073 - accuracy: 0.9594 - val_loss: 0.4894 - val_accuracy: 0.8712\n",
      "Epoch 59/100\n",
      "329/329 - 1s - loss: 0.1103 - accuracy: 0.9584 - val_loss: 0.5312 - val_accuracy: 0.8671\n",
      "Epoch 60/100\n",
      "329/329 - 1s - loss: 0.1126 - accuracy: 0.9578 - val_loss: 0.5352 - val_accuracy: 0.8728\n",
      "Epoch 61/100\n",
      "329/329 - 1s - loss: 0.1144 - accuracy: 0.9576 - val_loss: 0.5402 - val_accuracy: 0.8732\n",
      "Epoch 62/100\n",
      "329/329 - 1s - loss: 0.1075 - accuracy: 0.9598 - val_loss: 0.5323 - val_accuracy: 0.8652\n",
      "Epoch 63/100\n",
      "329/329 - 1s - loss: 0.1005 - accuracy: 0.9624 - val_loss: 0.5422 - val_accuracy: 0.8719\n",
      "Epoch 64/100\n",
      "329/329 - 1s - loss: 0.1060 - accuracy: 0.9601 - val_loss: 0.4982 - val_accuracy: 0.8761\n",
      "Epoch 65/100\n",
      "329/329 - 1s - loss: 0.1049 - accuracy: 0.9607 - val_loss: 0.5358 - val_accuracy: 0.8757\n",
      "Epoch 66/100\n",
      "329/329 - 1s - loss: 0.1005 - accuracy: 0.9625 - val_loss: 0.5172 - val_accuracy: 0.8747\n",
      "Epoch 67/100\n",
      "329/329 - 1s - loss: 0.0987 - accuracy: 0.9631 - val_loss: 0.5593 - val_accuracy: 0.8673\n",
      "Epoch 68/100\n",
      "329/329 - 1s - loss: 0.0984 - accuracy: 0.9627 - val_loss: 0.5682 - val_accuracy: 0.8728\n",
      "Epoch 69/100\n",
      "329/329 - 1s - loss: 0.0942 - accuracy: 0.9641 - val_loss: 0.5260 - val_accuracy: 0.8738\n",
      "Epoch 70/100\n",
      "329/329 - 1s - loss: 0.0937 - accuracy: 0.9649 - val_loss: 0.5645 - val_accuracy: 0.8685\n",
      "Epoch 71/100\n",
      "329/329 - 1s - loss: 0.0966 - accuracy: 0.9646 - val_loss: 0.5629 - val_accuracy: 0.8687\n",
      "Epoch 72/100\n",
      "329/329 - 1s - loss: 0.0949 - accuracy: 0.9643 - val_loss: 0.6170 - val_accuracy: 0.8563\n",
      "Epoch 73/100\n",
      "329/329 - 1s - loss: 0.0875 - accuracy: 0.9678 - val_loss: 0.5683 - val_accuracy: 0.8661\n",
      "Epoch 74/100\n",
      "329/329 - 1s - loss: 0.0929 - accuracy: 0.9651 - val_loss: 0.5532 - val_accuracy: 0.8719\n",
      "Epoch 75/100\n",
      "329/329 - 1s - loss: 0.0930 - accuracy: 0.9655 - val_loss: 0.5760 - val_accuracy: 0.8758\n",
      "Epoch 76/100\n",
      "329/329 - 1s - loss: 0.0910 - accuracy: 0.9669 - val_loss: 0.5745 - val_accuracy: 0.8691\n",
      "Epoch 77/100\n",
      "329/329 - 1s - loss: 0.0926 - accuracy: 0.9658 - val_loss: 0.5887 - val_accuracy: 0.8677\n",
      "Epoch 78/100\n",
      "329/329 - 1s - loss: 0.0960 - accuracy: 0.9635 - val_loss: 0.5869 - val_accuracy: 0.8672\n",
      "Epoch 79/100\n",
      "329/329 - 1s - loss: 0.1023 - accuracy: 0.9618 - val_loss: 0.5699 - val_accuracy: 0.8706\n",
      "Epoch 80/100\n",
      "329/329 - 1s - loss: 0.0927 - accuracy: 0.9658 - val_loss: 0.6152 - val_accuracy: 0.8646\n",
      "Epoch 81/100\n",
      "329/329 - 1s - loss: 0.0830 - accuracy: 0.9695 - val_loss: 0.6162 - val_accuracy: 0.8589\n"
     ]
    },
    {
     "name": "stdout",
     "output_type": "stream",
     "text": [
      "Epoch 82/100\n",
      "329/329 - 1s - loss: 0.0826 - accuracy: 0.9690 - val_loss: 0.5613 - val_accuracy: 0.8750\n",
      "Epoch 83/100\n",
      "329/329 - 1s - loss: 0.0876 - accuracy: 0.9675 - val_loss: 0.5725 - val_accuracy: 0.8772\n",
      "Epoch 84/100\n",
      "329/329 - 1s - loss: 0.0923 - accuracy: 0.9655 - val_loss: 0.5758 - val_accuracy: 0.8593\n",
      "Epoch 85/100\n",
      "329/329 - 1s - loss: 0.0849 - accuracy: 0.9688 - val_loss: 0.5594 - val_accuracy: 0.8719\n",
      "Epoch 86/100\n",
      "329/329 - 1s - loss: 0.0821 - accuracy: 0.9701 - val_loss: 0.6395 - val_accuracy: 0.8660\n",
      "Epoch 87/100\n",
      "329/329 - 1s - loss: 0.0864 - accuracy: 0.9686 - val_loss: 0.5727 - val_accuracy: 0.8716\n",
      "Epoch 88/100\n",
      "329/329 - 1s - loss: 0.0873 - accuracy: 0.9671 - val_loss: 0.5896 - val_accuracy: 0.8739\n",
      "Epoch 89/100\n",
      "329/329 - 1s - loss: 0.0833 - accuracy: 0.9693 - val_loss: 0.5763 - val_accuracy: 0.8768\n",
      "Epoch 90/100\n",
      "329/329 - 1s - loss: 0.0817 - accuracy: 0.9695 - val_loss: 0.5960 - val_accuracy: 0.8636\n",
      "Epoch 91/100\n",
      "329/329 - 1s - loss: 0.0749 - accuracy: 0.9717 - val_loss: 0.5895 - val_accuracy: 0.8754\n",
      "Epoch 92/100\n",
      "329/329 - 1s - loss: 0.0806 - accuracy: 0.9706 - val_loss: 0.6103 - val_accuracy: 0.8717\n",
      "Epoch 93/100\n",
      "329/329 - 1s - loss: 0.0788 - accuracy: 0.9714 - val_loss: 0.6009 - val_accuracy: 0.8726\n",
      "Epoch 94/100\n",
      "329/329 - 1s - loss: 0.0778 - accuracy: 0.9711 - val_loss: 0.5797 - val_accuracy: 0.8764\n",
      "Epoch 95/100\n",
      "329/329 - 1s - loss: 0.0741 - accuracy: 0.9724 - val_loss: 0.5962 - val_accuracy: 0.8738\n",
      "Epoch 96/100\n",
      "329/329 - 1s - loss: 0.0806 - accuracy: 0.9695 - val_loss: 0.6276 - val_accuracy: 0.8678\n",
      "Epoch 97/100\n",
      "329/329 - 1s - loss: 0.0752 - accuracy: 0.9719 - val_loss: 0.6300 - val_accuracy: 0.8694\n",
      "Epoch 98/100\n",
      "329/329 - 1s - loss: 0.0788 - accuracy: 0.9701 - val_loss: 0.6583 - val_accuracy: 0.8674\n",
      "Epoch 99/100\n",
      "329/329 - 1s - loss: 0.0699 - accuracy: 0.9742 - val_loss: 0.6204 - val_accuracy: 0.8658\n",
      "Epoch 100/100\n",
      "329/329 - 1s - loss: 0.0765 - accuracy: 0.9719 - val_loss: 0.6172 - val_accuracy: 0.8721\n"
     ]
    }
   ],
   "source": [
    "history = model.fit(X_train, y_train, validation_split = 0.3, batch_size=128, epochs = 100, verbose = 2)"
   ]
  },
  {
   "cell_type": "markdown",
   "metadata": {
    "id": "IvyC1A4Nm81q"
   },
   "source": [
    "Training and validation accuracy improve consistently, but reach plateau after around 60 epochs"
   ]
  },
  {
   "cell_type": "code",
   "execution_count": 34,
   "metadata": {},
   "outputs": [
    {
     "data": {
      "image/png": "[encoded data removed]",
      "text/plain": [
       "<Figure size 432x288 with 1 Axes>"
      ]
     },
     "metadata": {
      "needs_background": "light"
     },
     "output_type": "display_data"
    },
    {
     "data": {
      "image/png": "[encoded data removed]",
      "text/plain": [
       "<Figure size 432x288 with 1 Axes>"
      ]
     },
     "metadata": {
      "needs_background": "light"
     },
     "output_type": "display_data"
    }
   ],
   "source": [
    "plot_history(history)"
   ]
  },
  {
   "cell_type": "code",
   "execution_count": 35,
   "metadata": {
    "colab": {
     "base_uri": "https://localhost:8080/"
    },
    "executionInfo": {
     "elapsed": 1031814,
     "status": "ok",
     "timestamp": 1604685663946,
     "user": {
      "displayName": "Buomsoo Kim",
      "photoUrl": "",
      "userId": "18268696804115368229"
     },
     "user_tz": 420
    },
    "id": "89wGTNv0m81r",
    "outputId": "8a58f27e-1b76-41a4-9574-7220cb03b7c7"
   },
   "outputs": [
    {
     "name": "stdout",
     "output_type": "stream",
     "text": [
      "313/313 [==============================] - 0s 999us/step - loss: 0.6632 - accuracy: 0.8669\n",
      "Test accuracy:  0.8669000267982483\n"
     ]
    }
   ],
   "source": [
    "results = model.evaluate(X_test, y_test)\n",
    "\n",
    "print('Test accuracy: ', results[1])"
   ]
  },
  {
   "cell_type": "code",
   "execution_count": 36,
   "metadata": {},
   "outputs": [
    {
     "name": "stdout",
     "output_type": "stream",
     "text": [
      "The accuracy of the BatchNormalization is: 0.9742380976676941\n"
     ]
    }
   ],
   "source": [
    "a5 = history.history['accuracy'][np.argmin(history.history['loss'])]\n",
    "print('The accuracy of the BatchNormalization is:', a5)"
   ]
  },
  {
   "cell_type": "markdown",
   "metadata": {
    "id": "M_n7L3yrm81w"
   },
   "source": [
    "## 6. Dropout (Regularization)\n",
    "- Dropout is one of powerful ways to prevent overfitting\n",
    "- The idea is simple. It is disconnecting some (randomly selected) neurons in each layer\n",
    "- The probability of each neuron to be disconnected, namely 'Dropout rate', has to be designated\n",
    "- Doc: https://keras.io/layers/core/#dropout"
   ]
  },
  {
   "cell_type": "markdown",
   "metadata": {
    "id": "cgmuU0_Em81w"
   },
   "source": [
    "<img src=\"https://image.slidesharecdn.com/lecture29-convolutionalneuralnetworks-visionspring2015-150504114140-conversion-gate02/95/lecture-29-convolutional-neural-networks-computer-vision-spring2015-62-638.jpg?cb=1430740006\" style=\"width: 500px\"/>"
   ]
  },
  {
   "cell_type": "code",
   "execution_count": 37,
   "metadata": {
    "id": "idwYUgbqm81x"
   },
   "outputs": [],
   "source": [
    "from keras.layers import Dropout"
   ]
  },
  {
   "cell_type": "code",
   "execution_count": 38,
   "metadata": {},
   "outputs": [],
   "source": [
    "model = Sequential()\n",
    "\n",
    "model.add(Dense(50, activation = 'relu', input_shape=[784], kernel_initializer='he_normal'))\n",
    "model.add(BatchNormalization())  \n",
    "model.add(Dropout(0.2))  \n",
    "model.add(Dense(50, activation = 'relu', kernel_initializer='he_normal'))\n",
    "model.add(BatchNormalization())  \n",
    "model.add(Dropout(0.2))  \n",
    "model.add(Dense(50, activation = 'relu', kernel_initializer='he_normal'))\n",
    "model.add(BatchNormalization())  \n",
    "model.add(Dense(10, activation = 'softmax', kernel_initializer='he_normal'))\n",
    "\n",
    "sgd = optimizers.Adam(lr = 0.001)\n",
    "model.compile(optimizer = sgd, loss = 'categorical_crossentropy', metrics = ['accuracy']) "
   ]
  },
  {
   "cell_type": "code",
   "execution_count": 39,
   "metadata": {},
   "outputs": [
    {
     "name": "stdout",
     "output_type": "stream",
     "text": [
      "Epoch 1/100\n",
      "329/329 - 1s - loss: 0.7919 - accuracy: 0.7315 - val_loss: 0.4729 - val_accuracy: 0.8313\n",
      "Epoch 2/100\n",
      "329/329 - 1s - loss: 0.5113 - accuracy: 0.8173 - val_loss: 0.4353 - val_accuracy: 0.8402\n",
      "Epoch 3/100\n",
      "329/329 - 1s - loss: 0.4638 - accuracy: 0.8344 - val_loss: 0.3974 - val_accuracy: 0.8548\n",
      "Epoch 4/100\n",
      "329/329 - 1s - loss: 0.4379 - accuracy: 0.8434 - val_loss: 0.4015 - val_accuracy: 0.8546\n",
      "Epoch 5/100\n",
      "329/329 - 1s - loss: 0.4222 - accuracy: 0.8475 - val_loss: 0.3933 - val_accuracy: 0.8575\n",
      "Epoch 6/100\n",
      "329/329 - 1s - loss: 0.4043 - accuracy: 0.8558 - val_loss: 0.3664 - val_accuracy: 0.8665\n",
      "Epoch 7/100\n",
      "329/329 - 1s - loss: 0.3929 - accuracy: 0.8579 - val_loss: 0.3891 - val_accuracy: 0.8589\n",
      "Epoch 8/100\n",
      "329/329 - 1s - loss: 0.3884 - accuracy: 0.8598 - val_loss: 0.3541 - val_accuracy: 0.8701\n",
      "Epoch 9/100\n",
      "329/329 - 1s - loss: 0.3754 - accuracy: 0.8640 - val_loss: 0.3544 - val_accuracy: 0.8724\n",
      "Epoch 10/100\n",
      "329/329 - 1s - loss: 0.3628 - accuracy: 0.8685 - val_loss: 0.3800 - val_accuracy: 0.8603\n",
      "Epoch 11/100\n",
      "329/329 - 1s - loss: 0.3628 - accuracy: 0.8676 - val_loss: 0.3568 - val_accuracy: 0.8691\n",
      "Epoch 12/100\n",
      "329/329 - 1s - loss: 0.3543 - accuracy: 0.8701 - val_loss: 0.3786 - val_accuracy: 0.8662\n",
      "Epoch 13/100\n",
      "329/329 - 1s - loss: 0.3511 - accuracy: 0.8711 - val_loss: 0.3449 - val_accuracy: 0.8772\n",
      "Epoch 14/100\n",
      "329/329 - 1s - loss: 0.3425 - accuracy: 0.8737 - val_loss: 0.3692 - val_accuracy: 0.8679\n",
      "Epoch 15/100\n",
      "329/329 - 1s - loss: 0.3404 - accuracy: 0.8737 - val_loss: 0.3441 - val_accuracy: 0.8732\n",
      "Epoch 16/100\n",
      "329/329 - 1s - loss: 0.3319 - accuracy: 0.8784 - val_loss: 0.3612 - val_accuracy: 0.8679\n",
      "Epoch 17/100\n",
      "329/329 - 1s - loss: 0.3332 - accuracy: 0.8790 - val_loss: 0.3309 - val_accuracy: 0.8816\n",
      "Epoch 18/100\n",
      "329/329 - 1s - loss: 0.3268 - accuracy: 0.8797 - val_loss: 0.3517 - val_accuracy: 0.8744\n",
      "Epoch 19/100\n",
      "329/329 - 1s - loss: 0.3278 - accuracy: 0.8779 - val_loss: 0.3443 - val_accuracy: 0.8747\n",
      "Epoch 20/100\n",
      "329/329 - 1s - loss: 0.3305 - accuracy: 0.8787 - val_loss: 0.3317 - val_accuracy: 0.8828\n",
      "Epoch 21/100\n",
      "329/329 - 1s - loss: 0.3283 - accuracy: 0.8800 - val_loss: 0.3500 - val_accuracy: 0.8748\n",
      "Epoch 22/100\n",
      "329/329 - 1s - loss: 0.3224 - accuracy: 0.8813 - val_loss: 0.3428 - val_accuracy: 0.8786\n",
      "Epoch 23/100\n",
      "329/329 - 1s - loss: 0.3242 - accuracy: 0.8806 - val_loss: 0.3535 - val_accuracy: 0.8760\n",
      "Epoch 24/100\n",
      "329/329 - 1s - loss: 0.3158 - accuracy: 0.8839 - val_loss: 0.3532 - val_accuracy: 0.8730\n",
      "Epoch 25/100\n",
      "329/329 - 1s - loss: 0.3123 - accuracy: 0.8844 - val_loss: 0.3356 - val_accuracy: 0.8791\n",
      "Epoch 26/100\n",
      "329/329 - 1s - loss: 0.3172 - accuracy: 0.8827 - val_loss: 0.3465 - val_accuracy: 0.8766\n",
      "Epoch 27/100\n",
      "329/329 - 1s - loss: 0.3118 - accuracy: 0.8853 - val_loss: 0.3362 - val_accuracy: 0.8801\n",
      "Epoch 28/100\n",
      "329/329 - 1s - loss: 0.3079 - accuracy: 0.8870 - val_loss: 0.3491 - val_accuracy: 0.8749\n",
      "Epoch 29/100\n",
      "329/329 - 1s - loss: 0.3099 - accuracy: 0.8865 - val_loss: 0.3692 - val_accuracy: 0.8674\n",
      "Epoch 30/100\n",
      "329/329 - 1s - loss: 0.3072 - accuracy: 0.8873 - val_loss: 0.3487 - val_accuracy: 0.8766\n",
      "Epoch 31/100\n",
      "329/329 - 1s - loss: 0.3100 - accuracy: 0.8856 - val_loss: 0.3616 - val_accuracy: 0.8719\n",
      "Epoch 32/100\n",
      "329/329 - 1s - loss: 0.3048 - accuracy: 0.8889 - val_loss: 0.3506 - val_accuracy: 0.8768\n",
      "Epoch 33/100\n",
      "329/329 - 1s - loss: 0.2990 - accuracy: 0.8883 - val_loss: 0.3473 - val_accuracy: 0.8774\n",
      "Epoch 34/100\n",
      "329/329 - 1s - loss: 0.2994 - accuracy: 0.8890 - val_loss: 0.3533 - val_accuracy: 0.8753\n",
      "Epoch 35/100\n",
      "329/329 - 1s - loss: 0.2959 - accuracy: 0.8902 - val_loss: 0.3459 - val_accuracy: 0.8777\n",
      "Epoch 36/100\n",
      "329/329 - 1s - loss: 0.2924 - accuracy: 0.8919 - val_loss: 0.3349 - val_accuracy: 0.8809\n",
      "Epoch 37/100\n",
      "329/329 - 1s - loss: 0.2976 - accuracy: 0.8884 - val_loss: 0.3620 - val_accuracy: 0.8705\n",
      "Epoch 38/100\n",
      "329/329 - 1s - loss: 0.2908 - accuracy: 0.8919 - val_loss: 0.3332 - val_accuracy: 0.8853\n",
      "Epoch 39/100\n",
      "329/329 - 1s - loss: 0.2866 - accuracy: 0.8920 - val_loss: 0.3692 - val_accuracy: 0.8730\n",
      "Epoch 40/100\n",
      "329/329 - 1s - loss: 0.2905 - accuracy: 0.8924 - val_loss: 0.3414 - val_accuracy: 0.8801\n",
      "Epoch 41/100\n",
      "329/329 - 1s - loss: 0.2887 - accuracy: 0.8935 - val_loss: 0.3534 - val_accuracy: 0.8781\n",
      "Epoch 42/100\n",
      "329/329 - 1s - loss: 0.2846 - accuracy: 0.8940 - val_loss: 0.3324 - val_accuracy: 0.8822\n",
      "Epoch 43/100\n",
      "329/329 - 1s - loss: 0.2836 - accuracy: 0.8940 - val_loss: 0.3599 - val_accuracy: 0.8700\n",
      "Epoch 44/100\n",
      "329/329 - 1s - loss: 0.2825 - accuracy: 0.8948 - val_loss: 0.3462 - val_accuracy: 0.8786\n",
      "Epoch 45/100\n",
      "329/329 - 1s - loss: 0.2828 - accuracy: 0.8949 - val_loss: 0.3530 - val_accuracy: 0.8754\n",
      "Epoch 46/100\n",
      "329/329 - 1s - loss: 0.2784 - accuracy: 0.8955 - val_loss: 0.3405 - val_accuracy: 0.8827\n",
      "Epoch 47/100\n",
      "329/329 - 1s - loss: 0.2791 - accuracy: 0.8948 - val_loss: 0.3475 - val_accuracy: 0.8795\n",
      "Epoch 48/100\n",
      "329/329 - 1s - loss: 0.2769 - accuracy: 0.8957 - val_loss: 0.3379 - val_accuracy: 0.8791\n",
      "Epoch 49/100\n",
      "329/329 - 1s - loss: 0.2773 - accuracy: 0.8967 - val_loss: 0.3547 - val_accuracy: 0.8766\n",
      "Epoch 50/100\n",
      "329/329 - 1s - loss: 0.2749 - accuracy: 0.8977 - val_loss: 0.3443 - val_accuracy: 0.8788\n",
      "Epoch 51/100\n",
      "329/329 - 1s - loss: 0.2734 - accuracy: 0.8980 - val_loss: 0.3516 - val_accuracy: 0.8771\n",
      "Epoch 52/100\n",
      "329/329 - 1s - loss: 0.2756 - accuracy: 0.8967 - val_loss: 0.3939 - val_accuracy: 0.8656\n",
      "Epoch 53/100\n",
      "329/329 - 1s - loss: 0.2710 - accuracy: 0.8990 - val_loss: 0.4133 - val_accuracy: 0.8556\n",
      "Epoch 54/100\n",
      "329/329 - 1s - loss: 0.2700 - accuracy: 0.8979 - val_loss: 0.3638 - val_accuracy: 0.8758\n",
      "Epoch 55/100\n",
      "329/329 - 1s - loss: 0.2703 - accuracy: 0.8986 - val_loss: 0.3642 - val_accuracy: 0.8747\n",
      "Epoch 56/100\n",
      "329/329 - 1s - loss: 0.2692 - accuracy: 0.8997 - val_loss: 0.3396 - val_accuracy: 0.8808\n",
      "Epoch 57/100\n",
      "329/329 - 1s - loss: 0.2665 - accuracy: 0.9003 - val_loss: 0.3409 - val_accuracy: 0.8790\n",
      "Epoch 58/100\n",
      "329/329 - 1s - loss: 0.2640 - accuracy: 0.9010 - val_loss: 0.3502 - val_accuracy: 0.8807\n",
      "Epoch 59/100\n",
      "329/329 - 1s - loss: 0.2633 - accuracy: 0.9002 - val_loss: 0.3517 - val_accuracy: 0.8784\n",
      "Epoch 60/100\n",
      "329/329 - 1s - loss: 0.2625 - accuracy: 0.9020 - val_loss: 0.3455 - val_accuracy: 0.8792\n",
      "Epoch 61/100\n",
      "329/329 - 1s - loss: 0.2641 - accuracy: 0.9020 - val_loss: 0.3417 - val_accuracy: 0.8816\n",
      "Epoch 62/100\n",
      "329/329 - 1s - loss: 0.2648 - accuracy: 0.9003 - val_loss: 0.3566 - val_accuracy: 0.8809\n",
      "Epoch 63/100\n",
      "329/329 - 1s - loss: 0.2595 - accuracy: 0.9028 - val_loss: 0.3533 - val_accuracy: 0.8816\n",
      "Epoch 64/100\n",
      "329/329 - 1s - loss: 0.2567 - accuracy: 0.9040 - val_loss: 0.3548 - val_accuracy: 0.8774\n",
      "Epoch 65/100\n",
      "329/329 - 1s - loss: 0.2568 - accuracy: 0.9032 - val_loss: 0.3520 - val_accuracy: 0.8795\n",
      "Epoch 66/100\n",
      "329/329 - 1s - loss: 0.2596 - accuracy: 0.9036 - val_loss: 0.3433 - val_accuracy: 0.8819\n",
      "Epoch 67/100\n",
      "329/329 - 1s - loss: 0.2542 - accuracy: 0.9038 - val_loss: 0.3498 - val_accuracy: 0.8834\n",
      "Epoch 68/100\n",
      "329/329 - 1s - loss: 0.2604 - accuracy: 0.9027 - val_loss: 0.3556 - val_accuracy: 0.8766\n",
      "Epoch 69/100\n",
      "329/329 - 1s - loss: 0.2570 - accuracy: 0.9044 - val_loss: 0.3451 - val_accuracy: 0.8790\n",
      "Epoch 70/100\n",
      "329/329 - 1s - loss: 0.2553 - accuracy: 0.9044 - val_loss: 0.3365 - val_accuracy: 0.8849\n",
      "Epoch 71/100\n",
      "329/329 - 1s - loss: 0.2541 - accuracy: 0.9050 - val_loss: 0.3300 - val_accuracy: 0.8862\n",
      "Epoch 72/100\n",
      "329/329 - 1s - loss: 0.2534 - accuracy: 0.9054 - val_loss: 0.3412 - val_accuracy: 0.8814\n",
      "Epoch 73/100\n",
      "329/329 - 1s - loss: 0.2504 - accuracy: 0.9069 - val_loss: 0.3417 - val_accuracy: 0.8840\n",
      "Epoch 74/100\n",
      "329/329 - 1s - loss: 0.2525 - accuracy: 0.9054 - val_loss: 0.3458 - val_accuracy: 0.8822\n",
      "Epoch 75/100\n",
      "329/329 - 1s - loss: 0.2531 - accuracy: 0.9039 - val_loss: 0.3717 - val_accuracy: 0.8796\n",
      "Epoch 76/100\n",
      "329/329 - 1s - loss: 0.2553 - accuracy: 0.9030 - val_loss: 0.3594 - val_accuracy: 0.8759\n",
      "Epoch 77/100\n",
      "329/329 - 1s - loss: 0.2473 - accuracy: 0.9078 - val_loss: 0.3538 - val_accuracy: 0.8815\n",
      "Epoch 78/100\n",
      "329/329 - 1s - loss: 0.2455 - accuracy: 0.9072 - val_loss: 0.3530 - val_accuracy: 0.8800\n",
      "Epoch 79/100\n",
      "329/329 - 1s - loss: 0.2540 - accuracy: 0.9055 - val_loss: 0.3426 - val_accuracy: 0.8798\n",
      "Epoch 80/100\n",
      "329/329 - 1s - loss: 0.2518 - accuracy: 0.9055 - val_loss: 0.3627 - val_accuracy: 0.8726\n",
      "Epoch 81/100\n",
      "329/329 - 1s - loss: 0.2477 - accuracy: 0.9080 - val_loss: 0.3498 - val_accuracy: 0.8828\n"
     ]
    },
    {
     "name": "stdout",
     "output_type": "stream",
     "text": [
      "Epoch 82/100\n",
      "329/329 - 1s - loss: 0.2462 - accuracy: 0.9093 - val_loss: 0.3688 - val_accuracy: 0.8756\n",
      "Epoch 83/100\n",
      "329/329 - 1s - loss: 0.2454 - accuracy: 0.9080 - val_loss: 0.3512 - val_accuracy: 0.8834\n",
      "Epoch 84/100\n",
      "329/329 - 1s - loss: 0.2458 - accuracy: 0.9070 - val_loss: 0.3445 - val_accuracy: 0.8803\n",
      "Epoch 85/100\n",
      "329/329 - 1s - loss: 0.2442 - accuracy: 0.9084 - val_loss: 0.3517 - val_accuracy: 0.8829\n",
      "Epoch 86/100\n",
      "329/329 - 1s - loss: 0.2440 - accuracy: 0.9077 - val_loss: 0.3518 - val_accuracy: 0.8779\n",
      "Epoch 87/100\n",
      "329/329 - 1s - loss: 0.2410 - accuracy: 0.9087 - val_loss: 0.3538 - val_accuracy: 0.8812\n",
      "Epoch 88/100\n",
      "329/329 - 1s - loss: 0.2476 - accuracy: 0.9083 - val_loss: 0.3525 - val_accuracy: 0.8825\n",
      "Epoch 89/100\n",
      "329/329 - 1s - loss: 0.2424 - accuracy: 0.9086 - val_loss: 0.3458 - val_accuracy: 0.8816\n",
      "Epoch 90/100\n",
      "329/329 - 1s - loss: 0.2433 - accuracy: 0.9079 - val_loss: 0.3547 - val_accuracy: 0.8826\n",
      "Epoch 91/100\n",
      "329/329 - 1s - loss: 0.2408 - accuracy: 0.9107 - val_loss: 0.3444 - val_accuracy: 0.8829\n",
      "Epoch 92/100\n",
      "329/329 - 1s - loss: 0.2406 - accuracy: 0.9102 - val_loss: 0.3431 - val_accuracy: 0.8841\n",
      "Epoch 93/100\n",
      "329/329 - 1s - loss: 0.2422 - accuracy: 0.9085 - val_loss: 0.3467 - val_accuracy: 0.8814\n",
      "Epoch 94/100\n",
      "329/329 - 1s - loss: 0.2448 - accuracy: 0.9076 - val_loss: 0.3660 - val_accuracy: 0.8762\n",
      "Epoch 95/100\n",
      "329/329 - 1s - loss: 0.2354 - accuracy: 0.9127 - val_loss: 0.3457 - val_accuracy: 0.8846\n",
      "Epoch 96/100\n",
      "329/329 - 1s - loss: 0.2377 - accuracy: 0.9098 - val_loss: 0.3481 - val_accuracy: 0.8829\n",
      "Epoch 97/100\n",
      "329/329 - 1s - loss: 0.2405 - accuracy: 0.9088 - val_loss: 0.3531 - val_accuracy: 0.8812\n",
      "Epoch 98/100\n",
      "329/329 - 1s - loss: 0.2359 - accuracy: 0.9129 - val_loss: 0.3812 - val_accuracy: 0.8738\n",
      "Epoch 99/100\n",
      "329/329 - 1s - loss: 0.2354 - accuracy: 0.9117 - val_loss: 0.3493 - val_accuracy: 0.8840\n",
      "Epoch 100/100\n",
      "329/329 - 1s - loss: 0.2352 - accuracy: 0.9122 - val_loss: 0.3572 - val_accuracy: 0.8819\n"
     ]
    }
   ],
   "source": [
    "history = model.fit(X_train, y_train, validation_split = 0.3, batch_size=128, epochs = 100, verbose = 2)"
   ]
  },
  {
   "cell_type": "code",
   "execution_count": 40,
   "metadata": {},
   "outputs": [
    {
     "data": {
      "image/png": "[encoded data removed]",
      "text/plain": [
       "<Figure size 432x288 with 1 Axes>"
      ]
     },
     "metadata": {
      "needs_background": "light"
     },
     "output_type": "display_data"
    },
    {
     "data": {
      "image/png": "[encoded data removed]",
      "text/plain": [
       "<Figure size 432x288 with 1 Axes>"
      ]
     },
     "metadata": {
      "needs_background": "light"
     },
     "output_type": "display_data"
    }
   ],
   "source": [
    "plot_history(history)"
   ]
  },
  {
   "cell_type": "markdown",
   "metadata": {
    "id": "R6YP4RHVm816"
   },
   "source": [
    "Validation results does not improve since it did not show signs of overfitting, yet.\n",
    "<br> Hence, the key takeaway message is that apply dropout when you see a signal of overfitting."
   ]
  },
  {
   "cell_type": "code",
   "execution_count": 41,
   "metadata": {
    "colab": {
     "base_uri": "https://localhost:8080/"
    },
    "executionInfo": {
     "elapsed": 1231257,
     "status": "ok",
     "timestamp": 1604685863413,
     "user": {
      "displayName": "Buomsoo Kim",
      "photoUrl": "",
      "userId": "18268696804115368229"
     },
     "user_tz": 420
    },
    "id": "aAPAlxKEm816",
    "outputId": "f85e06a9-e19c-40f6-9afd-4883e4523561"
   },
   "outputs": [
    {
     "name": "stdout",
     "output_type": "stream",
     "text": [
      "313/313 [==============================] - 0s 799us/step - loss: 0.3865 - accuracy: 0.8747\n",
      "Test accuracy:  0.8747000098228455\n"
     ]
    }
   ],
   "source": [
    "results = model.evaluate(X_test, y_test)\n",
    "\n",
    "print('Test accuracy: ', results[1])"
   ]
  },
  {
   "cell_type": "code",
   "execution_count": 42,
   "metadata": {},
   "outputs": [
    {
     "name": "stdout",
     "output_type": "stream",
     "text": [
      "The accuracy of the DropOut is: 0.9122142791748047\n"
     ]
    }
   ],
   "source": [
    "a6 = history.history['accuracy'][np.argmin(history.history['loss'])]\n",
    "print('The accuracy of the DropOut is:', a6)"
   ]
  },
  {
   "cell_type": "code",
   "execution_count": 43,
   "metadata": {},
   "outputs": [
    {
     "data": {
      "text/html": [
       "<div>\n",
       "<style scoped>\n",
       "    .dataframe tbody tr th:only-of-type {\n",
       "        vertical-align: middle;\n",
       "    }\n",
       "\n",
       "    .dataframe tbody tr th {\n",
       "        vertical-align: top;\n",
       "    }\n",
       "\n",
       "    .dataframe thead th {\n",
       "        text-align: right;\n",
       "    }\n",
       "</style>\n",
       "<table border=\"1\" class=\"dataframe\">\n",
       "  <thead>\n",
       "    <tr style=\"text-align: right;\">\n",
       "      <th></th>\n",
       "      <th>Model</th>\n",
       "      <th>Score</th>\n",
       "    </tr>\n",
       "  </thead>\n",
       "  <tbody>\n",
       "    <tr>\n",
       "      <th>4</th>\n",
       "      <td>5)BatchNormalization</td>\n",
       "      <td>0.974238</td>\n",
       "    </tr>\n",
       "    <tr>\n",
       "      <th>3</th>\n",
       "      <td>4)Optimization Adam</td>\n",
       "      <td>0.914786</td>\n",
       "    </tr>\n",
       "    <tr>\n",
       "      <th>5</th>\n",
       "      <td>6)DropOut</td>\n",
       "      <td>0.912214</td>\n",
       "    </tr>\n",
       "    <tr>\n",
       "      <th>2</th>\n",
       "      <td>3)Activation ReLU(ReLU)</td>\n",
       "      <td>0.829119</td>\n",
       "    </tr>\n",
       "    <tr>\n",
       "      <th>1</th>\n",
       "      <td>2)Weight Initialization(He)</td>\n",
       "      <td>0.660571</td>\n",
       "    </tr>\n",
       "    <tr>\n",
       "      <th>0</th>\n",
       "      <td>1)DNN Basic</td>\n",
       "      <td>0.573238</td>\n",
       "    </tr>\n",
       "  </tbody>\n",
       "</table>\n",
       "</div>"
      ],
      "text/plain": [
       "                         Model     Score\n",
       "4         5)BatchNormalization  0.974238\n",
       "3          4)Optimization Adam  0.914786\n",
       "5                    6)DropOut  0.912214\n",
       "2      3)Activation ReLU(ReLU)  0.829119\n",
       "1  2)Weight Initialization(He)  0.660571\n",
       "0                  1)DNN Basic  0.573238"
      ]
     },
     "execution_count": 43,
     "metadata": {},
     "output_type": "execute_result"
    }
   ],
   "source": [
    "models = pd.DataFrame({\n",
    "    'Model': ['1)DNN Basic',  '2)Weight Initialization(He)', '3)Activation ReLU(ReLU)',\n",
    "              '4)Optimization Adam', '5)BatchNormalization','6)DropOut'],\n",
    "    'Score': [a1, a2, a3, a4, a5, a6]})\n",
    "models.sort_values(by='Score', ascending=False)"
   ]
  }
 ],
 "metadata": {
  "colab": {
   "collapsed_sections": [],
   "name": "2-Advanced-MLP.ipynb",
   "provenance": []
  },
  "kernelspec": {
   "display_name": "tf2-cpu",
   "language": "python",
   "name": "tf2-cpu"
  },
  "language_info": {
   "codemirror_mode": {
    "name": "ipython",
    "version": 3
   },
   "file_extension": ".py",
   "mimetype": "text/x-python",
   "name": "python",
   "nbconvert_exporter": "python",
   "pygments_lexer": "ipython3",
   "version": "3.8.0"
  }
 },
 "nbformat": 4,
 "nbformat_minor": 1
}
