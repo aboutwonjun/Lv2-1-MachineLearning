{
 "cells": [
  {
   "cell_type": "markdown",
   "metadata": {},
   "source": [
    "# Tensorflow 2.x 버전 처음 시행하기"
   ]
  },
  {
   "cell_type": "markdown",
   "metadata": {},
   "source": [
    "<table class=\"tfo-notebook-buttons\" align=\"left\">\n",
    "   <td>\n",
    "    <a target=\"_blank\" href=\"https://colab.research.google.com/github/tensorflow/text/blob/master/docs/tutorials/text_classification_rnn.ipynb\"><img src=\"https://www.tensorflow.org/images/colab_logo_32px.png\" />Run in Google Colab</a>\n",
    "  </td>\n",
    "</table>"
   ]
  },
  {
   "cell_type": "markdown",
   "metadata": {
    "colab_type": "text",
    "id": "RFeXSskkFUV-",
    "slideshow": {
     "slide_type": "slide"
    }
   },
   "source": [
    "# Hypothesis and Cost\n",
    "### Hypothesis \n",
    "$$ H(x) = Wx + b $$\n",
    "\n",
    "\n",
    "### Cost\n",
    "$$ cost(W)=\\frac { 1 }{ m } \\sum _{i=1}^{m}{ { (W{ x }^{ i }-y^{ i } })^{ 2 } }  $$\n",
    "\n",
    "우선 cost function은 정답과 예측의 차이의 제곱의 평균으로 만들어서 계산 할 것이다\n"
   ]
  },
  {
   "cell_type": "markdown",
   "metadata": {
    "colab": {},
    "colab_type": "code",
    "id": "dk3ggjvmFUV5",
    "slideshow": {
     "slide_type": "slide"
    }
   },
   "source": [
    "## 케라스로 구현하는 선형 회귀"
   ]
  },
  {
   "cell_type": "code",
   "execution_count": 1,
   "metadata": {
    "colab": {},
    "colab_type": "code",
    "id": "dk3ggjvmFUV5",
    "slideshow": {
     "slide_type": "slide"
    }
   },
   "outputs": [
    {
     "name": "stdout",
     "output_type": "stream",
     "text": [
      "2.5.0\n"
     ]
    }
   ],
   "source": [
    "import tensorflow as tf\n",
    "import numpy as np\n",
    "print(tf.__version__)"
   ]
  },
  {
   "cell_type": "code",
   "execution_count": 2,
   "metadata": {
    "colab": {},
    "colab_type": "code",
    "id": "dk3ggjvmFUV5",
    "slideshow": {
     "slide_type": "slide"
    }
   },
   "outputs": [],
   "source": [
    "from tensorflow.keras.models import Sequential\n",
    "from tensorflow.keras.layers import Dense\n",
    "from tensorflow.keras import optimizers"
   ]
  },
  {
   "cell_type": "code",
   "execution_count": 3,
   "metadata": {
    "colab": {},
    "colab_type": "code",
    "id": "dk3ggjvmFUV5",
    "slideshow": {
     "slide_type": "slide"
    }
   },
   "outputs": [],
   "source": [
    "X=np.array([1,2,3,4,5,6,7,8,9])          # 공부하는 시간\n",
    "y=np.array([12,25,50,42,61, 67, 79, 85, 90]) # 각 공부하는 시간에 맵핑되는 성적"
   ]
  },
  {
   "cell_type": "code",
   "execution_count": 4,
   "metadata": {
    "colab": {},
    "colab_type": "code",
    "id": "dk3ggjvmFUV5",
    "slideshow": {
     "slide_type": "slide"
    }
   },
   "outputs": [],
   "source": [
    "model = Sequential()\n",
    "model.add(Dense(1, input_dim=1, activation='linear'))"
   ]
  },
  {
   "cell_type": "code",
   "execution_count": 5,
   "metadata": {
    "colab": {},
    "colab_type": "code",
    "id": "dk3ggjvmFUV5",
    "slideshow": {
     "slide_type": "slide"
    }
   },
   "outputs": [
    {
     "name": "stderr",
     "output_type": "stream",
     "text": [
      "C:\\Users\\admin\\anaconda3\\envs\\tf2-cpu\\lib\\site-packages\\tensorflow\\python\\keras\\optimizer_v2\\optimizer_v2.py:374: UserWarning: The `lr` argument is deprecated, use `learning_rate` instead.\n",
      "  warnings.warn(\n"
     ]
    }
   ],
   "source": [
    "# sgd는 경사 하강법을 의미. 학습률(learning rate, lr)은 0.01.\n",
    "sgd = optimizers.SGD(lr=0.01)"
   ]
  },
  {
   "cell_type": "markdown",
   "metadata": {},
   "source": [
    "## 회귀에서 \n",
    "- 손실함수는 오차 MSE을 주로 사용한다."
   ]
  },
  {
   "cell_type": "code",
   "execution_count": 6,
   "metadata": {
    "colab": {},
    "colab_type": "code",
    "id": "dk3ggjvmFUV5",
    "slideshow": {
     "slide_type": "slide"
    }
   },
   "outputs": [],
   "source": [
    "# 손실 함수(Loss function)은 평균제곱오차 mse를 사용합니다.\n",
    "model.compile(optimizer=sgd ,loss='mse',metrics=['mse'])"
   ]
  },
  {
   "cell_type": "code",
   "execution_count": 7,
   "metadata": {
    "colab": {},
    "colab_type": "code",
    "id": "dk3ggjvmFUV5",
    "slideshow": {
     "slide_type": "slide"
    }
   },
   "outputs": [
    {
     "name": "stdout",
     "output_type": "stream",
     "text": [
      "Epoch 1/30\n",
      "9/9 [==============================] - 0s 750us/step - loss: 485.1043 - mse: 485.1043\n",
      "Epoch 2/30\n",
      "9/9 [==============================] - 0s 875us/step - loss: 49.3681 - mse: 49.3681\n",
      "Epoch 3/30\n",
      "9/9 [==============================] - 0s 751us/step - loss: 48.6626 - mse: 48.6626\n",
      "Epoch 4/30\n",
      "9/9 [==============================] - 0s 1ms/step - loss: 48.0098 - mse: 48.0098\n",
      "Epoch 5/30\n",
      "9/9 [==============================] - 0s 618us/step - loss: 47.4057 - mse: 47.4057\n",
      "Epoch 6/30\n",
      "9/9 [==============================] - 0s 1ms/step - loss: 46.8473 - mse: 46.8473\n",
      "Epoch 7/30\n",
      "9/9 [==============================] - 0s 746us/step - loss: 46.3312 - mse: 46.3312\n",
      "Epoch 8/30\n",
      "9/9 [==============================] - 0s 872us/step - loss: 45.8546 - mse: 45.8546\n",
      "Epoch 9/30\n",
      "9/9 [==============================] - 0s 868us/step - loss: 45.4146 - mse: 45.4146\n",
      "Epoch 10/30\n",
      "9/9 [==============================] - 0s 619us/step - loss: 45.0087 - mse: 45.0087\n",
      "Epoch 11/30\n",
      "9/9 [==============================] - 0s 745us/step - loss: 44.6346 - mse: 44.6346\n",
      "Epoch 12/30\n",
      "9/9 [==============================] - 0s 620us/step - loss: 44.2899 - mse: 44.2899\n",
      "Epoch 13/30\n",
      "9/9 [==============================] - 0s 873us/step - loss: 43.9726 - mse: 43.9726\n",
      "Epoch 14/30\n",
      "9/9 [==============================] - 0s 991us/step - loss: 43.6808 - mse: 43.6808\n",
      "Epoch 15/30\n",
      "9/9 [==============================] - 0s 1ms/step - loss: 43.4127 - mse: 43.4127\n",
      "Epoch 16/30\n",
      "9/9 [==============================] - 0s 868us/step - loss: 43.1664 - mse: 43.1664\n",
      "Epoch 17/30\n",
      "9/9 [==============================] - 0s 872us/step - loss: 42.9406 - mse: 42.9406\n",
      "Epoch 18/30\n",
      "9/9 [==============================] - 0s 873us/step - loss: 42.7337 - mse: 42.7337\n",
      "Epoch 19/30\n",
      "9/9 [==============================] - 0s 631us/step - loss: 42.5444 - mse: 42.5444\n",
      "Epoch 20/30\n",
      "9/9 [==============================] - 0s 623us/step - loss: 42.3713 - mse: 42.3713\n",
      "Epoch 21/30\n",
      "9/9 [==============================] - 0s 873us/step - loss: 42.2133 - mse: 42.2133\n",
      "Epoch 22/30\n",
      "9/9 [==============================] - 0s 623us/step - loss: 42.0693 - mse: 42.0693\n",
      "Epoch 23/30\n",
      "9/9 [==============================] - 0s 872us/step - loss: 41.9382 - mse: 41.9382\n",
      "Epoch 24/30\n",
      "9/9 [==============================] - 0s 873us/step - loss: 41.8191 - mse: 41.8191\n",
      "Epoch 25/30\n",
      "9/9 [==============================] - 0s 873us/step - loss: 41.7112 - mse: 41.7112\n",
      "Epoch 26/30\n",
      "9/9 [==============================] - 0s 1ms/step - loss: 41.6135 - mse: 41.6135\n",
      "Epoch 27/30\n",
      "9/9 [==============================] - 0s 1ms/step - loss: 41.5253 - mse: 41.5253\n",
      "Epoch 28/30\n",
      "9/9 [==============================] - 0s 873us/step - loss: 41.4459 - mse: 41.4459\n",
      "Epoch 29/30\n",
      "9/9 [==============================] - 0s 1ms/step - loss: 41.3746 - mse: 41.3746\n",
      "Epoch 30/30\n",
      "9/9 [==============================] - 0s 1ms/step - loss: 41.3108 - mse: 41.3108\n"
     ]
    }
   ],
   "source": [
    "# 주어진 X와 y데이터에 대해서 오차를 최소화하는 작업을 300번 시도합니다.\n",
    "history=model.fit(X,y, batch_size=1, epochs=30, shuffle=False)"
   ]
  },
  {
   "cell_type": "code",
   "execution_count": 8,
   "metadata": {},
   "outputs": [],
   "source": [
    "%matplotlib inline"
   ]
  },
  {
   "cell_type": "code",
   "execution_count": 9,
   "metadata": {},
   "outputs": [],
   "source": [
    "import matplotlib.pyplot as plt"
   ]
  },
  {
   "cell_type": "code",
   "execution_count": 10,
   "metadata": {
    "scrolled": true
   },
   "outputs": [
    {
     "data": {
      "text/plain": [
       "[<matplotlib.lines.Line2D at 0x2d785d167c0>,\n",
       " <matplotlib.lines.Line2D at 0x2d785d16e80>]"
      ]
     },
     "execution_count": 10,
     "metadata": {},
     "output_type": "execute_result"
    },
    {
     "data": {
      "image/png": "[encoded data removed]",
      "text/plain": [
       "<Figure size 432x288 with 1 Axes>"
      ]
     },
     "metadata": {
      "needs_background": "light"
     },
     "output_type": "display_data"
    }
   ],
   "source": [
    "plt.plot(X, model.predict(X), 'b', X,y, 'k.')"
   ]
  },
  {
   "cell_type": "code",
   "execution_count": 11,
   "metadata": {},
   "outputs": [
    {
     "data": {
      "image/png": "[encoded data removed]",
      "text/plain": [
       "<Figure size 432x288 with 1 Axes>"
      ]
     },
     "metadata": {
      "needs_background": "light"
     },
     "output_type": "display_data"
    }
   ],
   "source": [
    "epochs = range(1, len(history.history['mse']) + 1)\n",
    "plt.plot(epochs, history.history['loss'])\n",
    "plt.title('model loss')\n",
    "plt.ylabel('loss')\n",
    "plt.xlabel('epoch')\n",
    "plt.legend(['train'], loc='upper left')\n",
    "plt.show()"
   ]
  }
 ],
 "metadata": {
  "colab": {
   "collapsed_sections": [],
   "name": "lab-02-1-Simple-Liner-Regression-eager.ipynb",
   "provenance": [],
   "version": "0.3.2"
  },
  "kernelspec": {
   "display_name": "tf2-cpu",
   "language": "python",
   "name": "tf2-cpu"
  },
  "language_info": {
   "codemirror_mode": {
    "name": "ipython",
    "version": 3
   },
   "file_extension": ".py",
   "mimetype": "text/x-python",
   "name": "python",
   "nbconvert_exporter": "python",
   "pygments_lexer": "ipython3",
   "version": "3.8.0"
  }
 },
 "nbformat": 4,
 "nbformat_minor": 4
}
