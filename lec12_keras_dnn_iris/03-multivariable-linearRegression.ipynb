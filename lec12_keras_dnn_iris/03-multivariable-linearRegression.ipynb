{
 "cells": [
  {
   "cell_type": "markdown",
   "metadata": {
    "colab": {},
    "colab_type": "code",
    "id": "dk3ggjvmFUV5",
    "slideshow": {
     "slide_type": "slide"
    }
   },
   "source": [
    "## 선형 로지스틱 회귀"
   ]
  },
  {
   "cell_type": "markdown",
   "metadata": {},
   "source": [
    "<table class=\"tfo-notebook-buttons\" align=\"left\">\n",
    "   <td>\n",
    "    <a target=\"_blank\" href=\"https://colab.research.google.com/github/tensorflow/text/blob/master/docs/tutorials/text_classification_rnn.ipynb\"><img src=\"https://www.tensorflow.org/images/colab_logo_32px.png\" />Run in Google Colab</a>\n",
    "  </td>\n",
    "</table>"
   ]
  },
  {
   "cell_type": "code",
   "execution_count": 1,
   "metadata": {},
   "outputs": [],
   "source": [
    "import numpy as np\n",
    "import tensorflow as tf\n",
    "from tensorflow.keras.models import Sequential # 케라스의 Sequential()을 임포트\n",
    "from tensorflow.keras.layers import Dense     # 케라스의 Dense()를 임포트\n",
    "from tensorflow.keras import optimizers       # 케라스의 옵티마이저를 임포트"
   ]
  },
  {
   "cell_type": "markdown",
   "metadata": {},
   "source": [
    "- 입력 벡터의 차원은 3입니다. 즉, input_dim은 3입니다.\n",
    "- 출력 벡터의 차원은 1입니다. 즉, output_dim은 1입니다."
   ]
  },
  {
   "cell_type": "code",
   "execution_count": 2,
   "metadata": {},
   "outputs": [],
   "source": [
    "X=np.array([[70,85,11],[71,89,18],[50,80,20],[99,20,10],[50,10,10]])    # 중간, 기말, 가산점\n",
    "y=np.array([73,82,72,57,34])                 # 최종 성적"
   ]
  },
  {
   "cell_type": "code",
   "execution_count": 3,
   "metadata": {},
   "outputs": [
    {
     "data": {
      "text/plain": [
       "(5, 3)"
      ]
     },
     "execution_count": 3,
     "metadata": {},
     "output_type": "execute_result"
    }
   ],
   "source": [
    "X.shape"
   ]
  },
  {
   "cell_type": "code",
   "execution_count": 4,
   "metadata": {},
   "outputs": [
    {
     "name": "stderr",
     "output_type": "stream",
     "text": [
      "C:\\Users\\admin\\anaconda3\\envs\\tf2-cpu\\lib\\site-packages\\tensorflow\\python\\keras\\optimizer_v2\\optimizer_v2.py:374: UserWarning: The `lr` argument is deprecated, use `learning_rate` instead.\n",
      "  warnings.warn(\n"
     ]
    }
   ],
   "source": [
    "model=Sequential()\n",
    "model.add(Dense(1, input_dim=3, activation='linear'))\n",
    "sgd=optimizers.SGD(lr=0.0001)\n",
    "model.compile(optimizer=sgd ,loss='mse',metrics=['mse'])"
   ]
  },
  {
   "cell_type": "code",
   "execution_count": 5,
   "metadata": {},
   "outputs": [
    {
     "name": "stdout",
     "output_type": "stream",
     "text": [
      "Epoch 1/30\n",
      "1/1 [==============================] - 0s 197ms/step - loss: 21919.8711 - mse: 21919.8711\n",
      "Epoch 2/30\n",
      "1/1 [==============================] - 0s 2ms/step - loss: 11634.3809 - mse: 11634.3809\n",
      "Epoch 3/30\n",
      "1/1 [==============================] - 0s 2ms/step - loss: 6185.9961 - mse: 6185.9961\n",
      "Epoch 4/30\n",
      "1/1 [==============================] - 0s 3ms/step - loss: 3296.3823 - mse: 3296.3823\n",
      "Epoch 5/30\n",
      "1/1 [==============================] - 0s 3ms/step - loss: 1761.5121 - mse: 1761.5121\n",
      "Epoch 6/30\n",
      "1/1 [==============================] - 0s 3ms/step - loss: 944.6951 - mse: 944.6951\n",
      "Epoch 7/30\n",
      "1/1 [==============================] - 0s 2ms/step - loss: 508.9865 - mse: 508.9865\n",
      "Epoch 8/30\n",
      "1/1 [==============================] - 0s 2ms/step - loss: 275.8955 - mse: 275.8955\n",
      "Epoch 9/30\n",
      "1/1 [==============================] - 0s 2ms/step - loss: 150.7549 - mse: 150.7549\n",
      "Epoch 10/30\n",
      "1/1 [==============================] - 0s 2ms/step - loss: 83.2777 - mse: 83.2777\n",
      "Epoch 11/30\n",
      "1/1 [==============================] - 0s 2ms/step - loss: 46.7014 - mse: 46.7014\n",
      "Epoch 12/30\n",
      "1/1 [==============================] - 0s 2ms/step - loss: 26.7493 - mse: 26.7493\n",
      "Epoch 13/30\n",
      "1/1 [==============================] - 0s 2ms/step - loss: 15.7834 - mse: 15.7834\n",
      "Epoch 14/30\n",
      "1/1 [==============================] - 0s 995us/step - loss: 9.7028 - mse: 9.7028\n",
      "Epoch 15/30\n",
      "1/1 [==============================] - 0s 2ms/step - loss: 6.2961 - mse: 6.2961\n",
      "Epoch 16/30\n",
      "1/1 [==============================] - 0s 4ms/step - loss: 4.3645 - mse: 4.3645\n",
      "Epoch 17/30\n",
      "1/1 [==============================] - 0s 2ms/step - loss: 3.2541 - mse: 3.2541\n",
      "Epoch 18/30\n",
      "1/1 [==============================] - 0s 1ms/step - loss: 2.6058 - mse: 2.6058\n",
      "Epoch 19/30\n",
      "1/1 [==============================] - 0s 2ms/step - loss: 2.2205 - mse: 2.2205\n",
      "Epoch 20/30\n",
      "1/1 [==============================] - 0s 2ms/step - loss: 1.9866 - mse: 1.9866\n",
      "Epoch 21/30\n",
      "1/1 [==============================] - 0s 962us/step - loss: 1.8412 - mse: 1.8412\n",
      "Epoch 22/30\n",
      "1/1 [==============================] - 0s 2ms/step - loss: 1.7481 - mse: 1.7481\n",
      "Epoch 23/30\n",
      "1/1 [==============================] - 0s 1ms/step - loss: 1.6865 - mse: 1.6865\n",
      "Epoch 24/30\n",
      "1/1 [==============================] - 0s 997us/step - loss: 1.6440 - mse: 1.6440\n",
      "Epoch 25/30\n",
      "1/1 [==============================] - 0s 998us/step - loss: 1.6134 - mse: 1.6134\n",
      "Epoch 26/30\n",
      "1/1 [==============================] - 0s 4ms/step - loss: 1.5901 - mse: 1.5901\n",
      "Epoch 27/30\n",
      "1/1 [==============================] - 0s 2ms/step - loss: 1.5714 - mse: 1.5714\n",
      "Epoch 28/30\n",
      "1/1 [==============================] - 0s 2ms/step - loss: 1.5558 - mse: 1.5558\n",
      "Epoch 29/30\n",
      "1/1 [==============================] - 0s 3ms/step - loss: 1.5421 - mse: 1.5421\n",
      "Epoch 30/30\n",
      "1/1 [==============================] - 0s 3ms/step - loss: 1.5296 - mse: 1.5296\n"
     ]
    }
   ],
   "source": [
    "history = model.fit(X, y, epochs=30)"
   ]
  },
  {
   "cell_type": "code",
   "execution_count": 6,
   "metadata": {},
   "outputs": [],
   "source": [
    "%matplotlib inline\n",
    "import matplotlib.pyplot as plt"
   ]
  },
  {
   "cell_type": "code",
   "execution_count": 7,
   "metadata": {},
   "outputs": [
    {
     "data": {
      "image/png": "[encoded data removed]",
      "text/plain": [
       "<Figure size 432x288 with 1 Axes>"
      ]
     },
     "metadata": {
      "needs_background": "light"
     },
     "output_type": "display_data"
    }
   ],
   "source": [
    "epochs = range(1, len(history.history['mse']) + 1)\n",
    "plt.plot(epochs, history.history['loss'])\n",
    "plt.title('model loss')\n",
    "plt.ylabel('loss')\n",
    "plt.xlabel('epoch')\n",
    "plt.legend(['train'] )\n",
    "plt.show()"
   ]
  },
  {
   "cell_type": "code",
   "execution_count": 8,
   "metadata": {},
   "outputs": [],
   "source": [
    "import os\n",
    "logdir = os.path.join(os.curdir, \"logs\")"
   ]
  },
  {
   "cell_type": "code",
   "execution_count": 9,
   "metadata": {},
   "outputs": [],
   "source": [
    "def get_run_logdir():\n",
    "    import time\n",
    "    run_id = time.strftime(\"run_%Y_%m_%d-%H_%M_%S\")\n",
    "    return os.path.join(logdir, run_id)"
   ]
  },
  {
   "cell_type": "code",
   "execution_count": 10,
   "metadata": {},
   "outputs": [
    {
     "data": {
      "text/plain": [
       "'.\\\\logs\\\\run_2021_11_15-22_59_29'"
      ]
     },
     "execution_count": 10,
     "metadata": {},
     "output_type": "execute_result"
    }
   ],
   "source": [
    "dir = get_run_logdir()\n",
    "dir"
   ]
  },
  {
   "cell_type": "code",
   "execution_count": 11,
   "metadata": {},
   "outputs": [],
   "source": [
    "tf.keras.backend.clear_session()\n",
    "np.random.seed(42)\n",
    "tf.random.set_seed(42)"
   ]
  },
  {
   "cell_type": "code",
   "execution_count": 12,
   "metadata": {},
   "outputs": [],
   "source": [
    "checkpoint_cb = tf.keras.callbacks.ModelCheckpoint(\"my_keras_model.h5\", save_best_only=True)"
   ]
  },
  {
   "cell_type": "code",
   "execution_count": 13,
   "metadata": {},
   "outputs": [
    {
     "name": "stdout",
     "output_type": "stream",
     "text": [
      "Epoch 1/30\n",
      "1/1 [==============================] - 0s 33ms/step - loss: 1.5180 - mse: 1.5180\n",
      "WARNING:tensorflow:Can save best model only with val_loss available, skipping.\n",
      "Epoch 2/30\n",
      "1/1 [==============================] - 0s 129ms/step - loss: 1.5070 - mse: 1.5070\n",
      "WARNING:tensorflow:Can save best model only with val_loss available, skipping.\n",
      "Epoch 3/30\n",
      "1/1 [==============================] - 0s 3ms/step - loss: 1.4964 - mse: 1.4964\n",
      "WARNING:tensorflow:Can save best model only with val_loss available, skipping.\n",
      "Epoch 4/30\n",
      "1/1 [==============================] - 0s 2ms/step - loss: 1.4861 - mse: 1.4861\n",
      "WARNING:tensorflow:Can save best model only with val_loss available, skipping.\n",
      "Epoch 5/30\n",
      "1/1 [==============================] - 0s 4ms/step - loss: 1.4760 - mse: 1.4760\n",
      "WARNING:tensorflow:Can save best model only with val_loss available, skipping.\n",
      "Epoch 6/30\n",
      "1/1 [==============================] - 0s 2ms/step - loss: 1.4660 - mse: 1.4660\n",
      "WARNING:tensorflow:Can save best model only with val_loss available, skipping.\n",
      "Epoch 7/30\n",
      "1/1 [==============================] - 0s 3ms/step - loss: 1.4562 - mse: 1.4562\n",
      "WARNING:tensorflow:Can save best model only with val_loss available, skipping.\n",
      "Epoch 8/30\n",
      "1/1 [==============================] - 0s 2ms/step - loss: 1.4465 - mse: 1.4465\n",
      "WARNING:tensorflow:Can save best model only with val_loss available, skipping.\n",
      "Epoch 9/30\n",
      "1/1 [==============================] - 0s 3ms/step - loss: 1.4368 - mse: 1.4368\n",
      "WARNING:tensorflow:Can save best model only with val_loss available, skipping.\n",
      "Epoch 10/30\n",
      "1/1 [==============================] - 0s 2ms/step - loss: 1.4273 - mse: 1.4273\n",
      "WARNING:tensorflow:Can save best model only with val_loss available, skipping.\n",
      "Epoch 11/30\n",
      "1/1 [==============================] - 0s 3ms/step - loss: 1.4178 - mse: 1.4178\n",
      "WARNING:tensorflow:Can save best model only with val_loss available, skipping.\n",
      "Epoch 12/30\n",
      "1/1 [==============================] - 0s 2ms/step - loss: 1.4084 - mse: 1.4084\n",
      "WARNING:tensorflow:Can save best model only with val_loss available, skipping.\n",
      "Epoch 13/30\n",
      "1/1 [==============================] - 0s 2ms/step - loss: 1.3991 - mse: 1.3991\n",
      "WARNING:tensorflow:Can save best model only with val_loss available, skipping.\n",
      "Epoch 14/30\n",
      "1/1 [==============================] - 0s 2ms/step - loss: 1.3898 - mse: 1.3898\n",
      "WARNING:tensorflow:Can save best model only with val_loss available, skipping.\n",
      "Epoch 15/30\n",
      "1/1 [==============================] - 0s 2ms/step - loss: 1.3806 - mse: 1.3806\n",
      "WARNING:tensorflow:Can save best model only with val_loss available, skipping.\n",
      "Epoch 16/30\n",
      "1/1 [==============================] - 0s 2ms/step - loss: 1.3715 - mse: 1.3715\n",
      "WARNING:tensorflow:Can save best model only with val_loss available, skipping.\n",
      "Epoch 17/30\n",
      "1/1 [==============================] - 0s 2ms/step - loss: 1.3624 - mse: 1.3624\n",
      "WARNING:tensorflow:Can save best model only with val_loss available, skipping.\n",
      "Epoch 18/30\n",
      "1/1 [==============================] - 0s 2ms/step - loss: 1.3534 - mse: 1.3534\n",
      "WARNING:tensorflow:Can save best model only with val_loss available, skipping.\n",
      "Epoch 19/30\n",
      "1/1 [==============================] - 0s 2ms/step - loss: 1.3444 - mse: 1.3444\n",
      "WARNING:tensorflow:Can save best model only with val_loss available, skipping.\n",
      "Epoch 20/30\n",
      "1/1 [==============================] - 0s 2ms/step - loss: 1.3356 - mse: 1.3356\n",
      "WARNING:tensorflow:Can save best model only with val_loss available, skipping.\n",
      "Epoch 21/30\n",
      "1/1 [==============================] - 0s 997us/step - loss: 1.3267 - mse: 1.3267\n",
      "WARNING:tensorflow:Can save best model only with val_loss available, skipping.\n",
      "Epoch 22/30\n",
      "1/1 [==============================] - 0s 999us/step - loss: 1.3179 - mse: 1.3179\n",
      "WARNING:tensorflow:Can save best model only with val_loss available, skipping.\n",
      "Epoch 23/30\n",
      "1/1 [==============================] - 0s 2ms/step - loss: 1.3092 - mse: 1.3092\n",
      "WARNING:tensorflow:Can save best model only with val_loss available, skipping.\n",
      "Epoch 24/30\n",
      "1/1 [==============================] - 0s 4ms/step - loss: 1.3006 - mse: 1.3006\n",
      "WARNING:tensorflow:Can save best model only with val_loss available, skipping.\n",
      "Epoch 25/30\n",
      "1/1 [==============================] - 0s 2ms/step - loss: 1.2920 - mse: 1.2920\n",
      "WARNING:tensorflow:Can save best model only with val_loss available, skipping.\n",
      "Epoch 26/30\n",
      "1/1 [==============================] - 0s 2ms/step - loss: 1.2834 - mse: 1.2834\n",
      "WARNING:tensorflow:Can save best model only with val_loss available, skipping.\n",
      "Epoch 27/30\n",
      "1/1 [==============================] - 0s 2ms/step - loss: 1.2749 - mse: 1.2749\n",
      "WARNING:tensorflow:Can save best model only with val_loss available, skipping.\n",
      "Epoch 28/30\n",
      "1/1 [==============================] - 0s 3ms/step - loss: 1.2665 - mse: 1.2665\n",
      "WARNING:tensorflow:Can save best model only with val_loss available, skipping.\n",
      "Epoch 29/30\n",
      "1/1 [==============================] - 0s 2ms/step - loss: 1.2581 - mse: 1.2581\n",
      "WARNING:tensorflow:Can save best model only with val_loss available, skipping.\n",
      "Epoch 30/30\n",
      "1/1 [==============================] - 0s 3ms/step - loss: 1.2498 - mse: 1.2498\n",
      "WARNING:tensorflow:Can save best model only with val_loss available, skipping.\n"
     ]
    }
   ],
   "source": [
    "tensorboard_cb = tf.keras.callbacks.TensorBoard(logdir)\n",
    "history = model.fit(X, y, epochs=30,\n",
    "                    #validation_data=(X_valid, y_valid),\n",
    "                    callbacks=[checkpoint_cb, tensorboard_cb])"
   ]
  },
  {
   "cell_type": "markdown",
   "metadata": {},
   "source": [
    "텐서보드 서버를 실행하는 한 가지 방법은 터미널에서 직접 실행하는 것입니다. 터미널을 열고 텐서보드가 설치된 가상 환경을 활성화합니다. 그다음 노트북 디렉토리로 이동하여 다음 명령을 입력하세요:\n",
    "\n",
    "```bash\n",
    "$ tensorboard --logdir=./my_logs --port=6006\n",
    "```\n",
    "\n",
    "그다음 웹 브라우저를 열고 [localhost:6006](http://localhost:6006)에 접속하면 텐서보드를 사용할 수 있습니다. 사용이 끝나면 터미널에서 Ctrl-C를 눌러 텐서보드 서버를 종료하세요.\n",
    "\n",
    "또는 다음처럼 텐서보드의 주피터 확장을 사용할 수 있습니다(이 명령은 텐서보드가 로컬 컴퓨터에 설치되어 있어야 합니다):"
   ]
  },
  {
   "cell_type": "code",
   "execution_count": 14,
   "metadata": {},
   "outputs": [
    {
     "data": {
      "text/html": [
       "\n",
       "      <iframe id=\"tensorboard-frame-77c2fd99226a9c95\" width=\"100%\" height=\"800\" frameborder=\"0\">\n",
       "      </iframe>\n",
       "      <script>\n",
       "        (function() {\n",
       "          const frame = document.getElementById(\"tensorboard-frame-77c2fd99226a9c95\");\n",
       "          const url = new URL(\"/\", window.location);\n",
       "          const port = 6006;\n",
       "          if (port) {\n",
       "            url.port = port;\n",
       "          }\n",
       "          frame.src = url;\n",
       "        })();\n",
       "      </script>\n",
       "    "
      ],
      "text/plain": [
       "<IPython.core.display.HTML object>"
      ]
     },
     "metadata": {},
     "output_type": "display_data"
    }
   ],
   "source": [
    "%load_ext tensorboard\n",
    "%tensorboard --logdir=./logs --port=6006"
   ]
  },
  {
   "cell_type": "code",
   "execution_count": null,
   "metadata": {},
   "outputs": [],
   "source": []
  }
 ],
 "metadata": {
  "colab": {
   "collapsed_sections": [],
   "name": "lab-02-1-Simple-Liner-Regression-eager.ipynb",
   "provenance": [],
   "version": "0.3.2"
  },
  "kernelspec": {
   "display_name": "tf2-cpu",
   "language": "python",
   "name": "tf2-cpu"
  },
  "language_info": {
   "codemirror_mode": {
    "name": "ipython",
    "version": 3
   },
   "file_extension": ".py",
   "mimetype": "text/x-python",
   "name": "python",
   "nbconvert_exporter": "python",
   "pygments_lexer": "ipython3",
   "version": "3.8.0"
  }
 },
 "nbformat": 4,
 "nbformat_minor": 4
}
